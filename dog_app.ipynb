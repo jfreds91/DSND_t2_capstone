{
 "cells": [
  {
   "cell_type": "markdown",
   "metadata": {},
   "source": [
    "# Artificial Intelligence Nanodegree\n",
    "\n",
    "## Convolutional Neural Networks\n",
    "\n",
    "## Project: Write an Algorithm for a Dog Identification App \n",
    "\n",
    "---\n",
    "\n",
    "In this notebook, some template code has already been provided for you, and you will need to implement additional functionality to successfully complete this project. You will not need to modify the included code beyond what is requested. Sections that begin with **'(IMPLEMENTATION)'** in the header indicate that the following block of code will require additional functionality which you must provide. Instructions will be provided for each section, and the specifics of the implementation are marked in the code block with a 'TODO' statement. Please be sure to read the instructions carefully! \n",
    "\n",
    "> **Note**: Once you have completed all of the code implementations, you need to finalize your work by exporting the iPython Notebook as an HTML document. Before exporting the notebook to html, all of the code cells need to have been run so that reviewers can see the final implementation and output. You can then export the notebook by using the menu above and navigating to  \\n\",\n",
    "    \"**File -> Download as -> HTML (.html)**. Include the finished document along with this notebook as your submission.\n",
    "\n",
    "In addition to implementing code, there will be questions that you must answer which relate to the project and your implementation. Each section where you will answer a question is preceded by a **'Question X'** header. Carefully read each question and provide thorough answers in the following text boxes that begin with **'Answer:'**. Your project submission will be evaluated based on your answers to each of the questions and the implementation you provide.\n",
    "\n",
    ">**Note:** Code and Markdown cells can be executed using the **Shift + Enter** keyboard shortcut.  Markdown cells can be edited by double-clicking the cell to enter edit mode.\n",
    "\n",
    "The rubric contains _optional_ \"Stand Out Suggestions\" for enhancing the project beyond the minimum requirements. If you decide to pursue the \"Stand Out Suggestions\", you should include the code in this IPython notebook.\n",
    "\n",
    "\n",
    "\n",
    "---\n",
    "### Why We're Here \n",
    "\n",
    "In this notebook, you will make the first steps towards developing an algorithm that could be used as part of a mobile or web app.  At the end of this project, your code will accept any user-supplied image as input.  If a dog is detected in the image, it will provide an estimate of the dog's breed.  If a human is detected, it will provide an estimate of the dog breed that is most resembling.  The image below displays potential sample output of your finished project (... but we expect that each student's algorithm will behave differently!). \n",
    "\n",
    "![Sample Dog Output](images/sample_dog_output.png)\n",
    "\n",
    "In this real-world setting, you will need to piece together a series of models to perform different tasks; for instance, the algorithm that detects humans in an image will be different from the CNN that infers dog breed.  There are many points of possible failure, and no perfect algorithm exists.  Your imperfect solution will nonetheless create a fun user experience!\n",
    "\n",
    "### The Road Ahead\n",
    "\n",
    "We break the notebook into separate steps.  Feel free to use the links below to navigate the notebook.\n",
    "\n",
    "* [Step 0](#step0): Import Datasets\n",
    "* [Step 1](#step1): Detect Humans\n",
    "* [Step 2](#step2): Detect Dogs\n",
    "* [Step 3](#step3): Create a CNN to Classify Dog Breeds (from Scratch)\n",
    "* [Step 4](#step4): Use a CNN to Classify Dog Breeds (using Transfer Learning)\n",
    "* [Step 5](#step5): Create a CNN to Classify Dog Breeds (using Transfer Learning)\n",
    "* [Step 6](#step6): Write your Algorithm\n",
    "* [Step 7](#step7): Test Your Algorithm\n",
    "\n",
    "---\n",
    "<a id='step0'></a>\n",
    "## Step 0: Import Datasets\n",
    "\n",
    "### Import Dog Dataset\n",
    "\n",
    "In the code cell below, we import a dataset of dog images.  We populate a few variables through the use of the `load_files` function from the scikit-learn library:\n",
    "- `train_files`, `valid_files`, `test_files` - numpy arrays containing file paths to images\n",
    "- `train_targets`, `valid_targets`, `test_targets` - numpy arrays containing onehot-encoded classification labels \n",
    "- `dog_names` - list of string-valued dog breed names for translating labels"
   ]
  },
  {
   "cell_type": "code",
   "execution_count": 1,
   "metadata": {},
   "outputs": [
    {
     "name": "stderr",
     "output_type": "stream",
     "text": [
      "Using TensorFlow backend.\n"
     ]
    },
    {
     "name": "stdout",
     "output_type": "stream",
     "text": [
      "There are 133 total dog categories.\n",
      "There are 8351 total dog images.\n",
      "\n",
      "There are 6680 training dog images.\n",
      "There are 835 validation dog images.\n",
      "There are 836 test dog images.\n"
     ]
    }
   ],
   "source": [
    "from sklearn.datasets import load_files       \n",
    "from keras.utils import np_utils\n",
    "import numpy as np\n",
    "from glob import glob\n",
    "\n",
    "# define function to load train, test, and validation datasets\n",
    "def load_dataset(path):\n",
    "    data = load_files(path)\n",
    "    dog_files = np.array(data['filenames'])\n",
    "    dog_targets = np_utils.to_categorical(np.array(data['target']))#, 133)\n",
    "    return dog_files, dog_targets\n",
    "\n",
    "# load train, test, and validation datasets\n",
    "train_files, train_targets = load_dataset('dogImages/train')\n",
    "valid_files, valid_targets = load_dataset('dogImages/valid')\n",
    "test_files, test_targets = load_dataset('dogImages/test')\n",
    "\n",
    "# load list of dog names\n",
    "# the [20:-1] portion simply removes the filepath and folder number\n",
    "dog_names = [item[20:-1] for item in sorted(glob(\"dogImages/train/*/\"))]\n",
    "\n",
    "# print statistics about the dataset\n",
    "print('There are %d total dog categories.' % len(dog_names))\n",
    "print('There are %s total dog images.\\n' % len(np.hstack([train_files, valid_files, test_files])))\n",
    "print('There are %d training dog images.' % len(train_files))\n",
    "print('There are %d validation dog images.' % len(valid_files))\n",
    "print('There are %d test dog images.'% len(test_files))"
   ]
  },
  {
   "cell_type": "code",
   "execution_count": 2,
   "metadata": {},
   "outputs": [
    {
     "data": {
      "text/plain": [
       "(6680,)"
      ]
     },
     "execution_count": 2,
     "metadata": {},
     "output_type": "execute_result"
    }
   ],
   "source": [
    "train_files.shape"
   ]
  },
  {
   "cell_type": "markdown",
   "metadata": {},
   "source": [
    "### Import Human Dataset\n",
    "\n",
    "In the code cell below, we import a dataset of human images, where the file paths are stored in the numpy array `human_files`."
   ]
  },
  {
   "cell_type": "code",
   "execution_count": 3,
   "metadata": {},
   "outputs": [
    {
     "name": "stdout",
     "output_type": "stream",
     "text": [
      "There are 13233 total human images.\n"
     ]
    }
   ],
   "source": [
    "import random\n",
    "random.seed(8675309)\n",
    "\n",
    "# load filenames in shuffled human dataset\n",
    "human_files = np.array(glob(\"lfw/*/*\"))\n",
    "random.shuffle(human_files)\n",
    "\n",
    "# print statistics about the dataset\n",
    "print('There are %d total human images.' % len(human_files))"
   ]
  },
  {
   "cell_type": "markdown",
   "metadata": {},
   "source": [
    "---\n",
    "<a id='step1'></a>\n",
    "## Step 1: Detect Humans\n",
    "\n",
    "We use OpenCV's implementation of [Haar feature-based cascade classifiers](http://docs.opencv.org/trunk/d7/d8b/tutorial_py_face_detection.html) to detect human faces in images.  OpenCV provides many pre-trained face detectors, stored as XML files on [github](https://github.com/opencv/opencv/tree/master/data/haarcascades).  We have downloaded one of these detectors and stored it in the `haarcascades` directory.\n",
    "\n",
    "In the next code cell, we demonstrate how to use this detector to find human faces in a sample image."
   ]
  },
  {
   "cell_type": "code",
   "execution_count": 4,
   "metadata": {},
   "outputs": [
    {
     "name": "stdout",
     "output_type": "stream",
     "text": [
      "Number of faces detected: 1\n"
     ]
    },
    {
     "data": {
      "image/png": "[encoded data removed]",
      "text/plain": [
       "<Figure size 432x288 with 1 Axes>"
      ]
     },
     "metadata": {
      "needs_background": "light"
     },
     "output_type": "display_data"
    }
   ],
   "source": [
    "import cv2                \n",
    "import matplotlib.pyplot as plt                        \n",
    "%matplotlib inline                               \n",
    "\n",
    "# extract pre-trained face detector\n",
    "face_cascade = cv2.CascadeClassifier('haarcascades/haarcascade_frontalface_alt.xml')\n",
    "\n",
    "# load color (BGR) image\n",
    "img = cv2.imread(human_files[5])\n",
    "# convert BGR image to grayscale\n",
    "gray = cv2.cvtColor(img, cv2.COLOR_BGR2GRAY)\n",
    "\n",
    "# find faces in image\n",
    "faces = face_cascade.detectMultiScale(gray)\n",
    "\n",
    "# print number of faces detected in the image\n",
    "print('Number of faces detected:', len(faces))\n",
    "\n",
    "# get bounding box for each detected face\n",
    "for (x,y,w,h) in faces:\n",
    "    # add bounding box to color image\n",
    "    cv2.rectangle(img,(x,y),(x+w,y+h),(255,0,0),2)\n",
    "    \n",
    "# convert BGR image to RGB for plotting\n",
    "cv_rgb = cv2.cvtColor(img, cv2.COLOR_BGR2RGB)\n",
    "\n",
    "# display the image, along with bounding box\n",
    "plt.imshow(cv_rgb)\n",
    "plt.show()"
   ]
  },
  {
   "cell_type": "markdown",
   "metadata": {},
   "source": [
    "Before using any of the face detectors, it is standard procedure to convert the images to grayscale.  The `detectMultiScale` function executes the classifier stored in `face_cascade` and takes the grayscale image as a parameter.  \n",
    "\n",
    "In the above code, `faces` is a numpy array of detected faces, where each row corresponds to a detected face.  Each detected face is a 1D array with four entries that specifies the bounding box of the detected face.  The first two entries in the array (extracted in the above code as `x` and `y`) specify the horizontal and vertical positions of the top left corner of the bounding box.  The last two entries in the array (extracted here as `w` and `h`) specify the width and height of the box.\n",
    "\n",
    "### Write a Human Face Detector\n",
    "\n",
    "We can use this procedure to write a function that returns `True` if a human face is detected in an image and `False` otherwise.  This function, aptly named `face_detector`, takes a string-valued file path to an image as input and appears in the code block below."
   ]
  },
  {
   "cell_type": "code",
   "execution_count": 5,
   "metadata": {},
   "outputs": [],
   "source": [
    "# returns \"True\" if face is detected in image stored at img_path\n",
    "def face_detector(img_path):\n",
    "    img = cv2.imread(img_path)\n",
    "    gray = cv2.cvtColor(img, cv2.COLOR_BGR2GRAY)\n",
    "    faces = face_cascade.detectMultiScale(gray)\n",
    "    return len(faces) > 0"
   ]
  },
  {
   "cell_type": "markdown",
   "metadata": {},
   "source": [
    "### (IMPLEMENTATION) Assess the Human Face Detector\n",
    "\n",
    "__Question 1:__ Use the code cell below to test the performance of the `face_detector` function.  \n",
    "- What percentage of the first 100 images in `human_files` have a detected human face?  \n",
    "- What percentage of the first 100 images in `dog_files` have a detected human face? \n",
    "\n",
    "Ideally, we would like 100% of human images with a detected face and 0% of dog images with a detected face.  You will see that our algorithm falls short of this goal, but still gives acceptable performance.  We extract the file paths for the first 100 images from each of the datasets and store them in the numpy arrays `human_files_short` and `dog_files_short`.\n",
    "\n",
    "__Answer:__ \n",
    "\n",
    "The algorithm finds human faces in 99% of the human subset and 12% of the dog subset"
   ]
  },
  {
   "cell_type": "code",
   "execution_count": 6,
   "metadata": {},
   "outputs": [
    {
     "name": "stdout",
     "output_type": "stream",
     "text": [
      "Found 99 faces in the human dataset\n",
      "Found 12 faces in the dog dataset\n"
     ]
    }
   ],
   "source": [
    "human_files_short = human_files[:100]\n",
    "dog_files_short = train_files[:100]\n",
    "# Do NOT modify the code above this line.\n",
    "\n",
    "## TODO: Test the performance of the face_detector algorithm \n",
    "## on the images in human_files_short and dog_files_short.\n",
    "human_found = 0\n",
    "dogman_found = 0\n",
    "for img_path in human_files_short:\n",
    "    if face_detector(img_path):\n",
    "        human_found += 1\n",
    "\n",
    "for img_path in dog_files_short:\n",
    "    if face_detector(img_path):\n",
    "        dogman_found += 1\n",
    "        \n",
    "print(f'Found {human_found} faces in the human dataset')\n",
    "print(f'Found {dogman_found} faces in the dog dataset')\n"
   ]
  },
  {
   "cell_type": "markdown",
   "metadata": {},
   "source": [
    "__Question 2:__ This algorithmic choice necessitates that we communicate to the user that we accept human images only when they provide a clear view of a face (otherwise, we risk having unneccessarily frustrated users!). In your opinion, is this a reasonable expectation to pose on the user? If not, can you think of a way to detect humans in images that does not necessitate an image with a clearly presented face?\n",
    "\n",
    "__Answer:__\n",
    "\n",
    "We suggest the face detector from OpenCV as a potential way to detect human images in your algorithm, but you are free to explore other approaches, especially approaches that make use of deep learning :).  Please use the code cell below to design and test your own face detection algorithm.  If you decide to pursue this _optional_ task, report performance on each of the datasets."
   ]
  },
  {
   "cell_type": "code",
   "execution_count": 7,
   "metadata": {},
   "outputs": [],
   "source": [
    "## (Optional) TODO: Report the performance of another  \n",
    "## face detection algorithm on the LFW dataset\n",
    "### Feel free to use as many code cells as needed."
   ]
  },
  {
   "cell_type": "markdown",
   "metadata": {},
   "source": [
    "---\n",
    "<a id='step2'></a>\n",
    "## Step 2: Detect Dogs\n",
    "\n",
    "In this section, we use a pre-trained [ResNet-50](http://ethereon.github.io/netscope/#/gist/db945b393d40bfa26006) model to detect dogs in images.  Our first line of code downloads the ResNet-50 model, along with weights that have been trained on [ImageNet](http://www.image-net.org/), a very large, very popular dataset used for image classification and other vision tasks.  ImageNet contains over 10 million URLs, each linking to an image containing an object from one of [1000 categories](https://gist.github.com/yrevar/942d3a0ac09ec9e5eb3a).  Given an image, this pre-trained ResNet-50 model returns a prediction (derived from the available categories in ImageNet) for the object that is contained in the image."
   ]
  },
  {
   "cell_type": "code",
   "execution_count": 8,
   "metadata": {},
   "outputs": [
    {
     "name": "stdout",
     "output_type": "stream",
     "text": [
      "WARNING:tensorflow:From C:\\ProgramData\\Anaconda3\\envs\\testenv\\lib\\site-packages\\tensorflow\\python\\framework\\op_def_library.py:263: colocate_with (from tensorflow.python.framework.ops) is deprecated and will be removed in a future version.\n",
      "Instructions for updating:\n",
      "Colocations handled automatically by placer.\n"
     ]
    }
   ],
   "source": [
    "from keras.applications.resnet50 import ResNet50\n",
    "\n",
    "# define ResNet50 model\n",
    "ResNet50_model = ResNet50(weights='imagenet')"
   ]
  },
  {
   "cell_type": "markdown",
   "metadata": {},
   "source": [
    "### Pre-process the Data\n",
    "\n",
    "When using TensorFlow as backend, Keras CNNs require a 4D array (which we'll also refer to as a 4D tensor) as input, with shape\n",
    "\n",
    "$$\n",
    "(\\text{nb_samples}, \\text{rows}, \\text{columns}, \\text{channels}),\n",
    "$$\n",
    "\n",
    "where `nb_samples` corresponds to the total number of images (or samples), and `rows`, `columns`, and `channels` correspond to the number of rows, columns, and channels for each image, respectively.  \n",
    "\n",
    "The `path_to_tensor` function below takes a string-valued file path to a color image as input and returns a 4D tensor suitable for supplying to a Keras CNN.  The function first loads the image and resizes it to a square image that is $224 \\times 224$ pixels.  Next, the image is converted to an array, which is then resized to a 4D tensor.  In this case, since we are working with color images, each image has three channels.  Likewise, since we are processing a single image (or sample), the returned tensor will always have shape\n",
    "\n",
    "$$\n",
    "(1, 224, 224, 3).\n",
    "$$\n",
    "\n",
    "The `paths_to_tensor` function takes a numpy array of string-valued image paths as input and returns a 4D tensor with shape \n",
    "\n",
    "$$\n",
    "(\\text{nb_samples}, 224, 224, 3).\n",
    "$$\n",
    "\n",
    "Here, `nb_samples` is the number of samples, or number of images, in the supplied array of image paths.  It is best to think of `nb_samples` as the number of 3D tensors (where each 3D tensor corresponds to a different image) in your dataset!"
   ]
  },
  {
   "cell_type": "code",
   "execution_count": 9,
   "metadata": {},
   "outputs": [],
   "source": [
    "from keras.preprocessing import image                  \n",
    "from tqdm import tqdm\n",
    "\n",
    "def path_to_tensor(img_path):\n",
    "    # loads RGB image as PIL.Image.Image type\n",
    "    img = image.load_img(img_path, target_size=(224, 224))\n",
    "    # convert PIL.Image.Image type to 3D tensor with shape (224, 224, 3)\n",
    "    x = image.img_to_array(img)\n",
    "    # convert 3D tensor to 4D tensor with shape (1, 224, 224, 3) and return 4D tensor\n",
    "    return np.expand_dims(x, axis=0)\n",
    "\n",
    "def paths_to_tensor(img_paths):\n",
    "    list_of_tensors = [path_to_tensor(img_path) for img_path in tqdm(img_paths)]\n",
    "    return np.vstack(list_of_tensors)"
   ]
  },
  {
   "cell_type": "markdown",
   "metadata": {},
   "source": [
    "### Making Predictions with ResNet-50\n",
    "\n",
    "Getting the 4D tensor ready for ResNet-50, and for any other pre-trained model in Keras, requires some additional processing.  First, the RGB image is converted to BGR by reordering the channels.  All pre-trained models have the additional normalization step that the mean pixel (expressed in RGB as $[103.939, 116.779, 123.68]$ and calculated from all pixels in all images in ImageNet) must be subtracted from every pixel in each image.  This is implemented in the imported function `preprocess_input`.  If you're curious, you can check the code for `preprocess_input` [here](https://github.com/fchollet/keras/blob/master/keras/applications/imagenet_utils.py).\n",
    "\n",
    "Now that we have a way to format our image for supplying to ResNet-50, we are now ready to use the model to extract the predictions.  This is accomplished with the `predict` method, which returns an array whose $i$-th entry is the model's predicted probability that the image belongs to the $i$-th ImageNet category.  This is implemented in the `ResNet50_predict_labels` function below.\n",
    "\n",
    "By taking the argmax of the predicted probability vector, we obtain an integer corresponding to the model's predicted object class, which we can identify with an object category through the use of this [dictionary](https://gist.github.com/yrevar/942d3a0ac09ec9e5eb3a). "
   ]
  },
  {
   "cell_type": "code",
   "execution_count": 10,
   "metadata": {},
   "outputs": [],
   "source": [
    "from keras.applications.resnet50 import preprocess_input, decode_predictions\n",
    "\n",
    "def ResNet50_predict_labels(img_path):\n",
    "    # returns prediction vector for image located at img_path\n",
    "    img = preprocess_input(path_to_tensor(img_path))\n",
    "    return np.argmax(ResNet50_model.predict(img))"
   ]
  },
  {
   "cell_type": "markdown",
   "metadata": {},
   "source": [
    "### Write a Dog Detector\n",
    "\n",
    "While looking at the [dictionary](https://gist.github.com/yrevar/942d3a0ac09ec9e5eb3a), you will notice that the categories corresponding to dogs appear in an uninterrupted sequence and correspond to dictionary keys 151-268, inclusive, to include all categories from `'Chihuahua'` to `'Mexican hairless'`.  Thus, in order to check to see if an image is predicted to contain a dog by the pre-trained ResNet-50 model, we need only check if the `ResNet50_predict_labels` function above returns a value between 151 and 268 (inclusive).\n",
    "\n",
    "We use these ideas to complete the `dog_detector` function below, which returns `True` if a dog is detected in an image (and `False` if not)."
   ]
  },
  {
   "cell_type": "code",
   "execution_count": 11,
   "metadata": {},
   "outputs": [],
   "source": [
    "### returns \"True\" if a dog is detected in the image stored at img_path\n",
    "def dog_detector(img_path):\n",
    "    prediction = ResNet50_predict_labels(img_path)\n",
    "    return ((prediction <= 268) & (prediction >= 151)) "
   ]
  },
  {
   "cell_type": "markdown",
   "metadata": {},
   "source": [
    "### (IMPLEMENTATION) Assess the Dog Detector\n",
    "\n",
    "__Question 3:__ Use the code cell below to test the performance of your `dog_detector` function.  \n",
    "- What percentage of the images in `human_files_short` have a detected dog?  \n",
    "- What percentage of the images in `dog_files_short` have a detected dog?\n",
    "\n",
    "__Answer:__ "
   ]
  },
  {
   "cell_type": "code",
   "execution_count": 12,
   "metadata": {},
   "outputs": [
    {
     "name": "stdout",
     "output_type": "stream",
     "text": [
      "Found 1 dogs in the human dataset\n",
      "Found 100 dogs in the dog dataset\n"
     ]
    }
   ],
   "source": [
    "# Following block is neccessary to utilize GPU\n",
    "import tensorflow as tf\n",
    "gpu_options = tf.GPUOptions(per_process_gpu_memory_fraction=0.5)\n",
    "config = tf.ConfigProto()\n",
    "config.gpu_options.allow_growth = True\n",
    "session = tf.Session(config=config)\n",
    "\n",
    "### TODO: Test the performance of the dog_detector function\n",
    "### on the images in human_files_short and dog_files_short.\n",
    "dog_detected_dog_short = 0\n",
    "dog_detected_human_short = 0\n",
    "\n",
    "for img_path in human_files_short:\n",
    "    if dog_detector(img_path):\n",
    "        dog_detected_human_short += 1\n",
    "\n",
    "for img_path in dog_files_short:\n",
    "    if dog_detector(img_path):\n",
    "        dog_detected_dog_short += 1\n",
    "        \n",
    "print(f'Found {dog_detected_human_short} dogs in the human dataset')\n",
    "print(f'Found {dog_detected_dog_short} dogs in the dog dataset')"
   ]
  },
  {
   "cell_type": "markdown",
   "metadata": {},
   "source": [
    "---\n",
    "<a id='step3'></a>\n",
    "## Step 3: Create a CNN to Classify Dog Breeds (from Scratch)\n",
    "\n",
    "Now that we have functions for detecting humans and dogs in images, we need a way to predict breed from images.  In this step, you will create a CNN that classifies dog breeds.  You must create your CNN _from scratch_ (so, you can't use transfer learning _yet_!), and you must attain a test accuracy of at least 1%.  In Step 5 of this notebook, you will have the opportunity to use transfer learning to create a CNN that attains greatly improved accuracy.\n",
    "\n",
    "Be careful with adding too many trainable layers!  More parameters means longer training, which means you are more likely to need a GPU to accelerate the training process.  Thankfully, Keras provides a handy estimate of the time that each epoch is likely to take; you can extrapolate this estimate to figure out how long it will take for your algorithm to train. \n",
    "\n",
    "We mention that the task of assigning breed to dogs from images is considered exceptionally challenging.  To see why, consider that *even a human* would have great difficulty in distinguishing between a Brittany and a Welsh Springer Spaniel.  \n",
    "\n",
    "Brittany | Welsh Springer Spaniel\n",
    "- | - \n",
    "<img src=\"images/Brittany_02625.jpg\" width=\"100\"> | <img src=\"images/Welsh_springer_spaniel_08203.jpg\" width=\"200\">\n",
    "\n",
    "It is not difficult to find other dog breed pairs with minimal inter-class variation (for instance, Curly-Coated Retrievers and American Water Spaniels).  \n",
    "\n",
    "Curly-Coated Retriever | American Water Spaniel\n",
    "- | -\n",
    "<img src=\"images/Curly-coated_retriever_03896.jpg\" width=\"200\"> | <img src=\"images/American_water_spaniel_00648.jpg\" width=\"200\">\n",
    "\n",
    "\n",
    "Likewise, recall that labradors come in yellow, chocolate, and black.  Your vision-based algorithm will have to conquer this high intra-class variation to determine how to classify all of these different shades as the same breed.  \n",
    "\n",
    "Yellow Labrador | Chocolate Labrador | Black Labrador\n",
    "- | -\n",
    "<img src=\"images/Labrador_retriever_06457.jpg\" width=\"150\"> | <img src=\"images/Labrador_retriever_06455.jpg\" width=\"240\"> | <img src=\"images/Labrador_retriever_06449.jpg\" width=\"220\">\n",
    "\n",
    "We also mention that random chance presents an exceptionally low bar: setting aside the fact that the classes are slightly imabalanced, a random guess will provide a correct answer roughly 1 in 133 times, which corresponds to an accuracy of less than 1%.  \n",
    "\n",
    "Remember that the practice is far ahead of the theory in deep learning.  Experiment with many different architectures, and trust your intuition.  And, of course, have fun! \n",
    "\n",
    "### Pre-process the Data\n",
    "\n",
    "We rescale the images by dividing every pixel in every image by 255."
   ]
  },
  {
   "cell_type": "code",
   "execution_count": 13,
   "metadata": {},
   "outputs": [
    {
     "name": "stderr",
     "output_type": "stream",
     "text": [
      "100%|████████████████████████████████████████████████████████████████████████████| 6680/6680 [00:39<00:00, 168.71it/s]\n",
      "100%|██████████████████████████████████████████████████████████████████████████████| 835/835 [00:05<00:00, 140.92it/s]\n",
      "100%|██████████████████████████████████████████████████████████████████████████████| 836/836 [00:05<00:00, 150.61it/s]\n"
     ]
    }
   ],
   "source": [
    "from PIL import ImageFile                            \n",
    "ImageFile.LOAD_TRUNCATED_IMAGES = True                 \n",
    "\n",
    "# pre-process the data for Keras\n",
    "train_tensors = paths_to_tensor(train_files).astype('float32')/255\n",
    "valid_tensors = paths_to_tensor(valid_files).astype('float32')/255\n",
    "test_tensors = paths_to_tensor(test_files).astype('float32')/255"
   ]
  },
  {
   "cell_type": "markdown",
   "metadata": {},
   "source": [
    "### (IMPLEMENTATION) Model Architecture\n",
    "\n",
    "Create a CNN to classify dog breed.  At the end of your code cell block, summarize the layers of your model by executing the line:\n",
    "    \n",
    "        model.summary()\n",
    "\n",
    "We have imported some Python modules to get you started, but feel free to import as many modules as you need.  If you end up getting stuck, here's a hint that specifies a model that trains relatively fast on CPU and attains >1% test accuracy in 5 epochs:\n",
    "\n",
    "![Sample CNN](images/sample_cnn.png)\n",
    "           \n",
    "__Question 4:__ Outline the steps you took to get to your final CNN architecture and your reasoning at each step.  If you chose to use the hinted architecture above, describe why you think that CNN architecture should work well for the image classification task.\n",
    "\n",
    "__Answer:__ "
   ]
  },
  {
   "cell_type": "code",
   "execution_count": 14,
   "metadata": {},
   "outputs": [
    {
     "data": {
      "text/plain": [
       "(224, 224, 3)"
      ]
     },
     "execution_count": 14,
     "metadata": {},
     "output_type": "execute_result"
    }
   ],
   "source": [
    "train_tensors[0].shape"
   ]
  },
  {
   "cell_type": "code",
   "execution_count": 15,
   "metadata": {},
   "outputs": [
    {
     "name": "stdout",
     "output_type": "stream",
     "text": [
      "_________________________________________________________________\n",
      "Layer (type)                 Output Shape              Param #   \n",
      "=================================================================\n",
      "conv2d_1 (Conv2D)            (None, 223, 223, 16)      208       \n",
      "_________________________________________________________________\n",
      "max_pooling2d_2 (MaxPooling2 (None, 111, 111, 16)      0         \n",
      "_________________________________________________________________\n",
      "conv2d_2 (Conv2D)            (None, 110, 110, 32)      2080      \n",
      "_________________________________________________________________\n",
      "max_pooling2d_3 (MaxPooling2 (None, 55, 55, 32)        0         \n",
      "_________________________________________________________________\n",
      "conv2d_3 (Conv2D)            (None, 54, 54, 64)        8256      \n",
      "_________________________________________________________________\n",
      "max_pooling2d_4 (MaxPooling2 (None, 27, 27, 64)        0         \n",
      "_________________________________________________________________\n",
      "global_average_pooling2d_1 ( (None, 64)                0         \n",
      "_________________________________________________________________\n",
      "dense_1 (Dense)              (None, 133)               8645      \n",
      "=================================================================\n",
      "Total params: 19,189\n",
      "Trainable params: 19,189\n",
      "Non-trainable params: 0\n",
      "_________________________________________________________________\n"
     ]
    }
   ],
   "source": [
    "from keras.layers import Conv2D, MaxPooling2D, GlobalAveragePooling2D\n",
    "from keras.layers import Dropout, Flatten, Dense\n",
    "from keras.models import Sequential\n",
    "\n",
    "model = Sequential()\n",
    "\n",
    "# Define your architecture.\n",
    "model.add(Conv2D(16, kernel_size=2, activation='relu', input_shape=(224,224,3))) # activation nonlinearity typically performed before pooling\n",
    "model.add(MaxPooling2D()) # defaults to pool_size = (2,2), stride = None = pool_size\n",
    "model.add(Conv2D(32, kernel_size=2, activation='relu'))\n",
    "model.add(MaxPooling2D())\n",
    "model.add(Conv2D(64, kernel_size=2, activation='relu'))\n",
    "model.add(MaxPooling2D())\n",
    "model.add(GlobalAveragePooling2D())\n",
    "model.add(Dense(133, activation='softmax'))\n",
    "\n",
    "model.summary()"
   ]
  },
  {
   "cell_type": "markdown",
   "metadata": {},
   "source": [
    "### Compile the Model"
   ]
  },
  {
   "cell_type": "code",
   "execution_count": 16,
   "metadata": {},
   "outputs": [],
   "source": [
    "model.compile(optimizer='rmsprop', loss='categorical_crossentropy', metrics=['accuracy'])"
   ]
  },
  {
   "cell_type": "markdown",
   "metadata": {},
   "source": [
    "### (IMPLEMENTATION) Train the Model\n",
    "\n",
    "Train your model in the code cell below.  Use model checkpointing to save the model that attains the best validation loss.\n",
    "\n",
    "You are welcome to [augment the training data](https://blog.keras.io/building-powerful-image-classification-models-using-very-little-data.html), but this is not a requirement. "
   ]
  },
  {
   "cell_type": "code",
   "execution_count": 17,
   "metadata": {},
   "outputs": [
    {
     "name": "stdout",
     "output_type": "stream",
     "text": [
      "[name: \"/device:CPU:0\"\n",
      "device_type: \"CPU\"\n",
      "memory_limit: 268435456\n",
      "locality {\n",
      "}\n",
      "incarnation: 6772088173586389798\n",
      ", name: \"/device:GPU:0\"\n",
      "device_type: \"GPU\"\n",
      "memory_limit: 6700198133\n",
      "locality {\n",
      "  bus_id: 1\n",
      "  links {\n",
      "  }\n",
      "}\n",
      "incarnation: 17034828930413260689\n",
      "physical_device_desc: \"device: 0, name: GeForce GTX 1070, pci bus id: 0000:01:00.0, compute capability: 6.1\"\n",
      "]\n"
     ]
    }
   ],
   "source": [
    "from tensorflow.python.client import device_lib\n",
    "print(device_lib.list_local_devices())"
   ]
  },
  {
   "cell_type": "code",
   "execution_count": 19,
   "metadata": {},
   "outputs": [
    {
     "name": "stdout",
     "output_type": "stream",
     "text": [
      "Train on 6680 samples, validate on 835 samples\n",
      "Epoch 1/3\n",
      " - 8s - loss: 4.7714 - acc: 0.0193 - val_loss: 4.7837 - val_acc: 0.0240\n",
      "\n",
      "Epoch 00001: val_loss improved from inf to 4.78367, saving model to saved_models/weights.best.from_scratch.hdf5\n",
      "Epoch 2/3\n",
      " - 8s - loss: 4.7417 - acc: 0.0199 - val_loss: 4.7720 - val_acc: 0.0228\n",
      "\n",
      "Epoch 00002: val_loss improved from 4.78367 to 4.77196, saving model to saved_models/weights.best.from_scratch.hdf5\n",
      "Epoch 3/3\n",
      " - 8s - loss: 4.7157 - acc: 0.0229 - val_loss: 4.7421 - val_acc: 0.0275\n",
      "\n",
      "Epoch 00003: val_loss improved from 4.77196 to 4.74212, saving model to saved_models/weights.best.from_scratch.hdf5\n"
     ]
    },
    {
     "data": {
      "text/plain": [
       "<keras.callbacks.History at 0x2e5851954e0>"
      ]
     },
     "execution_count": 19,
     "metadata": {},
     "output_type": "execute_result"
    }
   ],
   "source": [
    "from keras.callbacks import ModelCheckpoint  \n",
    "\n",
    "### TODO: specify the number of epochs that you would like to use to train the model.\n",
    "\n",
    "epochs = 3\n",
    "\n",
    "### Do NOT modify the code below this line.\n",
    "\n",
    "checkpointer = ModelCheckpoint(filepath='saved_models/weights.best.from_scratch.hdf5', \n",
    "                               verbose=1, save_best_only=True)\n",
    "\n",
    "model.fit(train_tensors, train_targets, \n",
    "          validation_data=(valid_tensors, valid_targets),\n",
    "          epochs=epochs, batch_size=20, callbacks=[checkpointer], verbose=2)"
   ]
  },
  {
   "cell_type": "markdown",
   "metadata": {},
   "source": [
    "### Load the Model with the Best Validation Loss"
   ]
  },
  {
   "cell_type": "code",
   "execution_count": 20,
   "metadata": {},
   "outputs": [],
   "source": [
    "model.load_weights('saved_models/weights.best.from_scratch.hdf5')"
   ]
  },
  {
   "cell_type": "markdown",
   "metadata": {},
   "source": [
    "### Test the Model\n",
    "\n",
    "Try out your model on the test dataset of dog images.  Ensure that your test accuracy is greater than 1%."
   ]
  },
  {
   "cell_type": "code",
   "execution_count": 21,
   "metadata": {},
   "outputs": [
    {
     "name": "stdout",
     "output_type": "stream",
     "text": [
      "Test accuracy: 3.2297%\n"
     ]
    }
   ],
   "source": [
    "# get index of predicted dog breed for each image in test set\n",
    "dog_breed_predictions = [np.argmax(model.predict(np.expand_dims(tensor, axis=0))) for tensor in test_tensors]\n",
    "\n",
    "# report test accuracy\n",
    "test_accuracy = 100*np.sum(np.array(dog_breed_predictions)==np.argmax(test_targets, axis=1))/len(dog_breed_predictions)\n",
    "print('Test accuracy: %.4f%%' % test_accuracy)"
   ]
  },
  {
   "cell_type": "markdown",
   "metadata": {},
   "source": [
    "---\n",
    "<a id='step4'></a>\n",
    "## Step 4: Use a CNN to Classify Dog Breeds\n",
    "\n",
    "To reduce training time without sacrificing accuracy, we show you how to train a CNN using transfer learning.  In the following step, you will get a chance to use transfer learning to train your own CNN.\n",
    "\n",
    "### Obtain Bottleneck Features"
   ]
  },
  {
   "cell_type": "code",
   "execution_count": 23,
   "metadata": {},
   "outputs": [],
   "source": [
    "bottleneck_features = np.load('bottleneck_features/DogVGG16Data.npz')\n",
    "train_VGG16 = bottleneck_features['train']\n",
    "valid_VGG16 = bottleneck_features['valid']\n",
    "test_VGG16 = bottleneck_features['test']"
   ]
  },
  {
   "cell_type": "code",
   "execution_count": 25,
   "metadata": {},
   "outputs": [
    {
     "data": {
      "text/plain": [
       "(6680, 7, 7, 512)"
      ]
     },
     "execution_count": 25,
     "metadata": {},
     "output_type": "execute_result"
    }
   ],
   "source": [
    "train_VGG16.shape"
   ]
  },
  {
   "cell_type": "markdown",
   "metadata": {},
   "source": [
    "### Model Architecture\n",
    "\n",
    "The model uses the the pre-trained VGG-16 model as a fixed feature extractor, where the last convolutional output of VGG-16 is fed as input to our model.  We only add a global average pooling layer and a fully connected layer, where the latter contains one node for each dog category and is equipped with a softmax."
   ]
  },
  {
   "cell_type": "code",
   "execution_count": 26,
   "metadata": {},
   "outputs": [
    {
     "name": "stdout",
     "output_type": "stream",
     "text": [
      "_________________________________________________________________\n",
      "Layer (type)                 Output Shape              Param #   \n",
      "=================================================================\n",
      "global_average_pooling2d_2 ( (None, 512)               0         \n",
      "_________________________________________________________________\n",
      "dense_2 (Dense)              (None, 133)               68229     \n",
      "=================================================================\n",
      "Total params: 68,229\n",
      "Trainable params: 68,229\n",
      "Non-trainable params: 0\n",
      "_________________________________________________________________\n"
     ]
    }
   ],
   "source": [
    "VGG16_model = Sequential()\n",
    "VGG16_model.add(GlobalAveragePooling2D(input_shape=train_VGG16.shape[1:]))\n",
    "VGG16_model.add(Dense(133, activation='softmax'))\n",
    "\n",
    "VGG16_model.summary()"
   ]
  },
  {
   "cell_type": "markdown",
   "metadata": {},
   "source": [
    "### Compile the Model"
   ]
  },
  {
   "cell_type": "code",
   "execution_count": 27,
   "metadata": {},
   "outputs": [],
   "source": [
    "VGG16_model.compile(loss='categorical_crossentropy', optimizer='rmsprop', metrics=['accuracy'])"
   ]
  },
  {
   "cell_type": "markdown",
   "metadata": {},
   "source": [
    "### Train the Model"
   ]
  },
  {
   "cell_type": "code",
   "execution_count": 28,
   "metadata": {},
   "outputs": [
    {
     "name": "stdout",
     "output_type": "stream",
     "text": [
      "Train on 6680 samples, validate on 835 samples\n",
      "Epoch 1/20\n",
      "6680/6680 [==============================] - ETA: 2:50 - loss: 14.5282 - acc: 0.0000e+ - ETA: 10s - loss: 14.7229 - acc: 0.0147     - ETA: 5s - loss: 14.7971 - acc: 0.015 - ETA: 3s - loss: 14.4914 - acc: 0.02 - ETA: 2s - loss: 14.2208 - acc: 0.03 - ETA: 2s - loss: 13.9587 - acc: 0.04 - ETA: 1s - loss: 13.6358 - acc: 0.05 - ETA: 1s - loss: 13.4134 - acc: 0.05 - ETA: 1s - loss: 13.1960 - acc: 0.06 - ETA: 1s - loss: 13.0042 - acc: 0.07 - ETA: 1s - loss: 12.8273 - acc: 0.08 - ETA: 0s - loss: 12.6345 - acc: 0.09 - ETA: 0s - loss: 12.4535 - acc: 0.09 - ETA: 0s - loss: 12.3103 - acc: 0.10 - ETA: 0s - loss: 12.2006 - acc: 0.11 - ETA: 0s - loss: 12.0422 - acc: 0.11 - ETA: 0s - loss: 11.9429 - acc: 0.12 - ETA: 0s - loss: 11.7696 - acc: 0.13 - ETA: 0s - loss: 11.6459 - acc: 0.13 - ETA: 0s - loss: 11.5343 - acc: 0.14 - ETA: 0s - loss: 11.4041 - acc: 0.15 - 2s 258us/step - loss: 11.3852 - acc: 0.1524 - val_loss: 9.4093 - val_acc: 0.2778\n",
      "\n",
      "Epoch 00001: val_loss improved from inf to 9.40930, saving model to saved_models/weights.best.VGG16.hdf5\n",
      "Epoch 2/20\n",
      "6680/6680 [==============================] - ETA: 1s - loss: 8.0492 - acc: 0.350 - ETA: 1s - loss: 8.5819 - acc: 0.368 - ETA: 1s - loss: 8.8876 - acc: 0.333 - ETA: 0s - loss: 8.8304 - acc: 0.330 - ETA: 0s - loss: 8.6941 - acc: 0.338 - ETA: 0s - loss: 8.8189 - acc: 0.333 - ETA: 0s - loss: 8.8399 - acc: 0.329 - ETA: 0s - loss: 8.7696 - acc: 0.336 - ETA: 0s - loss: 8.7434 - acc: 0.335 - ETA: 0s - loss: 8.8477 - acc: 0.331 - ETA: 0s - loss: 8.8342 - acc: 0.332 - ETA: 0s - loss: 8.8276 - acc: 0.333 - ETA: 0s - loss: 8.8072 - acc: 0.335 - ETA: 0s - loss: 8.7465 - acc: 0.340 - ETA: 0s - loss: 8.7500 - acc: 0.341 - ETA: 0s - loss: 8.7558 - acc: 0.341 - ETA: 0s - loss: 8.7665 - acc: 0.341 - ETA: 0s - loss: 8.7539 - acc: 0.343 - ETA: 0s - loss: 8.6898 - acc: 0.346 - ETA: 0s - loss: 8.6579 - acc: 0.349 - ETA: 0s - loss: 8.6443 - acc: 0.349 - 1s 169us/step - loss: 8.6591 - acc: 0.3491 - val_loss: 8.7122 - val_acc: 0.3533\n",
      "\n",
      "Epoch 00002: val_loss improved from 9.40930 to 8.71219, saving model to saved_models/weights.best.VGG16.hdf5\n",
      "Epoch 3/20\n",
      "6680/6680 [==============================] - ETA: 0s - loss: 13.3519 - acc: 0.10 - ETA: 1s - loss: 7.7789 - acc: 0.4187 - ETA: 1s - loss: 8.2417 - acc: 0.410 - ETA: 0s - loss: 8.1745 - acc: 0.414 - ETA: 0s - loss: 8.1294 - acc: 0.421 - ETA: 0s - loss: 8.1468 - acc: 0.423 - ETA: 0s - loss: 8.2478 - acc: 0.415 - ETA: 0s - loss: 8.2399 - acc: 0.415 - ETA: 0s - loss: 8.1796 - acc: 0.417 - ETA: 0s - loss: 8.1774 - acc: 0.420 - ETA: 0s - loss: 8.1657 - acc: 0.420 - ETA: 0s - loss: 8.1661 - acc: 0.420 - ETA: 0s - loss: 8.1635 - acc: 0.419 - ETA: 0s - loss: 8.1420 - acc: 0.422 - ETA: 0s - loss: 8.0602 - acc: 0.428 - ETA: 0s - loss: 8.1009 - acc: 0.426 - ETA: 0s - loss: 8.0702 - acc: 0.429 - ETA: 0s - loss: 8.0904 - acc: 0.428 - ETA: 0s - loss: 8.0992 - acc: 0.427 - ETA: 0s - loss: 8.0944 - acc: 0.426 - ETA: 0s - loss: 8.1019 - acc: 0.425 - 1s 168us/step - loss: 8.0902 - acc: 0.4262 - val_loss: 8.4077 - val_acc: 0.3880\n",
      "\n",
      "Epoch 00003: val_loss improved from 8.71219 to 8.40768, saving model to saved_models/weights.best.VGG16.hdf5\n",
      "Epoch 4/20\n",
      "6680/6680 [==============================] - ETA: 1s - loss: 7.2584 - acc: 0.350 - ETA: 1s - loss: 7.8647 - acc: 0.450 - ETA: 1s - loss: 7.6637 - acc: 0.468 - ETA: 1s - loss: 7.8266 - acc: 0.456 - ETA: 0s - loss: 7.9771 - acc: 0.455 - ETA: 0s - loss: 7.9901 - acc: 0.454 - ETA: 0s - loss: 7.9167 - acc: 0.457 - ETA: 0s - loss: 7.9781 - acc: 0.451 - ETA: 0s - loss: 7.9283 - acc: 0.452 - ETA: 0s - loss: 7.8919 - acc: 0.455 - ETA: 0s - loss: 7.8160 - acc: 0.459 - ETA: 0s - loss: 7.7699 - acc: 0.463 - ETA: 0s - loss: 7.7288 - acc: 0.464 - ETA: 0s - loss: 7.7799 - acc: 0.461 - ETA: 0s - loss: 7.7285 - acc: 0.463 - ETA: 0s - loss: 7.7581 - acc: 0.461 - ETA: 0s - loss: 7.7948 - acc: 0.459 - ETA: 0s - loss: 7.8126 - acc: 0.459 - ETA: 0s - loss: 7.8278 - acc: 0.458 - ETA: 0s - loss: 7.8085 - acc: 0.459 - ETA: 0s - loss: 7.7780 - acc: 0.461 - 1s 171us/step - loss: 7.7673 - acc: 0.4624 - val_loss: 8.1023 - val_acc: 0.4120\n",
      "\n",
      "Epoch 00004: val_loss improved from 8.40768 to 8.10230, saving model to saved_models/weights.best.VGG16.hdf5\n",
      "Epoch 5/20\n",
      "6680/6680 [==============================] - ETA: 0s - loss: 7.0889 - acc: 0.400 - ETA: 1s - loss: 6.4900 - acc: 0.563 - ETA: 1s - loss: 6.8353 - acc: 0.540 - ETA: 0s - loss: 6.8496 - acc: 0.542 - ETA: 0s - loss: 7.0569 - acc: 0.531 - ETA: 0s - loss: 7.2402 - acc: 0.517 - ETA: 0s - loss: 7.3213 - acc: 0.508 - ETA: 0s - loss: 7.4017 - acc: 0.500 - ETA: 0s - loss: 7.3877 - acc: 0.501 - ETA: 0s - loss: 7.4472 - acc: 0.498 - ETA: 0s - loss: 7.5155 - acc: 0.492 - ETA: 0s - loss: 7.5324 - acc: 0.492 - ETA: 0s - loss: 7.5720 - acc: 0.491 - ETA: 0s - loss: 7.5822 - acc: 0.489 - ETA: 0s - loss: 7.5758 - acc: 0.490 - ETA: 0s - loss: 7.6059 - acc: 0.488 - ETA: 0s - loss: 7.6287 - acc: 0.486 - ETA: 0s - loss: 7.6212 - acc: 0.486 - ETA: 0s - loss: 7.6188 - acc: 0.486 - ETA: 0s - loss: 7.6072 - acc: 0.487 - ETA: 0s - loss: 7.5940 - acc: 0.487 - 1s 170us/step - loss: 7.5866 - acc: 0.4877 - val_loss: 8.1073 - val_acc: 0.4216\n",
      "\n",
      "Epoch 00005: val_loss did not improve from 8.10230\n",
      "Epoch 6/20\n",
      "6680/6680 [==============================] - ETA: 1s - loss: 10.4880 - acc: 0.35 - ETA: 1s - loss: 7.9424 - acc: 0.4765 - ETA: 0s - loss: 7.4758 - acc: 0.508 - ETA: 0s - loss: 7.5497 - acc: 0.506 - ETA: 0s - loss: 7.4744 - acc: 0.511 - ETA: 0s - loss: 7.5097 - acc: 0.507 - ETA: 0s - loss: 7.5708 - acc: 0.503 - ETA: 0s - loss: 7.5775 - acc: 0.502 - ETA: 0s - loss: 7.5613 - acc: 0.504 - ETA: 0s - loss: 7.4124 - acc: 0.513 - ETA: 0s - loss: 7.3480 - acc: 0.517 - ETA: 0s - loss: 7.3167 - acc: 0.518 - ETA: 0s - loss: 7.3728 - acc: 0.515 - ETA: 0s - loss: 7.3437 - acc: 0.516 - ETA: 0s - loss: 7.3346 - acc: 0.515 - ETA: 0s - loss: 7.3852 - acc: 0.511 - ETA: 0s - loss: 7.4375 - acc: 0.508 - ETA: 0s - loss: 7.4016 - acc: 0.509 - ETA: 0s - loss: 7.4571 - acc: 0.505 - ETA: 0s - loss: 7.4391 - acc: 0.505 - 1s 165us/step - loss: 7.4488 - acc: 0.5037 - val_loss: 7.9080 - val_acc: 0.4287\n",
      "\n",
      "Epoch 00006: val_loss improved from 8.10230 to 7.90799, saving model to saved_models/weights.best.VGG16.hdf5\n",
      "Epoch 7/20\n",
      "6680/6680 [==============================] - ETA: 1s - loss: 5.8232 - acc: 0.600 - ETA: 1s - loss: 7.6039 - acc: 0.493 - ETA: 1s - loss: 7.3503 - acc: 0.511 - ETA: 1s - loss: 7.4715 - acc: 0.506 - ETA: 0s - loss: 7.2479 - acc: 0.518 - ETA: 0s - loss: 7.2762 - acc: 0.516 - ETA: 0s - loss: 7.3251 - acc: 0.509 - ETA: 0s - loss: 7.2786 - acc: 0.512 - ETA: 0s - loss: 7.2444 - acc: 0.514 - ETA: 0s - loss: 7.1951 - acc: 0.516 - ETA: 0s - loss: 7.1884 - acc: 0.515 - ETA: 0s - loss: 7.1410 - acc: 0.518 - ETA: 0s - loss: 7.0831 - acc: 0.520 - ETA: 0s - loss: 7.0353 - acc: 0.524 - ETA: 0s - loss: 7.0300 - acc: 0.522 - ETA: 0s - loss: 7.0978 - acc: 0.518 - ETA: 0s - loss: 7.1031 - acc: 0.518 - ETA: 0s - loss: 7.0861 - acc: 0.518 - ETA: 0s - loss: 7.0826 - acc: 0.519 - ETA: 0s - loss: 7.0526 - acc: 0.521 - 1s 167us/step - loss: 7.0725 - acc: 0.5208 - val_loss: 7.6170 - val_acc: 0.4527\n",
      "\n",
      "Epoch 00007: val_loss improved from 7.90799 to 7.61700, saving model to saved_models/weights.best.VGG16.hdf5\n",
      "Epoch 8/20\n",
      "6680/6680 [==============================] - ETA: 0s - loss: 5.9624 - acc: 0.550 - ETA: 1s - loss: 5.8486 - acc: 0.614 - ETA: 1s - loss: 6.4652 - acc: 0.577 - ETA: 0s - loss: 6.9009 - acc: 0.554 - ETA: 0s - loss: 6.8330 - acc: 0.556 - ETA: 0s - loss: 6.8178 - acc: 0.554 - ETA: 0s - loss: 6.8290 - acc: 0.554 - ETA: 0s - loss: 6.7761 - acc: 0.557 - ETA: 0s - loss: 6.8558 - acc: 0.554 - ETA: 0s - loss: 6.7877 - acc: 0.556 - ETA: 0s - loss: 6.7540 - acc: 0.558 - ETA: 0s - loss: 6.7847 - acc: 0.556 - ETA: 0s - loss: 6.8036 - acc: 0.554 - ETA: 0s - loss: 6.8322 - acc: 0.552 - ETA: 0s - loss: 6.8377 - acc: 0.551 - ETA: 0s - loss: 6.8666 - acc: 0.549 - ETA: 0s - loss: 6.8780 - acc: 0.549 - ETA: 0s - loss: 6.8996 - acc: 0.548 - ETA: 0s - loss: 6.9026 - acc: 0.548 - ETA: 0s - loss: 6.9270 - acc: 0.547 - ETA: 0s - loss: 6.9167 - acc: 0.547 - 1s 169us/step - loss: 6.9268 - acc: 0.5469 - val_loss: 7.5644 - val_acc: 0.4479\n",
      "\n"
     ]
    },
    {
     "name": "stdout",
     "output_type": "stream",
     "text": [
      "Epoch 00008: val_loss improved from 7.61700 to 7.56443, saving model to saved_models/weights.best.VGG16.hdf5\n",
      "Epoch 9/20\n",
      "6680/6680 [==============================] - ETA: 1s - loss: 5.0789 - acc: 0.650 - ETA: 1s - loss: 6.6939 - acc: 0.553 - ETA: 1s - loss: 6.7092 - acc: 0.561 - ETA: 0s - loss: 6.6339 - acc: 0.566 - ETA: 0s - loss: 6.5809 - acc: 0.572 - ETA: 0s - loss: 6.6737 - acc: 0.564 - ETA: 0s - loss: 6.6371 - acc: 0.565 - ETA: 0s - loss: 6.7192 - acc: 0.561 - ETA: 0s - loss: 6.7913 - acc: 0.556 - ETA: 0s - loss: 6.7722 - acc: 0.554 - ETA: 0s - loss: 6.8242 - acc: 0.552 - ETA: 0s - loss: 6.7910 - acc: 0.552 - ETA: 0s - loss: 6.7596 - acc: 0.553 - ETA: 0s - loss: 6.7688 - acc: 0.552 - ETA: 0s - loss: 6.7770 - acc: 0.551 - ETA: 0s - loss: 6.7740 - acc: 0.551 - ETA: 0s - loss: 6.8078 - acc: 0.549 - ETA: 0s - loss: 6.8055 - acc: 0.548 - ETA: 0s - loss: 6.8004 - acc: 0.549 - ETA: 0s - loss: 6.7735 - acc: 0.550 - 1s 163us/step - loss: 6.7608 - acc: 0.5512 - val_loss: 7.3346 - val_acc: 0.4695\n",
      "\n",
      "Epoch 00009: val_loss improved from 7.56443 to 7.33460, saving model to saved_models/weights.best.VGG16.hdf5\n",
      "Epoch 10/20\n",
      "6680/6680 [==============================] - ETA: 0s - loss: 7.4091 - acc: 0.500 - ETA: 1s - loss: 7.2328 - acc: 0.514 - ETA: 0s - loss: 7.0528 - acc: 0.527 - ETA: 0s - loss: 6.8776 - acc: 0.542 - ETA: 0s - loss: 6.5501 - acc: 0.565 - ETA: 0s - loss: 6.6233 - acc: 0.559 - ETA: 0s - loss: 6.5533 - acc: 0.562 - ETA: 0s - loss: 6.5212 - acc: 0.566 - ETA: 0s - loss: 6.5431 - acc: 0.564 - ETA: 0s - loss: 6.6446 - acc: 0.557 - ETA: 0s - loss: 6.6779 - acc: 0.555 - ETA: 0s - loss: 6.6638 - acc: 0.554 - ETA: 0s - loss: 6.6239 - acc: 0.555 - ETA: 0s - loss: 6.5942 - acc: 0.558 - ETA: 0s - loss: 6.5686 - acc: 0.559 - ETA: 0s - loss: 6.5284 - acc: 0.560 - ETA: 0s - loss: 6.4803 - acc: 0.562 - ETA: 0s - loss: 6.4573 - acc: 0.563 - ETA: 0s - loss: 6.4299 - acc: 0.565 - ETA: 0s - loss: 6.4469 - acc: 0.564 - 1s 167us/step - loss: 6.4521 - acc: 0.5638 - val_loss: 7.0137 - val_acc: 0.4731\n",
      "\n",
      "Epoch 00010: val_loss improved from 7.33460 to 7.01368, saving model to saved_models/weights.best.VGG16.hdf5\n",
      "Epoch 11/20\n",
      "6680/6680 [==============================] - ETA: 1s - loss: 7.9985 - acc: 0.500 - ETA: 1s - loss: 6.4491 - acc: 0.568 - ETA: 1s - loss: 6.4025 - acc: 0.570 - ETA: 0s - loss: 6.3188 - acc: 0.578 - ETA: 0s - loss: 6.2853 - acc: 0.581 - ETA: 0s - loss: 6.3163 - acc: 0.577 - ETA: 0s - loss: 6.3013 - acc: 0.579 - ETA: 0s - loss: 6.2828 - acc: 0.579 - ETA: 0s - loss: 6.2827 - acc: 0.579 - ETA: 0s - loss: 6.1956 - acc: 0.586 - ETA: 0s - loss: 6.1962 - acc: 0.587 - ETA: 0s - loss: 6.2855 - acc: 0.582 - ETA: 0s - loss: 6.3217 - acc: 0.578 - ETA: 0s - loss: 6.2921 - acc: 0.580 - ETA: 0s - loss: 6.2519 - acc: 0.582 - ETA: 0s - loss: 6.2352 - acc: 0.583 - ETA: 0s - loss: 6.2461 - acc: 0.582 - ETA: 0s - loss: 6.2472 - acc: 0.582 - ETA: 0s - loss: 6.1931 - acc: 0.585 - ETA: 0s - loss: 6.1768 - acc: 0.585 - 1s 166us/step - loss: 6.1755 - acc: 0.5850 - val_loss: 6.8342 - val_acc: 0.4910\n",
      "\n",
      "Epoch 00011: val_loss improved from 7.01368 to 6.83416, saving model to saved_models/weights.best.VGG16.hdf5\n",
      "Epoch 12/20\n",
      "6680/6680 [==============================] - ETA: 1s - loss: 6.4478 - acc: 0.600 - ETA: 1s - loss: 5.3924 - acc: 0.643 - ETA: 1s - loss: 5.5554 - acc: 0.640 - ETA: 0s - loss: 5.8774 - acc: 0.618 - ETA: 0s - loss: 5.9387 - acc: 0.610 - ETA: 0s - loss: 5.9506 - acc: 0.611 - ETA: 0s - loss: 5.9344 - acc: 0.612 - ETA: 0s - loss: 6.0824 - acc: 0.602 - ETA: 0s - loss: 6.0795 - acc: 0.603 - ETA: 0s - loss: 6.0928 - acc: 0.602 - ETA: 0s - loss: 6.0458 - acc: 0.605 - ETA: 0s - loss: 6.0019 - acc: 0.608 - ETA: 0s - loss: 5.9795 - acc: 0.608 - ETA: 0s - loss: 5.9873 - acc: 0.607 - ETA: 0s - loss: 5.9214 - acc: 0.611 - ETA: 0s - loss: 5.9188 - acc: 0.611 - ETA: 0s - loss: 5.9466 - acc: 0.608 - ETA: 0s - loss: 5.9948 - acc: 0.605 - ETA: 0s - loss: 6.0095 - acc: 0.604 - ETA: 0s - loss: 6.0075 - acc: 0.604 - 1s 167us/step - loss: 6.0086 - acc: 0.6048 - val_loss: 6.8340 - val_acc: 0.4934\n",
      "\n",
      "Epoch 00012: val_loss improved from 6.83416 to 6.83397, saving model to saved_models/weights.best.VGG16.hdf5\n",
      "Epoch 13/20\n",
      "6680/6680 [==============================] - ETA: 1s - loss: 5.6763 - acc: 0.650 - ETA: 1s - loss: 6.8230 - acc: 0.571 - ETA: 1s - loss: 6.2916 - acc: 0.593 - ETA: 0s - loss: 6.1921 - acc: 0.602 - ETA: 0s - loss: 5.9512 - acc: 0.615 - ETA: 0s - loss: 6.0649 - acc: 0.609 - ETA: 0s - loss: 6.1154 - acc: 0.603 - ETA: 0s - loss: 6.0358 - acc: 0.608 - ETA: 0s - loss: 6.0087 - acc: 0.608 - ETA: 0s - loss: 6.0125 - acc: 0.607 - ETA: 0s - loss: 6.0340 - acc: 0.606 - ETA: 0s - loss: 5.9846 - acc: 0.608 - ETA: 0s - loss: 5.9260 - acc: 0.612 - ETA: 0s - loss: 5.9367 - acc: 0.612 - ETA: 0s - loss: 5.9756 - acc: 0.610 - ETA: 0s - loss: 5.9398 - acc: 0.613 - ETA: 0s - loss: 5.9633 - acc: 0.612 - ETA: 0s - loss: 5.9796 - acc: 0.611 - ETA: 0s - loss: 5.9715 - acc: 0.612 - ETA: 0s - loss: 5.9686 - acc: 0.611 - ETA: 0s - loss: 5.9709 - acc: 0.611 - 1s 170us/step - loss: 5.9537 - acc: 0.6129 - val_loss: 6.7889 - val_acc: 0.5042\n",
      "\n",
      "Epoch 00013: val_loss improved from 6.83397 to 6.78889, saving model to saved_models/weights.best.VGG16.hdf5\n",
      "Epoch 14/20\n",
      "6680/6680 [==============================] - ETA: 0s - loss: 5.6426 - acc: 0.650 - ETA: 1s - loss: 6.2571 - acc: 0.596 - ETA: 1s - loss: 6.2437 - acc: 0.598 - ETA: 0s - loss: 6.2491 - acc: 0.595 - ETA: 0s - loss: 6.3087 - acc: 0.593 - ETA: 0s - loss: 6.2080 - acc: 0.600 - ETA: 0s - loss: 6.0621 - acc: 0.609 - ETA: 0s - loss: 6.0988 - acc: 0.606 - ETA: 0s - loss: 5.9596 - acc: 0.615 - ETA: 0s - loss: 6.0222 - acc: 0.612 - ETA: 0s - loss: 6.0109 - acc: 0.613 - ETA: 0s - loss: 6.0149 - acc: 0.612 - ETA: 0s - loss: 5.9709 - acc: 0.612 - ETA: 0s - loss: 5.9749 - acc: 0.612 - ETA: 0s - loss: 5.9548 - acc: 0.614 - ETA: 0s - loss: 5.9574 - acc: 0.614 - ETA: 0s - loss: 5.9543 - acc: 0.614 - ETA: 0s - loss: 5.9061 - acc: 0.616 - ETA: 0s - loss: 5.8956 - acc: 0.617 - ETA: 0s - loss: 5.8497 - acc: 0.619 - ETA: 0s - loss: 5.8723 - acc: 0.617 - 1s 170us/step - loss: 5.8780 - acc: 0.6168 - val_loss: 6.7956 - val_acc: 0.4946\n",
      "\n",
      "Epoch 00014: val_loss did not improve from 6.78889\n",
      "Epoch 15/20\n",
      "6680/6680 [==============================] - ETA: 1s - loss: 3.3212 - acc: 0.750 - ETA: 0s - loss: 5.2423 - acc: 0.658 - ETA: 0s - loss: 5.5638 - acc: 0.638 - ETA: 0s - loss: 5.8543 - acc: 0.621 - ETA: 0s - loss: 5.7830 - acc: 0.623 - ETA: 0s - loss: 5.7092 - acc: 0.627 - ETA: 0s - loss: 5.7070 - acc: 0.628 - ETA: 0s - loss: 5.8340 - acc: 0.621 - ETA: 0s - loss: 5.8423 - acc: 0.620 - ETA: 0s - loss: 5.7758 - acc: 0.624 - ETA: 0s - loss: 5.7572 - acc: 0.626 - ETA: 0s - loss: 5.8031 - acc: 0.623 - ETA: 0s - loss: 5.7760 - acc: 0.625 - ETA: 0s - loss: 5.8001 - acc: 0.623 - ETA: 0s - loss: 5.7698 - acc: 0.624 - ETA: 0s - loss: 5.7162 - acc: 0.628 - ETA: 0s - loss: 5.7010 - acc: 0.629 - ETA: 0s - loss: 5.7289 - acc: 0.628 - ETA: 0s - loss: 5.7150 - acc: 0.629 - ETA: 0s - loss: 5.7282 - acc: 0.628 - 1s 168us/step - loss: 5.7514 - acc: 0.6268 - val_loss: 6.5494 - val_acc: 0.5054\n",
      "\n",
      "Epoch 00015: val_loss improved from 6.78889 to 6.54943, saving model to saved_models/weights.best.VGG16.hdf5\n",
      "Epoch 16/20\n",
      "6680/6680 [==============================] - ETA: 1s - loss: 6.4539 - acc: 0.600 - ETA: 1s - loss: 6.2292 - acc: 0.605 - ETA: 1s - loss: 6.0952 - acc: 0.614 - ETA: 0s - loss: 5.8285 - acc: 0.630 - ETA: 0s - loss: 5.6935 - acc: 0.637 - ETA: 0s - loss: 5.7629 - acc: 0.630 - ETA: 0s - loss: 5.9328 - acc: 0.620 - ETA: 0s - loss: 5.8387 - acc: 0.626 - ETA: 0s - loss: 5.8833 - acc: 0.624 - ETA: 0s - loss: 5.7790 - acc: 0.630 - ETA: 0s - loss: 5.7354 - acc: 0.633 - ETA: 0s - loss: 5.7342 - acc: 0.633 - ETA: 0s - loss: 5.7611 - acc: 0.630 - ETA: 0s - loss: 5.7660 - acc: 0.628 - ETA: 0s - loss: 5.7440 - acc: 0.629 - ETA: 0s - loss: 5.7365 - acc: 0.630 - ETA: 0s - loss: 5.7119 - acc: 0.632 - ETA: 0s - loss: 5.7036 - acc: 0.633 - ETA: 0s - loss: 5.7227 - acc: 0.631 - ETA: 0s - loss: 5.6956 - acc: 0.633 - 1s 167us/step - loss: 5.6928 - acc: 0.6331 - val_loss: 6.6212 - val_acc: 0.5066\n",
      "\n",
      "Epoch 00016: val_loss did not improve from 6.54943\n",
      "Epoch 17/20\n"
     ]
    },
    {
     "name": "stdout",
     "output_type": "stream",
     "text": [
      "6680/6680 [==============================] - ETA: 1s - loss: 5.6430 - acc: 0.650 - ETA: 0s - loss: 6.2799 - acc: 0.602 - ETA: 0s - loss: 5.9843 - acc: 0.620 - ETA: 0s - loss: 6.3535 - acc: 0.600 - ETA: 0s - loss: 6.0476 - acc: 0.617 - ETA: 0s - loss: 5.8302 - acc: 0.631 - ETA: 0s - loss: 5.7540 - acc: 0.636 - ETA: 0s - loss: 5.8683 - acc: 0.629 - ETA: 0s - loss: 5.7853 - acc: 0.634 - ETA: 0s - loss: 5.8367 - acc: 0.630 - ETA: 0s - loss: 5.8177 - acc: 0.632 - ETA: 0s - loss: 5.7702 - acc: 0.635 - ETA: 0s - loss: 5.7461 - acc: 0.636 - ETA: 0s - loss: 5.7599 - acc: 0.635 - ETA: 0s - loss: 5.7344 - acc: 0.636 - ETA: 0s - loss: 5.7387 - acc: 0.636 - ETA: 0s - loss: 5.7474 - acc: 0.636 - ETA: 0s - loss: 5.6950 - acc: 0.638 - ETA: 0s - loss: 5.7191 - acc: 0.637 - ETA: 0s - loss: 5.6648 - acc: 0.639 - 1s 163us/step - loss: 5.6651 - acc: 0.6400 - val_loss: 6.5012 - val_acc: 0.5234\n",
      "\n",
      "Epoch 00017: val_loss improved from 6.54943 to 6.50123, saving model to saved_models/weights.best.VGG16.hdf5\n",
      "Epoch 18/20\n",
      "6680/6680 [==============================] - ETA: 1s - loss: 6.4486 - acc: 0.600 - ETA: 1s - loss: 6.3593 - acc: 0.596 - ETA: 0s - loss: 5.9642 - acc: 0.625 - ETA: 0s - loss: 5.8907 - acc: 0.629 - ETA: 0s - loss: 5.7701 - acc: 0.636 - ETA: 0s - loss: 5.6286 - acc: 0.644 - ETA: 0s - loss: 5.6262 - acc: 0.645 - ETA: 0s - loss: 5.5174 - acc: 0.650 - ETA: 0s - loss: 5.6004 - acc: 0.645 - ETA: 0s - loss: 5.5938 - acc: 0.644 - ETA: 0s - loss: 5.5875 - acc: 0.644 - ETA: 0s - loss: 5.5918 - acc: 0.643 - ETA: 0s - loss: 5.6395 - acc: 0.641 - ETA: 0s - loss: 5.5944 - acc: 0.643 - ETA: 0s - loss: 5.5836 - acc: 0.644 - ETA: 0s - loss: 5.6100 - acc: 0.643 - ETA: 0s - loss: 5.6115 - acc: 0.642 - ETA: 0s - loss: 5.5985 - acc: 0.643 - ETA: 0s - loss: 5.6281 - acc: 0.641 - ETA: 0s - loss: 5.6075 - acc: 0.643 - 1s 165us/step - loss: 5.6324 - acc: 0.6415 - val_loss: 6.4861 - val_acc: 0.5246\n",
      "\n",
      "Epoch 00018: val_loss improved from 6.50123 to 6.48613, saving model to saved_models/weights.best.VGG16.hdf5\n",
      "Epoch 19/20\n",
      "6680/6680 [==============================] - ETA: 0s - loss: 8.0658 - acc: 0.500 - ETA: 1s - loss: 6.3160 - acc: 0.600 - ETA: 0s - loss: 6.0652 - acc: 0.615 - ETA: 0s - loss: 5.9893 - acc: 0.621 - ETA: 0s - loss: 5.6149 - acc: 0.645 - ETA: 0s - loss: 5.5773 - acc: 0.647 - ETA: 0s - loss: 5.5275 - acc: 0.649 - ETA: 0s - loss: 5.5326 - acc: 0.649 - ETA: 0s - loss: 5.5326 - acc: 0.648 - ETA: 0s - loss: 5.5906 - acc: 0.645 - ETA: 0s - loss: 5.5988 - acc: 0.645 - ETA: 0s - loss: 5.6049 - acc: 0.645 - ETA: 0s - loss: 5.6228 - acc: 0.643 - ETA: 0s - loss: 5.6369 - acc: 0.642 - ETA: 0s - loss: 5.6225 - acc: 0.644 - ETA: 0s - loss: 5.6490 - acc: 0.641 - ETA: 0s - loss: 5.6320 - acc: 0.641 - ETA: 0s - loss: 5.6173 - acc: 0.642 - ETA: 0s - loss: 5.6197 - acc: 0.641 - ETA: 0s - loss: 5.5913 - acc: 0.643 - 1s 165us/step - loss: 5.5663 - acc: 0.6451 - val_loss: 6.5098 - val_acc: 0.5162\n",
      "\n",
      "Epoch 00019: val_loss did not improve from 6.48613\n",
      "Epoch 20/20\n",
      "6680/6680 [==============================] - ETA: 1s - loss: 5.6415 - acc: 0.650 - ETA: 0s - loss: 5.0249 - acc: 0.680 - ETA: 0s - loss: 5.4691 - acc: 0.651 - ETA: 0s - loss: 5.3231 - acc: 0.658 - ETA: 0s - loss: 5.3234 - acc: 0.658 - ETA: 0s - loss: 5.3288 - acc: 0.659 - ETA: 0s - loss: 5.3896 - acc: 0.656 - ETA: 0s - loss: 5.3412 - acc: 0.658 - ETA: 0s - loss: 5.3658 - acc: 0.655 - ETA: 0s - loss: 5.2808 - acc: 0.661 - ETA: 0s - loss: 5.2812 - acc: 0.661 - ETA: 0s - loss: 5.2898 - acc: 0.661 - ETA: 0s - loss: 5.3359 - acc: 0.658 - ETA: 0s - loss: 5.3275 - acc: 0.659 - ETA: 0s - loss: 5.3863 - acc: 0.655 - ETA: 0s - loss: 5.4231 - acc: 0.653 - ETA: 0s - loss: 5.4180 - acc: 0.654 - ETA: 0s - loss: 5.4563 - acc: 0.651 - ETA: 0s - loss: 5.4774 - acc: 0.650 - ETA: 0s - loss: 5.4854 - acc: 0.649 - 1s 163us/step - loss: 5.4900 - acc: 0.6491 - val_loss: 6.4387 - val_acc: 0.5090\n",
      "\n",
      "Epoch 00020: val_loss improved from 6.48613 to 6.43875, saving model to saved_models/weights.best.VGG16.hdf5\n"
     ]
    },
    {
     "data": {
      "text/plain": [
       "<keras.callbacks.History at 0x2e7ab4aa0b8>"
      ]
     },
     "execution_count": 28,
     "metadata": {},
     "output_type": "execute_result"
    }
   ],
   "source": [
    "checkpointer = ModelCheckpoint(filepath='saved_models/weights.best.VGG16.hdf5', \n",
    "                               verbose=1, save_best_only=True)\n",
    "\n",
    "VGG16_model.fit(train_VGG16, train_targets, \n",
    "          validation_data=(valid_VGG16, valid_targets),\n",
    "          epochs=20, batch_size=20, callbacks=[checkpointer], verbose=1)"
   ]
  },
  {
   "cell_type": "markdown",
   "metadata": {},
   "source": [
    "### Load the Model with the Best Validation Loss"
   ]
  },
  {
   "cell_type": "code",
   "execution_count": 29,
   "metadata": {},
   "outputs": [],
   "source": [
    "VGG16_model.load_weights('saved_models/weights.best.VGG16.hdf5')"
   ]
  },
  {
   "cell_type": "markdown",
   "metadata": {},
   "source": [
    "### Test the Model\n",
    "\n",
    "Now, we can use the CNN to test how well it identifies breed within our test dataset of dog images.  We print the test accuracy below."
   ]
  },
  {
   "cell_type": "code",
   "execution_count": 30,
   "metadata": {},
   "outputs": [
    {
     "name": "stdout",
     "output_type": "stream",
     "text": [
      "Test accuracy: 50.8373%\n"
     ]
    }
   ],
   "source": [
    "# get index of predicted dog breed for each image in test set\n",
    "VGG16_predictions = [np.argmax(VGG16_model.predict(np.expand_dims(feature, axis=0))) for feature in test_VGG16]\n",
    "\n",
    "# report test accuracy\n",
    "test_accuracy = 100*np.sum(np.array(VGG16_predictions)==np.argmax(test_targets, axis=1))/len(VGG16_predictions)\n",
    "print('Test accuracy: %.4f%%' % test_accuracy)"
   ]
  },
  {
   "cell_type": "markdown",
   "metadata": {},
   "source": [
    "### Predict Dog Breed with the Model"
   ]
  },
  {
   "cell_type": "code",
   "execution_count": 31,
   "metadata": {},
   "outputs": [],
   "source": [
    "from extract_bottleneck_features import *\n",
    "\n",
    "def VGG16_predict_breed(img_path):\n",
    "    # extract bottleneck features\n",
    "    bottleneck_feature = extract_VGG16(path_to_tensor(img_path))\n",
    "    # obtain predicted vector\n",
    "    predicted_vector = VGG16_model.predict(bottleneck_feature)\n",
    "    # return dog breed that is predicted by the model\n",
    "    return dog_names[np.argmax(predicted_vector)]"
   ]
  },
  {
   "cell_type": "markdown",
   "metadata": {},
   "source": [
    "---\n",
    "<a id='step5'></a>\n",
    "## Step 5: Create a CNN to Classify Dog Breeds (using Transfer Learning)\n",
    "\n",
    "You will now use transfer learning to create a CNN that can identify dog breed from images.  Your CNN must attain at least 60% accuracy on the test set.\n",
    "\n",
    "In Step 4, we used transfer learning to create a CNN using VGG-16 bottleneck features.  In this section, you must use the bottleneck features from a different pre-trained model.  To make things easier for you, we have pre-computed the features for all of the networks that are currently available in Keras:\n",
    "- [VGG-19](https://s3-us-west-1.amazonaws.com/udacity-aind/dog-project/DogVGG19Data.npz) bottleneck features\n",
    "- [ResNet-50](https://s3-us-west-1.amazonaws.com/udacity-aind/dog-project/DogResnet50Data.npz) bottleneck features\n",
    "- [Inception](https://s3-us-west-1.amazonaws.com/udacity-aind/dog-project/DogInceptionV3Data.npz) bottleneck features\n",
    "- [Xception](https://s3-us-west-1.amazonaws.com/udacity-aind/dog-project/DogXceptionData.npz) bottleneck features\n",
    "\n",
    "The files are encoded as such:\n",
    "\n",
    "    Dog{network}Data.npz\n",
    "    \n",
    "where `{network}`, in the above filename, can be one of `VGG19`, `Resnet50`, `InceptionV3`, or `Xception`.  Pick one of the above architectures, download the corresponding bottleneck features, and store the downloaded file in the `bottleneck_features/` folder in the repository.\n",
    "\n",
    "### (IMPLEMENTATION) Obtain Bottleneck Features\n",
    "\n",
    "In the code block below, extract the bottleneck features corresponding to the train, test, and validation sets by running the following:\n",
    "\n",
    "    bottleneck_features = np.load('bottleneck_features/Dog{network}Data.npz')\n",
    "    train_{network} = bottleneck_features['train']\n",
    "    valid_{network} = bottleneck_features['valid']\n",
    "    test_{network} = bottleneck_features['test']"
   ]
  },
  {
   "cell_type": "code",
   "execution_count": 47,
   "metadata": {
    "scrolled": true
   },
   "outputs": [
    {
     "name": "stdout",
     "output_type": "stream",
     "text": [
      "testing network: VGG19\n",
      "\tgetting bottleneck features...\n",
      "\tcompiling custom output nodes...\n",
      "\ttraining model...\n",
      "Train on 6680 samples, validate on 835 samples\n",
      "Epoch 1/20\n",
      " - 2s - loss: 11.5839 - acc: 0.1473 - val_loss: 9.8418 - val_acc: 0.2515\n",
      "\n",
      "Epoch 00001: val_loss improved from inf to 9.84184, saving model to saved_models/weights.best.VGG19.hdf5\n",
      "Epoch 2/20\n",
      " - 1s - loss: 8.8813 - acc: 0.3310 - val_loss: 8.8034 - val_acc: 0.3341\n",
      "\n",
      "Epoch 00002: val_loss improved from 9.84184 to 8.80335, saving model to saved_models/weights.best.VGG19.hdf5\n",
      "Epoch 3/20\n",
      " - 1s - loss: 8.1341 - acc: 0.4133 - val_loss: 8.4515 - val_acc: 0.3868\n",
      "\n",
      "Epoch 00003: val_loss improved from 8.80335 to 8.45153, saving model to saved_models/weights.best.VGG19.hdf5\n",
      "Epoch 4/20\n",
      " - 1s - loss: 7.8852 - acc: 0.4545 - val_loss: 8.2301 - val_acc: 0.4060\n",
      "\n",
      "Epoch 00004: val_loss improved from 8.45153 to 8.23007, saving model to saved_models/weights.best.VGG19.hdf5\n",
      "Epoch 5/20\n",
      " - 1s - loss: 7.4923 - acc: 0.4820 - val_loss: 7.7915 - val_acc: 0.4192\n",
      "\n",
      "Epoch 00005: val_loss improved from 8.23007 to 7.79150, saving model to saved_models/weights.best.VGG19.hdf5\n",
      "Epoch 6/20\n",
      " - 1s - loss: 7.0635 - acc: 0.5142 - val_loss: 7.5412 - val_acc: 0.4455\n",
      "\n",
      "Epoch 00006: val_loss improved from 7.79150 to 7.54124, saving model to saved_models/weights.best.VGG19.hdf5\n",
      "Epoch 7/20\n",
      " - 1s - loss: 6.8431 - acc: 0.5410 - val_loss: 7.4953 - val_acc: 0.4503\n",
      "\n",
      "Epoch 00007: val_loss improved from 7.54124 to 7.49529, saving model to saved_models/weights.best.VGG19.hdf5\n",
      "Epoch 8/20\n",
      " - 1s - loss: 6.6417 - acc: 0.5581 - val_loss: 7.3462 - val_acc: 0.4647\n",
      "\n",
      "Epoch 00008: val_loss improved from 7.49529 to 7.34620, saving model to saved_models/weights.best.VGG19.hdf5\n",
      "Epoch 9/20\n",
      " - 1s - loss: 6.5801 - acc: 0.5731 - val_loss: 7.3342 - val_acc: 0.4731\n",
      "\n",
      "Epoch 00009: val_loss improved from 7.34620 to 7.33423, saving model to saved_models/weights.best.VGG19.hdf5\n",
      "Epoch 10/20\n",
      " - 1s - loss: 6.5593 - acc: 0.5762 - val_loss: 7.3509 - val_acc: 0.4647\n",
      "\n",
      "Epoch 00010: val_loss did not improve from 7.33423\n",
      "Epoch 11/20\n",
      " - 1s - loss: 6.5364 - acc: 0.5841 - val_loss: 7.3994 - val_acc: 0.4731\n",
      "\n",
      "Epoch 00011: val_loss did not improve from 7.33423\n",
      "Epoch 12/20\n",
      " - 1s - loss: 6.4840 - acc: 0.5843 - val_loss: 7.3040 - val_acc: 0.4731\n",
      "\n",
      "Epoch 00012: val_loss improved from 7.33423 to 7.30396, saving model to saved_models/weights.best.VGG19.hdf5\n",
      "Epoch 13/20\n",
      " - 1s - loss: 6.4126 - acc: 0.5930 - val_loss: 7.2123 - val_acc: 0.4838\n",
      "\n",
      "Epoch 00013: val_loss improved from 7.30396 to 7.21234, saving model to saved_models/weights.best.VGG19.hdf5\n",
      "Epoch 14/20\n",
      " - 1s - loss: 6.3671 - acc: 0.5951 - val_loss: 7.2335 - val_acc: 0.4671\n",
      "\n",
      "Epoch 00014: val_loss did not improve from 7.21234\n",
      "Epoch 15/20\n",
      " - 1s - loss: 6.1630 - acc: 0.5978 - val_loss: 7.0376 - val_acc: 0.4826\n",
      "\n",
      "Epoch 00015: val_loss improved from 7.21234 to 7.03765, saving model to saved_models/weights.best.VGG19.hdf5\n",
      "Epoch 16/20\n",
      " - 1s - loss: 6.0448 - acc: 0.6111 - val_loss: 7.0377 - val_acc: 0.4934\n",
      "\n",
      "Epoch 00016: val_loss did not improve from 7.03765\n",
      "Epoch 17/20\n",
      " - 1s - loss: 5.9515 - acc: 0.6138 - val_loss: 6.8426 - val_acc: 0.4934\n",
      "\n",
      "Epoch 00017: val_loss improved from 7.03765 to 6.84261, saving model to saved_models/weights.best.VGG19.hdf5\n",
      "Epoch 18/20\n",
      " - 1s - loss: 5.6993 - acc: 0.6254 - val_loss: 6.5812 - val_acc: 0.5222\n",
      "\n",
      "Epoch 00018: val_loss improved from 6.84261 to 6.58118, saving model to saved_models/weights.best.VGG19.hdf5\n",
      "Epoch 19/20\n",
      " - 1s - loss: 5.4674 - acc: 0.6422 - val_loss: 6.4593 - val_acc: 0.5126\n",
      "\n",
      "Epoch 00019: val_loss improved from 6.58118 to 6.45931, saving model to saved_models/weights.best.VGG19.hdf5\n",
      "Epoch 20/20\n",
      " - 1s - loss: 5.3652 - acc: 0.6533 - val_loss: 6.4645 - val_acc: 0.5234\n",
      "\n",
      "Epoch 00020: val_loss did not improve from 6.45931\n",
      "\tloading best model...\n",
      "\ttesting model...\n",
      "VGG19 Test accuracy: 52.5120\n",
      "testing network: ResNet50\n",
      "\tgetting bottleneck features...\n",
      "\tcompiling custom output nodes...\n",
      "\ttraining model...\n",
      "Train on 6680 samples, validate on 835 samples\n",
      "Epoch 1/20\n",
      " - 2s - loss: 1.6313 - acc: 0.6016 - val_loss: 0.8638 - val_acc: 0.7377\n",
      "\n",
      "Epoch 00001: val_loss improved from inf to 0.86384, saving model to saved_models/weights.best.ResNet50.hdf5\n",
      "Epoch 2/20\n",
      " - 1s - loss: 0.4452 - acc: 0.8638 - val_loss: 0.6999 - val_acc: 0.7964\n",
      "\n",
      "Epoch 00002: val_loss improved from 0.86384 to 0.69986, saving model to saved_models/weights.best.ResNet50.hdf5\n",
      "Epoch 3/20\n",
      " - 1s - loss: 0.2629 - acc: 0.9201 - val_loss: 0.7041 - val_acc: 0.7880\n",
      "\n",
      "Epoch 00003: val_loss did not improve from 0.69986\n",
      "Epoch 4/20\n",
      " - 1s - loss: 0.1758 - acc: 0.9433 - val_loss: 0.6817 - val_acc: 0.8144\n",
      "\n",
      "Epoch 00004: val_loss improved from 0.69986 to 0.68175, saving model to saved_models/weights.best.ResNet50.hdf5\n",
      "Epoch 5/20\n",
      " - 1s - loss: 0.1210 - acc: 0.9615 - val_loss: 0.6697 - val_acc: 0.8204\n",
      "\n",
      "Epoch 00005: val_loss improved from 0.68175 to 0.66969, saving model to saved_models/weights.best.ResNet50.hdf5\n",
      "Epoch 6/20\n",
      " - 1s - loss: 0.0839 - acc: 0.9747 - val_loss: 0.7349 - val_acc: 0.8060\n",
      "\n",
      "Epoch 00006: val_loss did not improve from 0.66969\n",
      "Epoch 7/20\n",
      " - 1s - loss: 0.0628 - acc: 0.9808 - val_loss: 0.6931 - val_acc: 0.8204\n",
      "\n",
      "Epoch 00007: val_loss did not improve from 0.66969\n",
      "Epoch 8/20\n",
      " - 1s - loss: 0.0471 - acc: 0.9858 - val_loss: 0.7258 - val_acc: 0.8096\n",
      "\n",
      "Epoch 00008: val_loss did not improve from 0.66969\n",
      "Epoch 9/20\n",
      " - 1s - loss: 0.0360 - acc: 0.9906 - val_loss: 0.7248 - val_acc: 0.8275\n",
      "\n",
      "Epoch 00009: val_loss did not improve from 0.66969\n",
      "Epoch 10/20\n",
      " - 1s - loss: 0.0250 - acc: 0.9930 - val_loss: 0.7319 - val_acc: 0.8287\n",
      "\n",
      "Epoch 00010: val_loss did not improve from 0.66969\n",
      "Epoch 11/20\n",
      " - 1s - loss: 0.0229 - acc: 0.9930 - val_loss: 0.8004 - val_acc: 0.8240\n",
      "\n",
      "Epoch 00011: val_loss did not improve from 0.66969\n",
      "Epoch 12/20\n",
      " - 1s - loss: 0.0171 - acc: 0.9948 - val_loss: 0.7220 - val_acc: 0.8431\n",
      "\n",
      "Epoch 00012: val_loss did not improve from 0.66969\n",
      "Epoch 13/20\n",
      " - 1s - loss: 0.0131 - acc: 0.9964 - val_loss: 0.8319 - val_acc: 0.8132\n",
      "\n",
      "Epoch 00013: val_loss did not improve from 0.66969\n",
      "Epoch 14/20\n",
      " - 1s - loss: 0.0116 - acc: 0.9970 - val_loss: 0.8489 - val_acc: 0.8132\n",
      "\n",
      "Epoch 00014: val_loss did not improve from 0.66969\n",
      "Epoch 15/20\n",
      " - 1s - loss: 0.0092 - acc: 0.9978 - val_loss: 0.8485 - val_acc: 0.8251\n",
      "\n",
      "Epoch 00015: val_loss did not improve from 0.66969\n",
      "Epoch 16/20\n",
      " - 1s - loss: 0.0081 - acc: 0.9978 - val_loss: 0.8449 - val_acc: 0.8216\n",
      "\n",
      "Epoch 00016: val_loss did not improve from 0.66969\n",
      "Epoch 17/20\n",
      " - 1s - loss: 0.0076 - acc: 0.9982 - val_loss: 0.8852 - val_acc: 0.8192\n",
      "\n",
      "Epoch 00017: val_loss did not improve from 0.66969\n",
      "Epoch 18/20\n",
      " - 1s - loss: 0.0070 - acc: 0.9981 - val_loss: 0.8624 - val_acc: 0.8299\n",
      "\n",
      "Epoch 00018: val_loss did not improve from 0.66969\n",
      "Epoch 19/20\n",
      " - 1s - loss: 0.0073 - acc: 0.9981 - val_loss: 0.8768 - val_acc: 0.8299\n",
      "\n",
      "Epoch 00019: val_loss did not improve from 0.66969\n",
      "Epoch 20/20\n",
      " - 1s - loss: 0.0057 - acc: 0.9987 - val_loss: 0.8941 - val_acc: 0.8275\n",
      "\n",
      "Epoch 00020: val_loss did not improve from 0.66969\n",
      "\tloading best model...\n",
      "\ttesting model...\n",
      "ResNet50 Test accuracy: 80.9809\n",
      "testing network: InceptionV3\n",
      "\tgetting bottleneck features...\n",
      "\tcompiling custom output nodes...\n",
      "\ttraining model...\n",
      "Train on 6680 samples, validate on 835 samples\n",
      "Epoch 1/20\n",
      " - 3s - loss: 1.1641 - acc: 0.7033 - val_loss: 0.6539 - val_acc: 0.8132\n",
      "\n",
      "Epoch 00001: val_loss improved from inf to 0.65390, saving model to saved_models/weights.best.InceptionV3.hdf5\n",
      "Epoch 2/20\n",
      " - 2s - loss: 0.4695 - acc: 0.8543 - val_loss: 0.6188 - val_acc: 0.8251\n",
      "\n",
      "Epoch 00002: val_loss improved from 0.65390 to 0.61877, saving model to saved_models/weights.best.InceptionV3.hdf5\n",
      "Epoch 3/20\n",
      " - 2s - loss: 0.3683 - acc: 0.8904 - val_loss: 0.6694 - val_acc: 0.8323\n",
      "\n",
      "Epoch 00003: val_loss did not improve from 0.61877\n",
      "Epoch 4/20\n",
      " - 2s - loss: 0.2943 - acc: 0.9099 - val_loss: 0.6772 - val_acc: 0.8551\n",
      "\n",
      "Epoch 00004: val_loss did not improve from 0.61877\n",
      "Epoch 5/20\n",
      " - 2s - loss: 0.2350 - acc: 0.9249 - val_loss: 0.7683 - val_acc: 0.8263\n",
      "\n",
      "Epoch 00005: val_loss did not improve from 0.61877\n",
      "Epoch 6/20\n",
      " - 2s - loss: 0.2048 - acc: 0.9377 - val_loss: 0.7597 - val_acc: 0.8383\n",
      "\n",
      "Epoch 00006: val_loss did not improve from 0.61877\n",
      "Epoch 7/20\n",
      " - 2s - loss: 0.1763 - acc: 0.9458 - val_loss: 0.7367 - val_acc: 0.8431\n",
      "\n"
     ]
    },
    {
     "name": "stdout",
     "output_type": "stream",
     "text": [
      "Epoch 00007: val_loss did not improve from 0.61877\n",
      "Epoch 8/20\n",
      " - 2s - loss: 0.1472 - acc: 0.9554 - val_loss: 0.7432 - val_acc: 0.8515\n",
      "\n",
      "Epoch 00008: val_loss did not improve from 0.61877\n",
      "Epoch 9/20\n",
      " - 2s - loss: 0.1284 - acc: 0.9600 - val_loss: 0.7791 - val_acc: 0.8383\n",
      "\n",
      "Epoch 00009: val_loss did not improve from 0.61877\n",
      "Epoch 10/20\n",
      " - 2s - loss: 0.1069 - acc: 0.9660 - val_loss: 0.8079 - val_acc: 0.8431\n",
      "\n",
      "Epoch 00010: val_loss did not improve from 0.61877\n",
      "Epoch 11/20\n",
      " - 2s - loss: 0.0923 - acc: 0.9719 - val_loss: 0.8435 - val_acc: 0.8491\n",
      "\n",
      "Epoch 00011: val_loss did not improve from 0.61877\n",
      "Epoch 12/20\n",
      " - 2s - loss: 0.0782 - acc: 0.9741 - val_loss: 0.8167 - val_acc: 0.8539\n",
      "\n",
      "Epoch 00012: val_loss did not improve from 0.61877\n",
      "Epoch 13/20\n",
      " - 2s - loss: 0.0727 - acc: 0.9772 - val_loss: 0.8832 - val_acc: 0.8551\n",
      "\n",
      "Epoch 00013: val_loss did not improve from 0.61877\n",
      "Epoch 14/20\n",
      " - 2s - loss: 0.0607 - acc: 0.9799 - val_loss: 0.8298 - val_acc: 0.8635\n",
      "\n",
      "Epoch 00014: val_loss did not improve from 0.61877\n",
      "Epoch 15/20\n",
      " - 2s - loss: 0.0540 - acc: 0.9828 - val_loss: 0.8734 - val_acc: 0.8491\n",
      "\n",
      "Epoch 00015: val_loss did not improve from 0.61877\n",
      "Epoch 16/20\n",
      " - 2s - loss: 0.0447 - acc: 0.9870 - val_loss: 0.8585 - val_acc: 0.8455\n",
      "\n",
      "Epoch 00016: val_loss did not improve from 0.61877\n",
      "Epoch 17/20\n",
      " - 2s - loss: 0.0415 - acc: 0.9880 - val_loss: 0.8783 - val_acc: 0.8671\n",
      "\n",
      "Epoch 00017: val_loss did not improve from 0.61877\n",
      "Epoch 18/20\n",
      " - 2s - loss: 0.0390 - acc: 0.9885 - val_loss: 0.9566 - val_acc: 0.8467\n",
      "\n",
      "Epoch 00018: val_loss did not improve from 0.61877\n",
      "Epoch 19/20\n",
      " - 2s - loss: 0.0341 - acc: 0.9885 - val_loss: 0.9176 - val_acc: 0.8539\n",
      "\n",
      "Epoch 00019: val_loss did not improve from 0.61877\n",
      "Epoch 20/20\n",
      " - 2s - loss: 0.0320 - acc: 0.9904 - val_loss: 0.9540 - val_acc: 0.8539\n",
      "\n",
      "Epoch 00020: val_loss did not improve from 0.61877\n",
      "\tloading best model...\n",
      "\ttesting model...\n",
      "InceptionV3 Test accuracy: 78.4689\n",
      "testing network: Xception\n",
      "\tgetting bottleneck features...\n",
      "\tcompiling custom output nodes...\n",
      "\ttraining model...\n",
      "Train on 6680 samples, validate on 835 samples\n",
      "Epoch 1/20\n",
      " - 4s - loss: 1.0547 - acc: 0.7401 - val_loss: 0.5272 - val_acc: 0.8383\n",
      "\n",
      "Epoch 00001: val_loss improved from inf to 0.52718, saving model to saved_models/weights.best.Xception.hdf5\n",
      "Epoch 2/20\n",
      " - 3s - loss: 0.3967 - acc: 0.8740 - val_loss: 0.5053 - val_acc: 0.8479\n",
      "\n",
      "Epoch 00002: val_loss improved from 0.52718 to 0.50529, saving model to saved_models/weights.best.Xception.hdf5\n",
      "Epoch 3/20\n",
      " - 3s - loss: 0.3213 - acc: 0.8990 - val_loss: 0.4843 - val_acc: 0.8551\n",
      "\n",
      "Epoch 00003: val_loss improved from 0.50529 to 0.48428, saving model to saved_models/weights.best.Xception.hdf5\n",
      "Epoch 4/20\n",
      " - 3s - loss: 0.2763 - acc: 0.9151 - val_loss: 0.5278 - val_acc: 0.8431\n",
      "\n",
      "Epoch 00004: val_loss did not improve from 0.48428\n",
      "Epoch 5/20\n",
      " - 3s - loss: 0.2437 - acc: 0.9238 - val_loss: 0.5381 - val_acc: 0.8575\n",
      "\n",
      "Epoch 00005: val_loss did not improve from 0.48428\n",
      "Epoch 6/20\n",
      " - 3s - loss: 0.2164 - acc: 0.9313 - val_loss: 0.5322 - val_acc: 0.8515\n",
      "\n",
      "Epoch 00006: val_loss did not improve from 0.48428\n",
      "Epoch 7/20\n",
      " - 3s - loss: 0.1966 - acc: 0.9406 - val_loss: 0.5466 - val_acc: 0.8551\n",
      "\n",
      "Epoch 00007: val_loss did not improve from 0.48428\n",
      "Epoch 8/20\n",
      " - 3s - loss: 0.1784 - acc: 0.9446 - val_loss: 0.5430 - val_acc: 0.8599\n",
      "\n",
      "Epoch 00008: val_loss did not improve from 0.48428\n",
      "Epoch 9/20\n",
      " - 3s - loss: 0.1592 - acc: 0.9509 - val_loss: 0.5631 - val_acc: 0.8623\n",
      "\n",
      "Epoch 00009: val_loss did not improve from 0.48428\n",
      "Epoch 10/20\n",
      " - 3s - loss: 0.1435 - acc: 0.9546 - val_loss: 0.5691 - val_acc: 0.8563\n",
      "\n",
      "Epoch 00010: val_loss did not improve from 0.48428\n",
      "Epoch 11/20\n",
      " - 3s - loss: 0.1314 - acc: 0.9581 - val_loss: 0.6004 - val_acc: 0.8623\n",
      "\n",
      "Epoch 00011: val_loss did not improve from 0.48428\n",
      "Epoch 12/20\n",
      " - 3s - loss: 0.1245 - acc: 0.9608 - val_loss: 0.5857 - val_acc: 0.8671\n",
      "\n",
      "Epoch 00012: val_loss did not improve from 0.48428\n",
      "Epoch 13/20\n",
      " - 3s - loss: 0.1132 - acc: 0.9654 - val_loss: 0.6167 - val_acc: 0.8551\n",
      "\n",
      "Epoch 00013: val_loss did not improve from 0.48428\n",
      "Epoch 14/20\n",
      " - 3s - loss: 0.1049 - acc: 0.9684 - val_loss: 0.6156 - val_acc: 0.8599\n",
      "\n",
      "Epoch 00014: val_loss did not improve from 0.48428\n",
      "Epoch 15/20\n",
      " - 3s - loss: 0.0998 - acc: 0.9702 - val_loss: 0.6248 - val_acc: 0.8563\n",
      "\n",
      "Epoch 00015: val_loss did not improve from 0.48428\n",
      "Epoch 16/20\n",
      " - 3s - loss: 0.0917 - acc: 0.9719 - val_loss: 0.6193 - val_acc: 0.8587\n",
      "\n",
      "Epoch 00016: val_loss did not improve from 0.48428\n",
      "Epoch 17/20\n",
      " - 3s - loss: 0.0849 - acc: 0.9735 - val_loss: 0.6661 - val_acc: 0.8563\n",
      "\n",
      "Epoch 00017: val_loss did not improve from 0.48428\n",
      "Epoch 18/20\n",
      " - 3s - loss: 0.0800 - acc: 0.9757 - val_loss: 0.6455 - val_acc: 0.8587\n",
      "\n",
      "Epoch 00018: val_loss did not improve from 0.48428\n",
      "Epoch 19/20\n",
      " - 3s - loss: 0.0768 - acc: 0.9760 - val_loss: 0.6718 - val_acc: 0.8635\n",
      "\n",
      "Epoch 00019: val_loss did not improve from 0.48428\n",
      "Epoch 20/20\n",
      " - 3s - loss: 0.0700 - acc: 0.9787 - val_loss: 0.6972 - val_acc: 0.8539\n",
      "\n",
      "Epoch 00020: val_loss did not improve from 0.48428\n",
      "\tloading best model...\n",
      "\ttesting model...\n",
      "Xception Test accuracy: 84.3301\n",
      "[('VGG19', 52.51196172248804), ('ResNet50', 80.98086124401914), ('InceptionV3', 78.4688995215311), ('Xception', 84.33014354066985)]\n"
     ]
    }
   ],
   "source": [
    "### TODO: Obtain bottleneck features from another pre-trained CNN.\n",
    "\n",
    "# function to test a network\n",
    "networks = ['VGG19', 'ResNet50', 'InceptionV3', 'Xception']\n",
    "\n",
    "def xfer_net_tester(network_name):\n",
    "    print(f'testing network: {network}')\n",
    "    \n",
    "    # get bottleneck features\n",
    "    print('\\tgetting bottleneck features...')\n",
    "    bottleneck_features = np.load(f'bottleneck_features/Dog{network}Data.npz')\n",
    "    \n",
    "    # translate read-in features into test-train-validate\n",
    "    train_bottle = bottleneck_features['train']\n",
    "    valid_bottle = bottleneck_features['valid']\n",
    "    test_bottle = bottleneck_features['test']\n",
    "    \n",
    "    # compile our own output sigmoids\n",
    "    print('\\tcompiling custom output nodes...')\n",
    "    xfer_model = Sequential()\n",
    "    xfer_model.add(GlobalAveragePooling2D(input_shape=train_bottle.shape[1:]))\n",
    "    xfer_model.add(Dense(133, activation='softmax'))\n",
    "\n",
    "    #xfer_model.summary()\n",
    "    xfer_model.compile(loss='categorical_crossentropy', optimizer='rmsprop', metrics=['accuracy'])\n",
    "    \n",
    "    print('\\ttraining model...')\n",
    "    checkpointer = ModelCheckpoint(filepath=f'saved_models/weights.best.{network}.hdf5', \n",
    "                               verbose=1, save_best_only=True)\n",
    "\n",
    "    xfer_model.fit(train_bottle, train_targets, \n",
    "          validation_data=(valid_bottle, valid_targets),\n",
    "          epochs=20, batch_size=20, callbacks=[checkpointer], verbose=2)\n",
    "    \n",
    "    # load best model\n",
    "    print('\\tloading best model...')\n",
    "    xfer_model.load_weights(f'saved_models/weights.best.{network}.hdf5')\n",
    "    \n",
    "    # get index of predicted dog breed for each image in test set\n",
    "    print('\\ttesting model...')\n",
    "    xfer_predictions = [np.argmax(xfer_model.predict(np.expand_dims(feature, axis=0))) for feature in test_bottle]\n",
    "\n",
    "    # report test accuracy\n",
    "    test_accuracy = 100*np.sum(np.array(xfer_predictions)==np.argmax(test_targets, axis=1))/len(xfer_predictions)\n",
    "    \n",
    "    print('{} Test accuracy: {:.4f}'.format(network, test_accuracy))\n",
    "    return test_accuracy\n",
    "    \n",
    "n_accs = []\n",
    "for network in networks:\n",
    "    n_acc = xfer_net_tester(network)\n",
    "    n_accs.append((network, n_acc))\n",
    "\n",
    "print(n_accs)\n",
    "            "
   ]
  },
  {
   "cell_type": "markdown",
   "metadata": {},
   "source": [
    "### (IMPLEMENTATION) Model Architecture\n",
    "\n",
    "Create a CNN to classify dog breed.  At the end of your code cell block, summarize the layers of your model by executing the line:\n",
    "    \n",
    "        <your model's name>.summary()\n",
    "   \n",
    "__Question 5:__ Outline the steps you took to get to your final CNN architecture and your reasoning at each step.  Describe why you think the architecture is suitable for the current problem.\n",
    "\n",
    "__Answer:__ \n",
    "\n"
   ]
  },
  {
   "cell_type": "code",
   "execution_count": null,
   "metadata": {},
   "outputs": [],
   "source": [
    "# Define your architecture.\n",
    "# it appears that the Xception model performs the best\n",
    "\n",
    "from keras.callbacks import History \n",
    "history = History()\n",
    "\n",
    "net = 'Xception'\n",
    "\n",
    "# get bottleneck features\n",
    "bottleneck_features = np.load(f'bottleneck_features/Dog{net}Data.npz')\n",
    "\n",
    "# translate read-in features into test-train-validate\n",
    "train_bottle = bottleneck_features['train']\n",
    "valid_bottle = bottleneck_features['valid']\n",
    "test_bottle = bottleneck_features['test']"
   ]
  },
  {
   "cell_type": "code",
   "execution_count": 49,
   "metadata": {},
   "outputs": [
    {
     "name": "stdout",
     "output_type": "stream",
     "text": [
      "_________________________________________________________________\n",
      "Layer (type)                 Output Shape              Param #   \n",
      "=================================================================\n",
      "global_average_pooling2d_15  (None, 2048)              0         \n",
      "_________________________________________________________________\n",
      "dense_15 (Dense)             (None, 133)               272517    \n",
      "=================================================================\n",
      "Total params: 272,517\n",
      "Trainable params: 272,517\n",
      "Non-trainable params: 0\n",
      "_________________________________________________________________\n"
     ]
    }
   ],
   "source": [
    "# define custom model architecture\n",
    "custom_model = Sequential()\n",
    "custom_model.add(GlobalAveragePooling2D(input_shape=train_bottle.shape[1:]))\n",
    "custom_model.add(Dense(133, activation='softmax'))\n",
    "\n",
    "custom_model.summary()"
   ]
  },
  {
   "cell_type": "markdown",
   "metadata": {},
   "source": [
    "### (IMPLEMENTATION) Compile the Model"
   ]
  },
  {
   "cell_type": "code",
   "execution_count": 50,
   "metadata": {},
   "outputs": [],
   "source": [
    "# Compile the model.\n",
    "custom_model.compile(loss='categorical_crossentropy', optimizer='rmsprop', metrics=['accuracy'])"
   ]
  },
  {
   "cell_type": "markdown",
   "metadata": {},
   "source": [
    "### (IMPLEMENTATION) Train the Model\n",
    "\n",
    "Train your model in the code cell below.  Use model checkpointing to save the model that attains the best validation loss.  \n",
    "\n",
    "You are welcome to [augment the training data](https://blog.keras.io/building-powerful-image-classification-models-using-very-little-data.html), but this is not a requirement. "
   ]
  },
  {
   "cell_type": "code",
   "execution_count": 58,
   "metadata": {},
   "outputs": [
    {
     "name": "stdout",
     "output_type": "stream",
     "text": [
      "training model...\n",
      "Train on 6680 samples, validate on 835 samples\n",
      "Epoch 1/20\n",
      " - 3s - loss: 0.0165 - acc: 0.9964 - val_loss: 1.0166 - val_acc: 0.8491\n",
      "\n",
      "Epoch 00001: val_loss improved from inf to 1.01656, saving model to saved_models/weights.best.Xception.hdf5\n",
      "Epoch 2/20\n",
      " - 3s - loss: 0.0157 - acc: 0.9966 - val_loss: 1.0435 - val_acc: 0.8527\n",
      "\n",
      "Epoch 00002: val_loss did not improve from 1.01656\n",
      "Epoch 3/20\n",
      " - 3s - loss: 0.0144 - acc: 0.9972 - val_loss: 1.0413 - val_acc: 0.8467\n",
      "\n",
      "Epoch 00003: val_loss did not improve from 1.01656\n",
      "Epoch 4/20\n",
      " - 3s - loss: 0.0155 - acc: 0.9966 - val_loss: 1.0669 - val_acc: 0.8431\n",
      "\n",
      "Epoch 00004: val_loss did not improve from 1.01656\n",
      "Epoch 5/20\n",
      " - 3s - loss: 0.0145 - acc: 0.9969 - val_loss: 1.0477 - val_acc: 0.8407\n",
      "\n",
      "Epoch 00005: val_loss did not improve from 1.01656\n",
      "Epoch 6/20\n",
      " - 3s - loss: 0.0146 - acc: 0.9969 - val_loss: 1.0460 - val_acc: 0.8479\n",
      "\n",
      "Epoch 00006: val_loss did not improve from 1.01656\n",
      "Epoch 7/20\n",
      " - 3s - loss: 0.0139 - acc: 0.9972 - val_loss: 1.0148 - val_acc: 0.8479\n",
      "\n",
      "Epoch 00007: val_loss improved from 1.01656 to 1.01482, saving model to saved_models/weights.best.Xception.hdf5\n",
      "Epoch 8/20\n",
      " - 4s - loss: 0.0140 - acc: 0.9975 - val_loss: 1.0445 - val_acc: 0.8491\n",
      "\n",
      "Epoch 00008: val_loss did not improve from 1.01482\n",
      "Epoch 9/20\n",
      " - 3s - loss: 0.0137 - acc: 0.9976 - val_loss: 1.0774 - val_acc: 0.8491\n",
      "\n",
      "Epoch 00009: val_loss did not improve from 1.01482\n",
      "Epoch 10/20\n",
      " - 3s - loss: 0.0128 - acc: 0.9972 - val_loss: 1.0333 - val_acc: 0.8479\n",
      "\n",
      "Epoch 00010: val_loss did not improve from 1.01482\n",
      "Epoch 11/20\n",
      " - 3s - loss: 0.0128 - acc: 0.9976 - val_loss: 1.0622 - val_acc: 0.8479\n",
      "\n",
      "Epoch 00011: val_loss did not improve from 1.01482\n",
      "Epoch 12/20\n",
      " - 3s - loss: 0.0132 - acc: 0.9981 - val_loss: 1.0804 - val_acc: 0.8491\n",
      "\n",
      "Epoch 00012: val_loss did not improve from 1.01482\n",
      "Epoch 13/20\n",
      " - 3s - loss: 0.0136 - acc: 0.9978 - val_loss: 1.0654 - val_acc: 0.8431\n",
      "\n",
      "Epoch 00013: val_loss did not improve from 1.01482\n",
      "Epoch 14/20\n",
      " - 3s - loss: 0.0121 - acc: 0.9982 - val_loss: 1.1191 - val_acc: 0.8515\n",
      "\n",
      "Epoch 00014: val_loss did not improve from 1.01482\n",
      "Epoch 15/20\n",
      " - 3s - loss: 0.0138 - acc: 0.9978 - val_loss: 1.0830 - val_acc: 0.8467\n",
      "\n",
      "Epoch 00015: val_loss did not improve from 1.01482\n",
      "Epoch 16/20\n",
      " - 3s - loss: 0.0129 - acc: 0.9982 - val_loss: 1.0786 - val_acc: 0.8551\n",
      "\n",
      "Epoch 00016: val_loss did not improve from 1.01482\n",
      "Epoch 17/20\n",
      " - 3s - loss: 0.0142 - acc: 0.9978 - val_loss: 1.0933 - val_acc: 0.8503\n",
      "\n",
      "Epoch 00017: val_loss did not improve from 1.01482\n",
      "Epoch 18/20\n",
      " - 3s - loss: 0.0125 - acc: 0.9975 - val_loss: 1.1258 - val_acc: 0.8431\n",
      "\n",
      "Epoch 00018: val_loss did not improve from 1.01482\n",
      "Epoch 19/20\n",
      " - 3s - loss: 0.0127 - acc: 0.9982 - val_loss: 1.1055 - val_acc: 0.8431\n",
      "\n",
      "Epoch 00019: val_loss did not improve from 1.01482\n",
      "Epoch 20/20\n",
      " - 3s - loss: 0.0129 - acc: 0.9978 - val_loss: 1.0912 - val_acc: 0.8479\n",
      "\n",
      "Epoch 00020: val_loss did not improve from 1.01482\n",
      "Wall time: 1min 2s\n"
     ]
    },
    {
     "data": {
      "text/plain": [
       "<keras.callbacks.History at 0x2ea08156128>"
      ]
     },
     "execution_count": 58,
     "metadata": {},
     "output_type": "execute_result"
    }
   ],
   "source": [
    "%%time\n",
    "\n",
    "# Train the model.\n",
    "\n",
    "print('training model...')\n",
    "checkpointer = ModelCheckpoint(filepath=f'saved_models/weights.best.{net}.hdf5', \n",
    "                           verbose=1, save_best_only=True)\n",
    "\n",
    "custom_model.fit(train_bottle, train_targets, \n",
    "      validation_data=(valid_bottle, valid_targets),\n",
    "      epochs=20, batch_size=20, callbacks=[checkpointer, history], verbose=2)"
   ]
  },
  {
   "cell_type": "code",
   "execution_count": 59,
   "metadata": {},
   "outputs": [
    {
     "name": "stdout",
     "output_type": "stream",
     "text": [
      "dict_keys(['val_loss', 'val_acc', 'loss', 'acc'])\n"
     ]
    }
   ],
   "source": [
    "print(history.history.keys())"
   ]
  },
  {
   "cell_type": "code",
   "execution_count": 86,
   "metadata": {},
   "outputs": [
    {
     "data": {
      "image/png": "[encoded data removed]",
      "text/plain": [
       "<Figure size 432x288 with 2 Axes>"
      ]
     },
     "metadata": {
      "needs_background": "light"
     },
     "output_type": "display_data"
    }
   ],
   "source": [
    "import matplotlib.pyplot as plt\n",
    "import seaborn as sns\n",
    "\n",
    "epochs = range(len(history.history['acc']))\n",
    "\n",
    "fig, (ax1, ax2) = plt.subplots(nrows = 1, ncols = 2)\n",
    "\n",
    "sns.lineplot(x = epochs, y=history.history['acc'], ax=ax1, label = 'acc')\n",
    "sns.lineplot(x = epochs, y=history.history['val_acc'], ax=ax1, label = 'val_acc')\n",
    "ax1.set_ylim(.5, 1.05);\n",
    "ax1.set_title('Rolling accuracy');\n",
    "\n",
    "sns.lineplot(x = epochs, y=history.history['loss'], ax=ax2, label = 'loss')\n",
    "sns.lineplot(x = epochs, y=history.history['val_loss'], ax=ax2, label = 'val_loss')\n",
    "#ax[1].set_ylim(.5, 1.05);\n",
    "ax2.set_title('Rolling loss');\n",
    "\n",
    "fig.suptitle(f'{net} training metrics', fontsize = 16);"
   ]
  },
  {
   "cell_type": "markdown",
   "metadata": {},
   "source": [
    "### (IMPLEMENTATION) Load the Model with the Best Validation Loss"
   ]
  },
  {
   "cell_type": "code",
   "execution_count": null,
   "metadata": {
    "collapsed": true
   },
   "outputs": [],
   "source": [
    "### TODO: Load the model weights with the best validation loss."
   ]
  },
  {
   "cell_type": "markdown",
   "metadata": {},
   "source": [
    "### (IMPLEMENTATION) Test the Model\n",
    "\n",
    "Try out your model on the test dataset of dog images. Ensure that your test accuracy is greater than 60%."
   ]
  },
  {
   "cell_type": "code",
   "execution_count": null,
   "metadata": {
    "collapsed": true
   },
   "outputs": [],
   "source": [
    "### TODO: Calculate classification accuracy on the test dataset."
   ]
  },
  {
   "cell_type": "markdown",
   "metadata": {},
   "source": [
    "### (IMPLEMENTATION) Predict Dog Breed with the Model\n",
    "\n",
    "Write a function that takes an image path as input and returns the dog breed (`Affenpinscher`, `Afghan_hound`, etc) that is predicted by your model.  \n",
    "\n",
    "Similar to the analogous function in Step 5, your function should have three steps:\n",
    "1. Extract the bottleneck features corresponding to the chosen CNN model.\n",
    "2. Supply the bottleneck features as input to the model to return the predicted vector.  Note that the argmax of this prediction vector gives the index of the predicted dog breed.\n",
    "3. Use the `dog_names` array defined in Step 0 of this notebook to return the corresponding breed.\n",
    "\n",
    "The functions to extract the bottleneck features can be found in `extract_bottleneck_features.py`, and they have been imported in an earlier code cell.  To obtain the bottleneck features corresponding to your chosen CNN architecture, you need to use the function\n",
    "\n",
    "    extract_{network}\n",
    "    \n",
    "where `{network}`, in the above filename, should be one of `VGG19`, `Resnet50`, `InceptionV3`, or `Xception`."
   ]
  },
  {
   "cell_type": "code",
   "execution_count": null,
   "metadata": {
    "collapsed": true
   },
   "outputs": [],
   "source": [
    "### TODO: Write a function that takes a path to an image as input\n",
    "### and returns the dog breed that is predicted by the model."
   ]
  },
  {
   "cell_type": "markdown",
   "metadata": {},
   "source": [
    "---\n",
    "<a id='step6'></a>\n",
    "## Step 6: Write your Algorithm\n",
    "\n",
    "Write an algorithm that accepts a file path to an image and first determines whether the image contains a human, dog, or neither.  Then,\n",
    "- if a __dog__ is detected in the image, return the predicted breed.\n",
    "- if a __human__ is detected in the image, return the resembling dog breed.\n",
    "- if __neither__ is detected in the image, provide output that indicates an error.\n",
    "\n",
    "You are welcome to write your own functions for detecting humans and dogs in images, but feel free to use the `face_detector` and `dog_detector` functions developed above.  You are __required__ to use your CNN from Step 5 to predict dog breed.  \n",
    "\n",
    "Some sample output for our algorithm is provided below, but feel free to design your own user experience!\n",
    "\n",
    "![Sample Human Output](images/sample_human_output.png)\n",
    "\n",
    "\n",
    "### (IMPLEMENTATION) Write your Algorithm"
   ]
  },
  {
   "cell_type": "code",
   "execution_count": null,
   "metadata": {
    "collapsed": true
   },
   "outputs": [],
   "source": [
    "### TODO: Write your algorithm.\n",
    "### Feel free to use as many code cells as needed."
   ]
  },
  {
   "cell_type": "markdown",
   "metadata": {},
   "source": [
    "---\n",
    "<a id='step7'></a>\n",
    "## Step 7: Test Your Algorithm\n",
    "\n",
    "In this section, you will take your new algorithm for a spin!  What kind of dog does the algorithm think that __you__ look like?  If you have a dog, does it predict your dog's breed accurately?  If you have a cat, does it mistakenly think that your cat is a dog?\n",
    "\n",
    "### (IMPLEMENTATION) Test Your Algorithm on Sample Images!\n",
    "\n",
    "Test your algorithm at least six images on your computer.  Feel free to use any images you like.  Use at least two human and two dog images.  \n",
    "\n",
    "__Question 6:__ Is the output better than you expected :) ?  Or worse :( ?  Provide at least three possible points of improvement for your algorithm.\n",
    "\n",
    "__Answer:__ "
   ]
  },
  {
   "cell_type": "code",
   "execution_count": null,
   "metadata": {
    "collapsed": true
   },
   "outputs": [],
   "source": [
    "## TODO: Execute your algorithm from Step 6 on\n",
    "## at least 6 images on your computer.\n",
    "## Feel free to use as many code cells as needed."
   ]
  }
 ],
 "metadata": {
  "anaconda-cloud": {},
  "kernelspec": {
   "display_name": "Python (testenv)",
   "language": "python",
   "name": "testenv"
  },
  "language_info": {
   "codemirror_mode": {
    "name": "ipython",
    "version": 3
   },
   "file_extension": ".py",
   "mimetype": "text/x-python",
   "name": "python",
   "nbconvert_exporter": "python",
   "pygments_lexer": "ipython3",
   "version": "3.7.3"
  }
 },
 "nbformat": 4,
 "nbformat_minor": 2
}
