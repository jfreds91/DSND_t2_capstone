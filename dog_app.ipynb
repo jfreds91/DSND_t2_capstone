{
 "cells": [
  {
   "cell_type": "markdown",
   "metadata": {},
   "source": [
    "In order to work, this notebook _must_ be opened from anaconda prompt run in administrator mode. Navigate to the parent folder, activate conda env 'testenv', and open jupyter with 'jupyter notebook'"
   ]
  },
  {
   "cell_type": "markdown",
   "metadata": {},
   "source": []
  },
  {
   "cell_type": "code",
   "execution_count": null,
   "metadata": {},
   "outputs": [],
   "source": []
  },
  {
   "cell_type": "markdown",
   "metadata": {},
   "source": [
    "# Artificial Intelligence Nanodegree\n",
    "\n",
    "## Convolutional Neural Networks\n",
    "\n",
    "## Project: Write an Algorithm for a Dog Identification App \n",
    "\n",
    "---\n",
    "\n",
    "In this notebook, some template code has already been provided for you, and you will need to implement additional functionality to successfully complete this project. You will not need to modify the included code beyond what is requested. Sections that begin with **'(IMPLEMENTATION)'** in the header indicate that the following block of code will require additional functionality which you must provide. Instructions will be provided for each section, and the specifics of the implementation are marked in the code block with a 'TODO' statement. Please be sure to read the instructions carefully! \n",
    "\n",
    "> **Note**: Once you have completed all of the code implementations, you need to finalize your work by exporting the iPython Notebook as an HTML document. Before exporting the notebook to html, all of the code cells need to have been run so that reviewers can see the final implementation and output. You can then export the notebook by using the menu above and navigating to  \\n\",\n",
    "    \"**File -> Download as -> HTML (.html)**. Include the finished document along with this notebook as your submission.\n",
    "\n",
    "In addition to implementing code, there will be questions that you must answer which relate to the project and your implementation. Each section where you will answer a question is preceded by a **'Question X'** header. Carefully read each question and provide thorough answers in the following text boxes that begin with **'Answer:'**. Your project submission will be evaluated based on your answers to each of the questions and the implementation you provide.\n",
    "\n",
    ">**Note:** Code and Markdown cells can be executed using the **Shift + Enter** keyboard shortcut.  Markdown cells can be edited by double-clicking the cell to enter edit mode.\n",
    "\n",
    "The rubric contains _optional_ \"Stand Out Suggestions\" for enhancing the project beyond the minimum requirements. If you decide to pursue the \"Stand Out Suggestions\", you should include the code in this IPython notebook.\n",
    "\n",
    "\n",
    "\n",
    "---\n",
    "### Why We're Here \n",
    "\n",
    "In this notebook, you will make the first steps towards developing an algorithm that could be used as part of a mobile or web app.  At the end of this project, your code will accept any user-supplied image as input.  If a dog is detected in the image, it will provide an estimate of the dog's breed.  If a human is detected, it will provide an estimate of the dog breed that is most resembling.  The image below displays potential sample output of your finished project (... but we expect that each student's algorithm will behave differently!). \n",
    "\n",
    "![Sample Dog Output](images/sample_dog_output.png)\n",
    "\n",
    "In this real-world setting, you will need to piece together a series of models to perform different tasks; for instance, the algorithm that detects humans in an image will be different from the CNN that infers dog breed.  There are many points of possible failure, and no perfect algorithm exists.  Your imperfect solution will nonetheless create a fun user experience!\n",
    "\n",
    "### The Road Ahead\n",
    "\n",
    "We break the notebook into separate steps.  Feel free to use the links below to navigate the notebook.\n",
    "\n",
    "* [Step 0](#step0): Import Datasets\n",
    "* [Step 1](#step1): Detect Humans\n",
    "* [Step 2](#step2): Detect Dogs\n",
    "* [Step 3](#step3): Create a CNN to Classify Dog Breeds (from Scratch)\n",
    "* [Step 4](#step4): Use a CNN to Classify Dog Breeds (using Transfer Learning)\n",
    "* [Step 5](#step5): Create a CNN to Classify Dog Breeds (using Transfer Learning)\n",
    "* [Step 6](#step6): Write your Algorithm\n",
    "* [Step 7](#step7): Test Your Algorithm\n",
    "\n",
    "---\n",
    "<a id='step0'></a>\n",
    "## Step 0: Import Datasets\n",
    "\n",
    "### Import Dog Dataset\n",
    "\n",
    "In the code cell below, we import a dataset of dog images.  We populate a few variables through the use of the `load_files` function from the scikit-learn library:\n",
    "- `train_files`, `valid_files`, `test_files` - numpy arrays containing file paths to images\n",
    "- `train_targets`, `valid_targets`, `test_targets` - numpy arrays containing onehot-encoded classification labels \n",
    "- `dog_names` - list of string-valued dog breed names for translating labels"
   ]
  },
  {
   "cell_type": "code",
   "execution_count": 69,
   "metadata": {},
   "outputs": [
    {
     "name": "stdout",
     "output_type": "stream",
     "text": [
      "[name: \"/device:CPU:0\"\n",
      "device_type: \"CPU\"\n",
      "memory_limit: 268435456\n",
      "locality {\n",
      "}\n",
      "incarnation: 13613321056449932122\n",
      ", name: \"/device:GPU:0\"\n",
      "device_type: \"GPU\"\n",
      "memory_limit: 6700198133\n",
      "locality {\n",
      "  bus_id: 1\n",
      "  links {\n",
      "  }\n",
      "}\n",
      "incarnation: 18090036786881134405\n",
      "physical_device_desc: \"device: 0, name: GeForce GTX 1070, pci bus id: 0000:01:00.0, compute capability: 6.1\"\n",
      "]\n"
     ]
    }
   ],
   "source": [
    "# import statements\n",
    "\n",
    "# general\n",
    "import numpy as np\n",
    "import random\n",
    "from glob import glob\n",
    "import cv2\n",
    "from tqdm import tqdm\n",
    "from extract_bottleneck_features import *\n",
    "import os\n",
    "\n",
    "# keras\n",
    "from keras import regularizers\n",
    "from keras import optimizers\n",
    "from keras import Model\n",
    "\n",
    "from keras.utils import np_utils\n",
    "\n",
    "from keras.applications.resnet50 import ResNet50\n",
    "from keras.applications.resnet50 import preprocess_input, decode_predictions\n",
    "from keras.applications import xception\n",
    "\n",
    "from keras.preprocessing import image  \n",
    "from keras.preprocessing.image import ImageDataGenerator, array_to_img, img_to_array, load_img\n",
    "\n",
    "from keras.layers import Conv2D, MaxPooling2D, GlobalAveragePooling2D\n",
    "from keras.layers import Dropout, Flatten, Dense\n",
    "from keras.models import Sequential\n",
    "\n",
    "from keras.callbacks import ModelCheckpoint\n",
    "from keras.callbacks import History\n",
    "\n",
    "# sklearn\n",
    "from sklearn.datasets import load_files\n",
    "\n",
    "# image processing\n",
    "from PIL import ImageFile                            \n",
    "ImageFile.LOAD_TRUNCATED_IMAGES = True\n",
    "\n",
    "# plotting\n",
    "import matplotlib.pyplot as plt\n",
    "import matplotlib.image as mpimg\n",
    "import seaborn as sns\n",
    "%matplotlib inline\n",
    "\n",
    "# tensorflow\n",
    "import tensorflow as tf\n",
    "from tensorflow.python.client import device_lib\n",
    "print(device_lib.list_local_devices())"
   ]
  },
  {
   "cell_type": "code",
   "execution_count": 2,
   "metadata": {},
   "outputs": [],
   "source": [
    "# tensorflow local GPU configuration\n",
    "gpu_options = tf.GPUOptions(per_process_gpu_memory_fraction=0.8)\n",
    "config = tf.ConfigProto()\n",
    "config.gpu_options.allow_growth = True\n",
    "session = tf.Session(config=config)"
   ]
  },
  {
   "cell_type": "code",
   "execution_count": 3,
   "metadata": {},
   "outputs": [
    {
     "name": "stdout",
     "output_type": "stream",
     "text": [
      "There are 133 total dog categories.\n",
      "There are 8351 total dog images.\n",
      "\n",
      "There are 6680 training dog images.\n",
      "There are 835 validation dog images.\n",
      "There are 836 test dog images.\n"
     ]
    }
   ],
   "source": [
    "# define function to load train, test, and validation datasets\n",
    "def load_dataset(path):\n",
    "    data = load_files(path)\n",
    "    dog_files = np.array(data['filenames'])\n",
    "    dog_targets = np_utils.to_categorical(np.array(data['target']))#, 133)\n",
    "    return dog_files, dog_targets\n",
    "\n",
    "# load train, test, and validation datasets\n",
    "train_files, train_targets = load_dataset('dogImages/train')\n",
    "valid_files, valid_targets = load_dataset('dogImages/valid')\n",
    "test_files, test_targets = load_dataset('dogImages/test')\n",
    "\n",
    "# load list of dog names\n",
    "# the [20:-1] portion simply removes the filepath and folder number\n",
    "dog_names = [item[20:-1] for item in sorted(glob(\"dogImages/train/*/\"))]\n",
    "\n",
    "# print statistics about the dataset\n",
    "print('There are %d total dog categories.' % len(dog_names))\n",
    "print('There are %s total dog images.\\n' % len(np.hstack([train_files, valid_files, test_files])))\n",
    "print('There are %d training dog images.' % len(train_files))\n",
    "print('There are %d validation dog images.' % len(valid_files))\n",
    "print('There are %d test dog images.'% len(test_files))"
   ]
  },
  {
   "cell_type": "markdown",
   "metadata": {},
   "source": [
    "### Import Human Dataset\n",
    "\n",
    "In the code cell below, we import a dataset of human images, where the file paths are stored in the numpy array `human_files`."
   ]
  },
  {
   "cell_type": "code",
   "execution_count": null,
   "metadata": {},
   "outputs": [],
   "source": [
    "random.seed(8675309)\n",
    "\n",
    "# load filenames in shuffled human dataset\n",
    "human_files = np.array(glob(\"lfw/*/*\"))\n",
    "random.shuffle(human_files)\n",
    "\n",
    "# print statistics about the dataset\n",
    "print('There are %d total human images.' % len(human_files))"
   ]
  },
  {
   "cell_type": "markdown",
   "metadata": {},
   "source": [
    "---\n",
    "<a id='step1'></a>\n",
    "## Step 1: Detect Humans\n",
    "\n",
    "We use OpenCV's implementation of [Haar feature-based cascade classifiers](http://docs.opencv.org/trunk/d7/d8b/tutorial_py_face_detection.html) to detect human faces in images.  OpenCV provides many pre-trained face detectors, stored as XML files on [github](https://github.com/opencv/opencv/tree/master/data/haarcascades).  We have downloaded one of these detectors and stored it in the `haarcascades` directory.\n",
    "\n",
    "In the next code cell, we demonstrate how to use this detector to find human faces in a sample image."
   ]
  },
  {
   "cell_type": "code",
   "execution_count": null,
   "metadata": {},
   "outputs": [],
   "source": [
    "import cv2                \n",
    "import matplotlib.pyplot as plt                        \n",
    "%matplotlib inline                               \n",
    "\n",
    "# extract pre-trained face detector\n",
    "face_cascade = cv2.CascadeClassifier('haarcascades/haarcascade_frontalface_alt.xml')\n",
    "\n",
    "# load color (BGR) image\n",
    "img = cv2.imread(human_files[5])\n",
    "# convert BGR image to grayscale\n",
    "gray = cv2.cvtColor(img, cv2.COLOR_BGR2GRAY)\n",
    "\n",
    "# find faces in image\n",
    "faces = face_cascade.detectMultiScale(gray)\n",
    "\n",
    "# print number of faces detected in the image\n",
    "print('Number of faces detected:', len(faces))\n",
    "\n",
    "# get bounding box for each detected face\n",
    "for (x,y,w,h) in faces:\n",
    "    # add bounding box to color image\n",
    "    cv2.rectangle(img,(x,y),(x+w,y+h),(255,0,0),2)\n",
    "    \n",
    "# convert BGR image to RGB for plotting\n",
    "cv_rgb = cv2.cvtColor(img, cv2.COLOR_BGR2RGB)\n",
    "\n",
    "# display the image, along with bounding box\n",
    "plt.imshow(cv_rgb)\n",
    "plt.show()"
   ]
  },
  {
   "cell_type": "markdown",
   "metadata": {},
   "source": [
    "Before using any of the face detectors, it is standard procedure to convert the images to grayscale.  The `detectMultiScale` function executes the classifier stored in `face_cascade` and takes the grayscale image as a parameter.  \n",
    "\n",
    "In the above code, `faces` is a numpy array of detected faces, where each row corresponds to a detected face.  Each detected face is a 1D array with four entries that specifies the bounding box of the detected face.  The first two entries in the array (extracted in the above code as `x` and `y`) specify the horizontal and vertical positions of the top left corner of the bounding box.  The last two entries in the array (extracted here as `w` and `h`) specify the width and height of the box.\n",
    "\n",
    "### Write a Human Face Detector\n",
    "\n",
    "We can use this procedure to write a function that returns `True` if a human face is detected in an image and `False` otherwise.  This function, aptly named `face_detector`, takes a string-valued file path to an image as input and appears in the code block below."
   ]
  },
  {
   "cell_type": "code",
   "execution_count": null,
   "metadata": {},
   "outputs": [],
   "source": [
    "# returns \"True\" if face is detected in image stored at img_path\n",
    "def face_detector(img_path):\n",
    "    img = cv2.imread(img_path)\n",
    "    gray = cv2.cvtColor(img, cv2.COLOR_BGR2GRAY)\n",
    "    faces = face_cascade.detectMultiScale(gray)\n",
    "    return len(faces) > 0"
   ]
  },
  {
   "cell_type": "markdown",
   "metadata": {},
   "source": [
    "### (IMPLEMENTATION) Assess the Human Face Detector\n",
    "\n",
    "__Question 1:__ Use the code cell below to test the performance of the `face_detector` function.  \n",
    "- What percentage of the first 100 images in `human_files` have a detected human face?  \n",
    "- What percentage of the first 100 images in `dog_files` have a detected human face? \n",
    "\n",
    "Ideally, we would like 100% of human images with a detected face and 0% of dog images with a detected face.  You will see that our algorithm falls short of this goal, but still gives acceptable performance.  We extract the file paths for the first 100 images from each of the datasets and store them in the numpy arrays `human_files_short` and `dog_files_short`.\n",
    "\n",
    "__Answer:__ \n",
    "\n",
    "The algorithm finds human faces in 99% of the human subset and 12% of the dog subset"
   ]
  },
  {
   "cell_type": "code",
   "execution_count": null,
   "metadata": {},
   "outputs": [],
   "source": [
    "human_files_short = human_files[:100]\n",
    "dog_files_short = train_files[:100]\n",
    "# Do NOT modify the code above this line.\n",
    "\n",
    "## TODO: Test the performance of the face_detector algorithm \n",
    "## on the images in human_files_short and dog_files_short.\n",
    "human_found = 0\n",
    "dogman_found = 0\n",
    "for img_path in human_files_short:\n",
    "    if face_detector(img_path):\n",
    "        human_found += 1\n",
    "\n",
    "for img_path in dog_files_short:\n",
    "    if face_detector(img_path):\n",
    "        dogman_found += 1\n",
    "        \n",
    "print(f'Found {human_found} faces in the human dataset')\n",
    "print(f'Found {dogman_found} faces in the dog dataset')\n"
   ]
  },
  {
   "cell_type": "markdown",
   "metadata": {},
   "source": [
    "__Question 2:__ This algorithmic choice necessitates that we communicate to the user that we accept human images only when they provide a clear view of a face (otherwise, we risk having unneccessarily frustrated users!). In your opinion, is this a reasonable expectation to pose on the user? If not, can you think of a way to detect humans in images that does not necessitate an image with a clearly presented face?\n",
    "\n",
    "__Answer:__\n",
    "\n",
    "We suggest the face detector from OpenCV as a potential way to detect human images in your algorithm, but you are free to explore other approaches, especially approaches that make use of deep learning :).  Please use the code cell below to design and test your own face detection algorithm.  If you decide to pursue this _optional_ task, report performance on each of the datasets."
   ]
  },
  {
   "cell_type": "code",
   "execution_count": null,
   "metadata": {},
   "outputs": [],
   "source": [
    "## (Optional) TODO: Report the performance of another  \n",
    "## face detection algorithm on the LFW dataset\n",
    "### Feel free to use as many code cells as needed."
   ]
  },
  {
   "cell_type": "markdown",
   "metadata": {},
   "source": [
    "---\n",
    "<a id='step2'></a>\n",
    "## Step 2: Detect Dogs\n",
    "\n",
    "In this section, we use a pre-trained [ResNet-50](http://ethereon.github.io/netscope/#/gist/db945b393d40bfa26006) model to detect dogs in images.  Our first line of code downloads the ResNet-50 model, along with weights that have been trained on [ImageNet](http://www.image-net.org/), a very large, very popular dataset used for image classification and other vision tasks.  ImageNet contains over 10 million URLs, each linking to an image containing an object from one of [1000 categories](https://gist.github.com/yrevar/942d3a0ac09ec9e5eb3a).  Given an image, this pre-trained ResNet-50 model returns a prediction (derived from the available categories in ImageNet) for the object that is contained in the image."
   ]
  },
  {
   "cell_type": "code",
   "execution_count": null,
   "metadata": {},
   "outputs": [],
   "source": [
    "from keras.applications.resnet50 import ResNet50\n",
    "\n",
    "# define ResNet50 model\n",
    "ResNet50_model = ResNet50(weights='imagenet')"
   ]
  },
  {
   "cell_type": "markdown",
   "metadata": {},
   "source": [
    "### Pre-process the Data\n",
    "\n",
    "When using TensorFlow as backend, Keras CNNs require a 4D array (which we'll also refer to as a 4D tensor) as input, with shape\n",
    "\n",
    "$$\n",
    "(\\text{nb_samples}, \\text{rows}, \\text{columns}, \\text{channels}),\n",
    "$$\n",
    "\n",
    "where `nb_samples` corresponds to the total number of images (or samples), and `rows`, `columns`, and `channels` correspond to the number of rows, columns, and channels for each image, respectively.  \n",
    "\n",
    "The `path_to_tensor` function below takes a string-valued file path to a color image as input and returns a 4D tensor suitable for supplying to a Keras CNN.  The function first loads the image and resizes it to a square image that is $224 \\times 224$ pixels.  Next, the image is converted to an array, which is then resized to a 4D tensor.  In this case, since we are working with color images, each image has three channels.  Likewise, since we are processing a single image (or sample), the returned tensor will always have shape\n",
    "\n",
    "$$\n",
    "(1, 224, 224, 3).\n",
    "$$\n",
    "\n",
    "The `paths_to_tensor` function takes a numpy array of string-valued image paths as input and returns a 4D tensor with shape \n",
    "\n",
    "$$\n",
    "(\\text{nb_samples}, 224, 224, 3).\n",
    "$$\n",
    "\n",
    "Here, `nb_samples` is the number of samples, or number of images, in the supplied array of image paths.  It is best to think of `nb_samples` as the number of 3D tensors (where each 3D tensor corresponds to a different image) in your dataset!"
   ]
  },
  {
   "cell_type": "code",
   "execution_count": 58,
   "metadata": {},
   "outputs": [],
   "source": [
    "from keras.preprocessing import image                  \n",
    "from tqdm import tqdm\n",
    "\n",
    "def path_to_tensor(img_path, target_size=(150, 150)):\n",
    "    # loads RGB image as PIL.Image.Image type\n",
    "    # 299 is for xception, 224 for the other models\n",
    "    img = image.load_img(img_path, target_size=target_size)\n",
    "    # convert PIL.Image.Image type to 3D tensor with shape (224, 224, 3)\n",
    "    x = image.img_to_array(img)\n",
    "    # convert 3D tensor to 4D tensor with shape (1, 224, 224, 3) and return 4D tensor\n",
    "    return np.expand_dims(x, axis=0)\n",
    "\n",
    "def paths_to_tensor(img_paths, target_size = (150, 150)):\n",
    "    list_of_tensors = [path_to_tensor(img_path, target_size) for img_path in tqdm(img_paths)]\n",
    "    return np.vstack(list_of_tensors)"
   ]
  },
  {
   "cell_type": "markdown",
   "metadata": {},
   "source": [
    "### Making Predictions with ResNet-50\n",
    "\n",
    "Getting the 4D tensor ready for ResNet-50, and for any other pre-trained model in Keras, requires some additional processing.  First, the RGB image is converted to BGR by reordering the channels.  All pre-trained models have the additional normalization step that the mean pixel (expressed in RGB as $[103.939, 116.779, 123.68]$ and calculated from all pixels in all images in ImageNet) must be subtracted from every pixel in each image.  This is implemented in the imported function `preprocess_input`.  If you're curious, you can check the code for `preprocess_input` [here](https://github.com/fchollet/keras/blob/master/keras/applications/imagenet_utils.py).\n",
    "\n",
    "Now that we have a way to format our image for supplying to ResNet-50, we are now ready to use the model to extract the predictions.  This is accomplished with the `predict` method, which returns an array whose $i$-th entry is the model's predicted probability that the image belongs to the $i$-th ImageNet category.  This is implemented in the `ResNet50_predict_labels` function below.\n",
    "\n",
    "By taking the argmax of the predicted probability vector, we obtain an integer corresponding to the model's predicted object class, which we can identify with an object category through the use of this [dictionary](https://gist.github.com/yrevar/942d3a0ac09ec9e5eb3a). "
   ]
  },
  {
   "cell_type": "code",
   "execution_count": null,
   "metadata": {},
   "outputs": [],
   "source": [
    "from keras.applications.resnet50 import preprocess_input, decode_predictions\n",
    "\n",
    "def ResNet50_predict_labels(img_path):\n",
    "    # returns prediction vector for image located at img_path\n",
    "    img = preprocess_input(path_to_tensor(img_path))\n",
    "    return np.argmax(ResNet50_model.predict(img))"
   ]
  },
  {
   "cell_type": "markdown",
   "metadata": {},
   "source": [
    "### Write a Dog Detector\n",
    "\n",
    "While looking at the [dictionary](https://gist.github.com/yrevar/942d3a0ac09ec9e5eb3a), you will notice that the categories corresponding to dogs appear in an uninterrupted sequence and correspond to dictionary keys 151-268, inclusive, to include all categories from `'Chihuahua'` to `'Mexican hairless'`.  Thus, in order to check to see if an image is predicted to contain a dog by the pre-trained ResNet-50 model, we need only check if the `ResNet50_predict_labels` function above returns a value between 151 and 268 (inclusive).\n",
    "\n",
    "We use these ideas to complete the `dog_detector` function below, which returns `True` if a dog is detected in an image (and `False` if not)."
   ]
  },
  {
   "cell_type": "code",
   "execution_count": null,
   "metadata": {},
   "outputs": [],
   "source": [
    "### returns \"True\" if a dog is detected in the image stored at img_path\n",
    "def dog_detector(img_path):\n",
    "    prediction = ResNet50_predict_labels(img_path)\n",
    "    return ((prediction <= 268) & (prediction >= 151)) "
   ]
  },
  {
   "cell_type": "markdown",
   "metadata": {},
   "source": [
    "### (IMPLEMENTATION) Assess the Dog Detector\n",
    "\n",
    "__Question 3:__ Use the code cell below to test the performance of your `dog_detector` function.  \n",
    "- What percentage of the images in `human_files_short` have a detected dog?  \n",
    "- What percentage of the images in `dog_files_short` have a detected dog?\n",
    "\n",
    "__Answer:__ \n",
    "\n",
    "1% of the photos in the human dataset have a detected dog; 100% of the photos in the dog dataset have a detected dog."
   ]
  },
  {
   "cell_type": "code",
   "execution_count": null,
   "metadata": {},
   "outputs": [],
   "source": [
    "# Following block is neccessary to utilize GPU\n",
    "import tensorflow as tf\n",
    "gpu_options = tf.GPUOptions(per_process_gpu_memory_fraction=0.5)\n",
    "config = tf.ConfigProto()\n",
    "config.gpu_options.allow_growth = True\n",
    "session = tf.Session(config=config)\n",
    "\n",
    "### TODO: Test the performance of the dog_detector function\n",
    "### on the images in human_files_short and dog_files_short.\n",
    "dog_detected_dog_short = 0\n",
    "dog_detected_human_short = 0\n",
    "\n",
    "for img_path in human_files_short:\n",
    "    if dog_detector(img_path):\n",
    "        dog_detected_human_short += 1\n",
    "\n",
    "for img_path in dog_files_short:\n",
    "    if dog_detector(img_path):\n",
    "        dog_detected_dog_short += 1\n",
    "        \n",
    "print(f'Found {dog_detected_human_short} dogs in the human dataset')\n",
    "print(f'Found {dog_detected_dog_short} dogs in the dog dataset')"
   ]
  },
  {
   "cell_type": "markdown",
   "metadata": {},
   "source": [
    "---\n",
    "<a id='step3'></a>\n",
    "## Step 3: Create a CNN to Classify Dog Breeds (from Scratch)\n",
    "\n",
    "Now that we have functions for detecting humans and dogs in images, we need a way to predict breed from images.  In this step, you will create a CNN that classifies dog breeds.  You must create your CNN _from scratch_ (so, you can't use transfer learning _yet_ !), and you must attain a test accuracy of at least 1%.  In Step 5 of this notebook, you will have the opportunity to use transfer learning to create a CNN that attains greatly improved accuracy.\n",
    "\n",
    "Be careful with adding too many trainable layers!  More parameters means longer training, which means you are more likely to need a GPU to accelerate the training process.  Thankfully, Keras provides a handy estimate of the time that each epoch is likely to take; you can extrapolate this estimate to figure out how long it will take for your algorithm to train. \n",
    "\n",
    "We mention that the task of assigning breed to dogs from images is considered exceptionally challenging.  To see why, consider that *even a human* would have great difficulty in distinguishing between a Brittany and a Welsh Springer Spaniel.  \n",
    "\n",
    "Brittany | Welsh Springer Spaniel\n",
    "- | - \n",
    "<img src=\"images/Brittany_02625.jpg\" width=\"100\"> | <img src=\"images/Welsh_springer_spaniel_08203.jpg\" width=\"200\">\n",
    "\n",
    "It is not difficult to find other dog breed pairs with minimal inter-class variation (for instance, Curly-Coated Retrievers and American Water Spaniels).  \n",
    "\n",
    "Curly-Coated Retriever | American Water Spaniel\n",
    "- | -\n",
    "<img src=\"images/Curly-coated_retriever_03896.jpg\" width=\"200\"> | <img src=\"images/American_water_spaniel_00648.jpg\" width=\"200\">\n",
    "\n",
    "\n",
    "Likewise, recall that labradors come in yellow, chocolate, and black.  Your vision-based algorithm will have to conquer this high intra-class variation to determine how to classify all of these different shades as the same breed.  \n",
    "\n",
    "Yellow Labrador | Chocolate Labrador | Black Labrador\n",
    "- | -\n",
    "<img src=\"images/Labrador_retriever_06457.jpg\" width=\"150\"> | <img src=\"images/Labrador_retriever_06455.jpg\" width=\"240\"> | <img src=\"images/Labrador_retriever_06449.jpg\" width=\"220\">\n",
    "\n",
    "We also mention that random chance presents an exceptionally low bar: setting aside the fact that the classes are slightly imabalanced, a random guess will provide a correct answer roughly 1 in 133 times, which corresponds to an accuracy of less than 1%.  \n",
    "\n",
    "Remember that the practice is far ahead of the theory in deep learning.  Experiment with many different architectures, and trust your intuition.  And, of course, have fun! \n",
    "\n",
    "### Pre-process the Data\n",
    "\n",
    "We rescale the images by dividing every pixel in every image by 255."
   ]
  },
  {
   "cell_type": "code",
   "execution_count": 5,
   "metadata": {},
   "outputs": [
    {
     "name": "stderr",
     "output_type": "stream",
     "text": [
      "100%|█████████████████████████████████████████████████████████████████████████████| 6680/6680 [00:41<00:00, 162.31it/s]\n",
      "100%|███████████████████████████████████████████████████████████████████████████████| 835/835 [00:06<00:00, 130.68it/s]\n",
      "100%|███████████████████████████████████████████████████████████████████████████████| 836/836 [00:06<00:00, 133.98it/s]\n"
     ]
    }
   ],
   "source": [
    "from PIL import ImageFile                            \n",
    "ImageFile.LOAD_TRUNCATED_IMAGES = True                 \n",
    "\n",
    "# pre-process the data for Keras\n",
    "train_tensors = paths_to_tensor(train_files).astype('float32')/255\n",
    "valid_tensors = paths_to_tensor(valid_files).astype('float32')/255\n",
    "test_tensors = paths_to_tensor(test_files).astype('float32')/255"
   ]
  },
  {
   "cell_type": "code",
   "execution_count": null,
   "metadata": {},
   "outputs": [],
   "source": [
    "train_tensors[0]"
   ]
  },
  {
   "cell_type": "markdown",
   "metadata": {},
   "source": [
    "### (IMPLEMENTATION) Model Architecture\n",
    "\n",
    "Create a CNN to classify dog breed.  At the end of your code cell block, summarize the layers of your model by executing the line:\n",
    "    \n",
    "        model.summary()\n",
    "\n",
    "We have imported some Python modules to get you started, but feel free to import as many modules as you need.  If you end up getting stuck, here's a hint that specifies a model that trains relatively fast on CPU and attains >1% test accuracy in 5 epochs:\n",
    "\n",
    "![Sample CNN](images/sample_cnn.png)\n",
    "           \n",
    "__Question 4:__ Outline the steps you took to get to your final CNN architecture and your reasoning at each step.  If you chose to use the hinted architecture above, describe why you think that CNN architecture should work well for the image classification task.\n",
    "\n",
    "__Answer:__ "
   ]
  },
  {
   "cell_type": "code",
   "execution_count": null,
   "metadata": {},
   "outputs": [],
   "source": [
    "train_tensors[0].shape"
   ]
  },
  {
   "cell_type": "code",
   "execution_count": null,
   "metadata": {},
   "outputs": [],
   "source": [
    "from keras.layers import Conv2D, MaxPooling2D, GlobalAveragePooling2D\n",
    "from keras.layers import Dropout, Flatten, Dense\n",
    "from keras.models import Sequential\n",
    "\n",
    "model = Sequential()\n",
    "\n",
    "# Define your architecture.\n",
    "model.add(Conv2D(16, kernel_size=2, activation='relu', input_shape=(224,224,3))) # activation nonlinearity typically performed before pooling\n",
    "model.add(MaxPooling2D()) # defaults to pool_size = (2,2), stride = None = pool_size\n",
    "model.add(Conv2D(32, kernel_size=2, activation='relu'))\n",
    "model.add(MaxPooling2D())\n",
    "model.add(Conv2D(64, kernel_size=2, activation='relu'))\n",
    "model.add(MaxPooling2D())\n",
    "model.add(GlobalAveragePooling2D())\n",
    "model.add(Dense(133, activation='softmax'))\n",
    "\n",
    "model.summary()"
   ]
  },
  {
   "cell_type": "markdown",
   "metadata": {},
   "source": [
    "### Compile the Model"
   ]
  },
  {
   "cell_type": "code",
   "execution_count": null,
   "metadata": {},
   "outputs": [],
   "source": [
    "model.compile(optimizer='rmsprop', loss='categorical_crossentropy', metrics=['accuracy'])"
   ]
  },
  {
   "cell_type": "markdown",
   "metadata": {},
   "source": [
    "### (IMPLEMENTATION) Train the Model\n",
    "\n",
    "Train your model in the code cell below.  Use model checkpointing to save the model that attains the best validation loss.\n",
    "\n",
    "You are welcome to [augment the training data](https://blog.keras.io/building-powerful-image-classification-models-using-very-little-data.html), but this is not a requirement. "
   ]
  },
  {
   "cell_type": "code",
   "execution_count": null,
   "metadata": {},
   "outputs": [],
   "source": [
    "from tensorflow.python.client import device_lib\n",
    "print(device_lib.list_local_devices())"
   ]
  },
  {
   "cell_type": "code",
   "execution_count": null,
   "metadata": {},
   "outputs": [],
   "source": [
    "from keras.callbacks import ModelCheckpoint  \n",
    "\n",
    "# specify the number of epochs that you would like to use to train the model.\n",
    "\n",
    "epochs = 3\n",
    "\n",
    "### Do NOT modify the code below this line.\n",
    "\n",
    "checkpointer = ModelCheckpoint(filepath='saved_models/weights.best.from_scratch.hdf5', \n",
    "                               verbose=1, save_best_only=True)\n",
    "\n",
    "model.fit(train_tensors, train_targets, \n",
    "          validation_data=(valid_tensors, valid_targets),\n",
    "          epochs=epochs, batch_size=20, callbacks=[checkpointer], verbose=2)"
   ]
  },
  {
   "cell_type": "markdown",
   "metadata": {},
   "source": [
    "### Load the Model with the Best Validation Loss"
   ]
  },
  {
   "cell_type": "code",
   "execution_count": null,
   "metadata": {},
   "outputs": [],
   "source": [
    "model.load_weights('saved_models/weights.best.from_scratch.hdf5')"
   ]
  },
  {
   "cell_type": "markdown",
   "metadata": {},
   "source": [
    "### Test the Model\n",
    "\n",
    "Try out your model on the test dataset of dog images.  Ensure that your test accuracy is greater than 1%."
   ]
  },
  {
   "cell_type": "code",
   "execution_count": null,
   "metadata": {},
   "outputs": [],
   "source": [
    "# get index of predicted dog breed for each image in test set\n",
    "dog_breed_predictions = [np.argmax(model.predict(np.expand_dims(tensor, axis=0))) for tensor in test_tensors]\n",
    "\n",
    "# report test accuracy\n",
    "test_accuracy = 100*np.sum(np.array(dog_breed_predictions)==np.argmax(test_targets, axis=1))/len(dog_breed_predictions)\n",
    "print('Test accuracy: %.4f%%' % test_accuracy)"
   ]
  },
  {
   "cell_type": "markdown",
   "metadata": {},
   "source": [
    "---\n",
    "<a id='step4'></a>\n",
    "## Step 4: Use a CNN to Classify Dog Breeds\n",
    "\n",
    "To reduce training time without sacrificing accuracy, we show you how to train a CNN using transfer learning.  In the following step, you will get a chance to use transfer learning to train your own CNN.\n",
    "\n",
    "### Obtain Bottleneck Features"
   ]
  },
  {
   "cell_type": "code",
   "execution_count": null,
   "metadata": {},
   "outputs": [],
   "source": [
    "bottleneck_features = np.load('bottleneck_features/DogVGG16Data.npz')\n",
    "train_VGG16 = bottleneck_features['train']\n",
    "valid_VGG16 = bottleneck_features['valid']\n",
    "test_VGG16 = bottleneck_features['test']"
   ]
  },
  {
   "cell_type": "code",
   "execution_count": null,
   "metadata": {},
   "outputs": [],
   "source": [
    "train_VGG16.shape"
   ]
  },
  {
   "cell_type": "markdown",
   "metadata": {},
   "source": [
    "### Model Architecture\n",
    "\n",
    "The model uses the the pre-trained VGG-16 model as a fixed feature extractor, where the last convolutional output of VGG-16 is fed as input to our model.  We only add a global average pooling layer and a fully connected layer, where the latter contains one node for each dog category and is equipped with a softmax."
   ]
  },
  {
   "cell_type": "code",
   "execution_count": null,
   "metadata": {},
   "outputs": [],
   "source": [
    "VGG16_model = Sequential()\n",
    "VGG16_model.add(GlobalAveragePooling2D(input_shape=train_VGG16.shape[1:]))\n",
    "VGG16_model.add(Dense(133, activation='softmax'))\n",
    "\n",
    "VGG16_model.summary()"
   ]
  },
  {
   "cell_type": "markdown",
   "metadata": {},
   "source": [
    "### Compile the Model"
   ]
  },
  {
   "cell_type": "code",
   "execution_count": null,
   "metadata": {},
   "outputs": [],
   "source": [
    "VGG16_model.compile(loss='categorical_crossentropy', optimizer='rmsprop', metrics=['accuracy'])"
   ]
  },
  {
   "cell_type": "markdown",
   "metadata": {},
   "source": [
    "### Train the Model"
   ]
  },
  {
   "cell_type": "code",
   "execution_count": null,
   "metadata": {},
   "outputs": [],
   "source": [
    "checkpointer = ModelCheckpoint(filepath='saved_models/weights.best.VGG16.hdf5', \n",
    "                               verbose=1, save_best_only=True)\n",
    "\n",
    "VGG16_model.fit(train_VGG16, train_targets, \n",
    "          validation_data=(valid_VGG16, valid_targets),\n",
    "          epochs=20, batch_size=20, callbacks=[checkpointer], verbose=1)"
   ]
  },
  {
   "cell_type": "markdown",
   "metadata": {},
   "source": [
    "### Load the Model with the Best Validation Loss"
   ]
  },
  {
   "cell_type": "code",
   "execution_count": null,
   "metadata": {},
   "outputs": [],
   "source": [
    "VGG16_model.load_weights('saved_models/weights.best.VGG16.hdf5')"
   ]
  },
  {
   "cell_type": "markdown",
   "metadata": {},
   "source": [
    "### Test the Model\n",
    "\n",
    "Now, we can use the CNN to test how well it identifies breed within our test dataset of dog images.  We print the test accuracy below."
   ]
  },
  {
   "cell_type": "code",
   "execution_count": null,
   "metadata": {},
   "outputs": [],
   "source": [
    "# get index of predicted dog breed for each image in test set\n",
    "VGG16_predictions = [np.argmax(VGG16_model.predict(np.expand_dims(feature, axis=0))) for feature in test_VGG16]\n",
    "\n",
    "# report test accuracy\n",
    "test_accuracy = 100*np.sum(np.array(VGG16_predictions)==np.argmax(test_targets, axis=1))/len(VGG16_predictions)\n",
    "print('Test accuracy: %.4f%%' % test_accuracy)"
   ]
  },
  {
   "cell_type": "markdown",
   "metadata": {},
   "source": [
    "### Predict Dog Breed with the Model"
   ]
  },
  {
   "cell_type": "code",
   "execution_count": null,
   "metadata": {},
   "outputs": [],
   "source": [
    "from extract_bottleneck_features import *\n",
    "\n",
    "def VGG16_predict_breed(img_path):\n",
    "    # extract bottleneck features\n",
    "    bottleneck_feature = extract_VGG16(path_to_tensor(img_path))\n",
    "    # obtain predicted vector\n",
    "    predicted_vector = VGG16_model.predict(bottleneck_feature)\n",
    "    # return dog breed that is predicted by the model\n",
    "    return dog_names[np.argmax(predicted_vector)]"
   ]
  },
  {
   "cell_type": "markdown",
   "metadata": {},
   "source": [
    "---\n",
    "<a id='step5'></a>\n",
    "## Step 5: Create a CNN to Classify Dog Breeds (using Transfer Learning)\n",
    "\n",
    "You will now use transfer learning to create a CNN that can identify dog breed from images.  Your CNN must attain at least 60% accuracy on the test set.\n",
    "\n",
    "In Step 4, we used transfer learning to create a CNN using VGG-16 bottleneck features.  In this section, you must use the bottleneck features from a different pre-trained model.  To make things easier for you, we have pre-computed the features for all of the networks that are currently available in Keras:\n",
    "- [VGG-19](https://s3-us-west-1.amazonaws.com/udacity-aind/dog-project/DogVGG19Data.npz) bottleneck features\n",
    "- [ResNet-50](https://s3-us-west-1.amazonaws.com/udacity-aind/dog-project/DogResnet50Data.npz) bottleneck features\n",
    "- [Inception](https://s3-us-west-1.amazonaws.com/udacity-aind/dog-project/DogInceptionV3Data.npz) bottleneck features\n",
    "- [Xception](https://s3-us-west-1.amazonaws.com/udacity-aind/dog-project/DogXceptionData.npz) bottleneck features\n",
    "\n",
    "The files are encoded as such:\n",
    "\n",
    "    Dog{network}Data.npz\n",
    "    \n",
    "where `{network}`, in the above filename, can be one of `VGG19`, `Resnet50`, `InceptionV3`, or `Xception`.  Pick one of the above architectures, download the corresponding bottleneck features, and store the downloaded file in the `bottleneck_features/` folder in the repository.\n",
    "\n",
    "### (IMPLEMENTATION) Obtain Bottleneck Features\n",
    "\n",
    "In the code block below, extract the bottleneck features corresponding to the train, test, and validation sets by running the following:\n",
    "\n",
    "    bottleneck_features = np.load('bottleneck_features/Dog{network}Data.npz')\n",
    "    train_{network} = bottleneck_features['train']\n",
    "    valid_{network} = bottleneck_features['valid']\n",
    "    test_{network} = bottleneck_features['test']"
   ]
  },
  {
   "cell_type": "code",
   "execution_count": null,
   "metadata": {
    "scrolled": true
   },
   "outputs": [],
   "source": [
    "# Obtain bottleneck features from another pre-trained CNN.\n",
    "\n",
    "# function to test a network\n",
    "networks = ['VGG19', 'ResNet50', 'InceptionV3', 'Xception']\n",
    "\n",
    "def xfer_net_tester(network_name):\n",
    "    print(f'testing network: {network}')\n",
    "    \n",
    "    # get bottleneck features\n",
    "    print('\\tgetting bottleneck features...')\n",
    "    bottleneck_features = np.load(f'bottleneck_features/Dog{network}Data.npz')\n",
    "    \n",
    "    # translate read-in features into test-train-validate\n",
    "    train_bottle = bottleneck_features['train']\n",
    "    valid_bottle = bottleneck_features['valid']\n",
    "    test_bottle = bottleneck_features['test']\n",
    "    \n",
    "    # compile our own output sigmoids\n",
    "    print('\\tcompiling custom output nodes...')\n",
    "    xfer_model = Sequential()\n",
    "    xfer_model.add(GlobalAveragePooling2D(input_shape=train_bottle.shape[1:]))\n",
    "    xfer_model.add(Dense(133, activation='softmax'))\n",
    "\n",
    "    #xfer_model.summary()\n",
    "    xfer_model.compile(loss='categorical_crossentropy', optimizer='rmsprop', metrics=['accuracy'])\n",
    "    \n",
    "    print('\\ttraining model...')\n",
    "    checkpointer = ModelCheckpoint(filepath=f'saved_models/weights.best.{network}.hdf5', \n",
    "                               verbose=1, save_best_only=True)\n",
    "\n",
    "    xfer_model.fit(train_bottle, train_targets, \n",
    "          validation_data=(valid_bottle, valid_targets),\n",
    "          epochs=20, batch_size=20, callbacks=[checkpointer], verbose=2)\n",
    "    \n",
    "    # load best model\n",
    "    print('\\tloading best model...')\n",
    "    xfer_model.load_weights(f'saved_models/weights.best.{network}.hdf5')\n",
    "    \n",
    "    # get index of predicted dog breed for each image in test set\n",
    "    print('\\ttesting model...')\n",
    "    xfer_predictions = [np.argmax(xfer_model.predict(np.expand_dims(feature, axis=0))) for feature in test_bottle]\n",
    "\n",
    "    # report test accuracy\n",
    "    test_accuracy = 100*np.sum(np.array(xfer_predictions)==np.argmax(test_targets, axis=1))/len(xfer_predictions)\n",
    "    \n",
    "    print('{} Test accuracy: {:.4f}'.format(network, test_accuracy))\n",
    "    return test_accuracy\n",
    "    \n",
    "n_accs = []\n",
    "for network in networks:\n",
    "    n_acc = xfer_net_tester(network)\n",
    "    n_accs.append((network, n_acc))\n",
    "\n",
    "print(n_accs)\n",
    "            "
   ]
  },
  {
   "cell_type": "markdown",
   "metadata": {},
   "source": [
    "### (IMPLEMENTATION) Model Architecture\n",
    "\n",
    "Create a CNN to classify dog breed.  At the end of your code cell block, summarize the layers of your model by executing the line:\n",
    "    \n",
    "        <your model's name>.summary()\n",
    "   \n",
    "__Question 5:__ Outline the steps you took to get to your final CNN architecture and your reasoning at each step.  Describe why you think the architecture is suitable for the current problem.\n",
    "\n",
    "__Answer:__ \n",
    "\n"
   ]
  },
  {
   "cell_type": "code",
   "execution_count": null,
   "metadata": {},
   "outputs": [],
   "source": [
    "# Define your architecture.\n",
    "# it appears that the Xception model performs the best\n",
    "\n",
    "from keras.callbacks import History \n",
    "history = History()\n",
    "\n",
    "net = 'Xception' # too much entropic capacity - memorized models with its parameters\n",
    "#net = 'ResNet50'\n",
    "#net = 'VGG19'\n",
    "#net = 'InceptionV3'\n",
    "\n",
    "# get bottleneck features\n",
    "bottleneck_features = np.load(f'bottleneck_features/Dog{net}Data.npz')\n",
    "\n",
    "# translate read-in features into test-train-validate\n",
    "train_bottle = bottleneck_features['train']\n",
    "valid_bottle = bottleneck_features['valid']\n",
    "test_bottle = bottleneck_features['test']"
   ]
  },
  {
   "cell_type": "code",
   "execution_count": null,
   "metadata": {},
   "outputs": [],
   "source": [
    "# define custom model architecture 1\n",
    "custom_model = Sequential()\n",
    "custom_model.add(GlobalAveragePooling2D(input_shape=train_bottle.shape[1:]))\n",
    "custom_model.add(Dense(133, activation='softmax'))\n",
    "\n",
    "custom_model.summary()"
   ]
  },
  {
   "cell_type": "code",
   "execution_count": null,
   "metadata": {},
   "outputs": [],
   "source": [
    "train_bottle.shape[1:]"
   ]
  },
  {
   "cell_type": "code",
   "execution_count": null,
   "metadata": {},
   "outputs": [],
   "source": [
    "# define custom model architecture 2\n",
    "from keras import regularizers\n",
    "\n",
    "custom_model = Sequential()\n",
    "\n",
    "custom_model.add(GlobalAveragePooling2D(input_shape = train_bottle.shape[1:]))\n",
    "custom_model.add(Dense(512,\n",
    "                       activation = 'relu',\n",
    "                       kernel_regularizer = regularizers.l2(0.01)))\n",
    "custom_model.add(Dropout(0.5))\n",
    "custom_model.add(Dense(256,\n",
    "                       activation = 'relu',\n",
    "                       kernel_regularizer = regularizers.l2(0.02)))\n",
    "custom_model.add(Dropout(0.5))\n",
    "custom_model.add(Dense(133, activation='softmax'))\n",
    "\n",
    "custom_model.summary()"
   ]
  },
  {
   "cell_type": "markdown",
   "metadata": {},
   "source": [
    "### (IMPLEMENTATION) Compile the Model"
   ]
  },
  {
   "cell_type": "code",
   "execution_count": null,
   "metadata": {},
   "outputs": [],
   "source": [
    "# Compile the model.\n",
    "from keras import optimizers\n",
    "\n",
    "#custom_model.compile(loss='categorical_crossentropy', optimizer='adam', metrics=['accuracy'])\n",
    "custom_model.compile(loss='categorical_crossentropy',\n",
    "                     optimizer=optimizers.SGD(lr=1.5e-4, momentum=0.9),\n",
    "                     metrics=['accuracy'])"
   ]
  },
  {
   "cell_type": "markdown",
   "metadata": {},
   "source": [
    "### (IMPLEMENTATION) Train the Model\n",
    "\n",
    "Train your model in the code cell below.  Use model checkpointing to save the model that attains the best validation loss.  \n",
    "\n",
    "You are welcome to [augment the training data](https://blog.keras.io/building-powerful-image-classification-models-using-very-little-data.html), but this is not a requirement.\n",
    "\n",
    "<font color='green'> I augment the training data on my own in the next section <font>"
   ]
  },
  {
   "cell_type": "code",
   "execution_count": null,
   "metadata": {},
   "outputs": [],
   "source": [
    "%%time\n",
    "\n",
    "# Train the model.\n",
    "\n",
    "print('training model...')\n",
    "checkpointer = ModelCheckpoint(filepath=f'saved_models/weights.best.{net}.hdf5', \n",
    "                           verbose=1, save_best_only=True)\n",
    "\n",
    "custom_model.fit(train_bottle, train_targets, \n",
    "      validation_data=(valid_bottle, valid_targets),\n",
    "      epochs=250, batch_size=20, callbacks=[checkpointer, history], verbose=2)"
   ]
  },
  {
   "cell_type": "code",
   "execution_count": null,
   "metadata": {},
   "outputs": [],
   "source": [
    "print(history.history.keys())"
   ]
  },
  {
   "cell_type": "code",
   "execution_count": null,
   "metadata": {},
   "outputs": [],
   "source": [
    "import matplotlib.pyplot as plt\n",
    "import seaborn as sns\n",
    "\n",
    "epochs = range(len(history.history['acc']))\n",
    "\n",
    "fig, (ax1, ax2) = plt.subplots(nrows = 1, ncols = 2)\n",
    "\n",
    "sns.lineplot(x = epochs, y=history.history['acc'], ax=ax1, label = 'acc')\n",
    "sns.lineplot(x = epochs, y=history.history['val_acc'], ax=ax1, label = 'val_acc')\n",
    "ax1.set_ylim(0, 1.05);\n",
    "ax1.set_title('Rolling accuracy');\n",
    "\n",
    "sns.lineplot(x = epochs, y=history.history['loss'], ax=ax2, label = 'loss')\n",
    "sns.lineplot(x = epochs, y=history.history['val_loss'], ax=ax2, label = 'val_loss')\n",
    "ax2.set_title('Rolling loss');\n",
    "\n",
    "fig.suptitle(f'{net} training metrics', fontsize = 16);\n",
    "max_val_acc = max(history.history['val_acc'])\n",
    "print(f'This model achieved a max validation accuracy of {max_val_acc}')"
   ]
  },
  {
   "cell_type": "markdown",
   "metadata": {},
   "source": [
    "__note: the use of dropout artificially lowers the training accuracy__"
   ]
  },
  {
   "cell_type": "markdown",
   "metadata": {},
   "source": [
    "## Custom model layer 1: global average pooling, dense_1; RMSProp optim\n",
    "### Xception\n",
    "accuracy and loss was static for both validation and training\n",
    "\n",
    "### ResNet50\n",
    "accuracy quickly jumped to near 100 while validation accuracy rose very slightly between .79-.81. Train loss went quickly to 0 while validation loss rose slowly to .8\n",
    "\n",
    "### VGG19\n",
    "Over 50 epochs, accuracy climbed from .7 - .8, val acc climbed for the first 30 epochs slightly but stagnated. Loss and val loss both dropped steadily to 3.5 and 5 respectively.\n",
    "\n",
    "## Custom model layer 2: Flatten, dense_1, dropout, dense_2; SGD optim\n",
    "### ResNet50\n",
    "Over 250 epochs, val accuracy and accuracy met at .8 around 90 epochs, then accuracy continued to grow while val accuracy stagnated. Loss steadily dropped...\n",
    "\n",
    "Trying increasing dropout... same results, except accuracy took a full 250 epochs to hit .8\n",
    "\n",
    "Trying l2 regularization... same results more or less\n",
    "\n",
    "Trying l1 regularization... failed to learn\n",
    "\n",
    "### VGG19\n",
    "Over 250 epochs, accuracy slowly rose to about .7, val accuracy stagnated at about .5. Loss steadily dropped, val loss dropped with diminishing returns\n",
    "\n",
    "### Xception\n",
    "25 million parameters training, with full dropout and l2 .01\n",
    "\n",
    "Over 250 epochs, accuracy continued to rise while validation accuracy capped at about 85% after just 30 or so epochs.\n",
    "\n"
   ]
  },
  {
   "cell_type": "markdown",
   "metadata": {},
   "source": [
    "### (IMPLEMENTATION) Load the Model with the Best Validation Loss"
   ]
  },
  {
   "cell_type": "code",
   "execution_count": null,
   "metadata": {},
   "outputs": [],
   "source": [
    "# Load the model weights with the best validation loss.\n",
    "custom_model.load_weights(f'saved_models/weights.best.{net}.hdf5')\n",
    "\n",
    "# get index of predicted dog breed for each image in test set\n",
    "custom_predictions = [np.argmax(custom_model.predict(np.expand_dims(feature, axis=0))) for feature in test_bottle]"
   ]
  },
  {
   "cell_type": "markdown",
   "metadata": {},
   "source": [
    "### (IMPLEMENTATION) Test the Model\n",
    "\n",
    "Try out your model on the test dataset of dog images. Ensure that your test accuracy is greater than 60%."
   ]
  },
  {
   "cell_type": "code",
   "execution_count": null,
   "metadata": {},
   "outputs": [],
   "source": [
    "# Calculate classification accuracy on the test dataset.\n",
    "test_accuracy = 100*np.sum(np.array(custom_predictions)==np.argmax(test_targets, axis=1))/len(custom_predictions)\n",
    "print('Test accuracy: %.4f%%' % test_accuracy)"
   ]
  },
  {
   "cell_type": "markdown",
   "metadata": {},
   "source": [
    "# Custom training data augmentation\n",
    "## From the ground-up bottlenecking and modeling"
   ]
  },
  {
   "cell_type": "code",
   "execution_count": null,
   "metadata": {},
   "outputs": [],
   "source": [
    "import os\n",
    "os.listdir('dogImages/train/001.Affenpinscher')"
   ]
  },
  {
   "cell_type": "code",
   "execution_count": null,
   "metadata": {},
   "outputs": [],
   "source": []
  },
  {
   "cell_type": "code",
   "execution_count": 11,
   "metadata": {},
   "outputs": [
    {
     "name": "stdout",
     "output_type": "stream",
     "text": [
      "generating model\n",
      "loading bottlenecks\n"
     ]
    }
   ],
   "source": [
    "# try to match the output of the generator for an un-augmented image to what we expect from the bottleneck features\n",
    "print('generating model')\n",
    "base_xception = xception.Xception(weights='imagenet')\n",
    "print('loading bottlenecks')\n",
    "bottleneck_features = np.load(f'bottleneck_features/DogXceptionData.npz')\n",
    "    \n",
    "train_bottle = bottleneck_features['train']\n",
    "valid_bottle = bottleneck_features['valid']\n",
    "test_bottle = bottleneck_features['test']"
   ]
  },
  {
   "cell_type": "code",
   "execution_count": 6,
   "metadata": {},
   "outputs": [
    {
     "name": "stdout",
     "output_type": "stream",
     "text": [
      "WARNING:tensorflow:From C:\\ProgramData\\Anaconda3\\envs\\testenv\\lib\\site-packages\\tensorflow\\python\\framework\\op_def_library.py:263: colocate_with (from tensorflow.python.framework.ops) is deprecated and will be removed in a future version.\n",
      "Instructions for updating:\n",
      "Colocations handled automatically by placer.\n"
     ]
    }
   ],
   "source": [
    "#np.expand_dims(train_tensors[0], axis=0).shape\n",
    "# train_tensors is generated by path_to_tensor('path/img.jpg').astype(float)/255\n",
    "\n",
    "tensor_input = np.expand_dims(np.copy(train_tensors[0]), axis=0)\n",
    "\n",
    "x = xception.Xception(weights='imagenet', include_top=False).predict(xception.preprocess_input(tensor_input))"
   ]
  },
  {
   "cell_type": "code",
   "execution_count": 8,
   "metadata": {},
   "outputs": [
    {
     "data": {
      "text/plain": [
       "(299, 299, 3)"
      ]
     },
     "execution_count": 8,
     "metadata": {},
     "output_type": "execute_result"
    }
   ],
   "source": [
    "tensor_input[0].shape"
   ]
  },
  {
   "cell_type": "code",
   "execution_count": 17,
   "metadata": {},
   "outputs": [
    {
     "data": {
      "text/plain": [
       "(7, 7, 2048)"
      ]
     },
     "execution_count": 17,
     "metadata": {},
     "output_type": "execute_result"
    }
   ],
   "source": [
    "train_bottle[0].shape"
   ]
  },
  {
   "cell_type": "code",
   "execution_count": null,
   "metadata": {},
   "outputs": [],
   "source": [
    "type(np.squeeze(x, axis=0)[0][0][0])"
   ]
  },
  {
   "cell_type": "code",
   "execution_count": 18,
   "metadata": {},
   "outputs": [
    {
     "data": {
      "text/plain": [
       "(10, 10, 2048)"
      ]
     },
     "execution_count": 18,
     "metadata": {},
     "output_type": "execute_result"
    }
   ],
   "source": [
    "x[0].shape"
   ]
  },
  {
   "cell_type": "code",
   "execution_count": null,
   "metadata": {},
   "outputs": [],
   "source": [
    "train_bottle.shape # (6680, 7, 7, 2048)\n",
    "\n",
    "train_bottle[0].shape # (7, 7, 2048) --- this should be xception output for the first image\n",
    "\n",
    "sanity_datagen = ImageDataGenerator(\n",
    "    preprocessing_function = xception.preprocess_input,\n",
    "    #rotation_range = 40,\n",
    "    #width_shift_range = 0.2,\n",
    "    #height_shift_range = 0.2,\n",
    "    rescale = 1./255,\n",
    "    #shear_range = 0.2,\n",
    "    #zoom_range = 0.2,\n",
    "    #horizontal_flip = True,\n",
    "    #fill_mode = 'nearest'\n",
    "    )\n",
    "\n",
    "batch_size = 8\n",
    "\n",
    "# xception expects 299x299 images\n",
    "sanity_generator = sanity_datagen.flow_from_directory(\n",
    "    'dogImages/test',\n",
    "    target_size = (299, 299),\n",
    "    batch_size = batch_size,\n",
    "    class_mode = 'categorical')\n",
    "\n",
    "\n",
    "\n",
    "test_xception = Model(input = base_xception.input, output=base_xception.get_layer('avg_pool').output)\n",
    "\n",
    "x = test_xception.predict_generator(sanity_generator, steps = 836 // batch_size)"
   ]
  },
  {
   "cell_type": "code",
   "execution_count": null,
   "metadata": {},
   "outputs": [],
   "source": [
    "next(sanity_generator)[0].shape\n",
    "x.shape"
   ]
  },
  {
   "cell_type": "code",
   "execution_count": null,
   "metadata": {},
   "outputs": [],
   "source": [
    "test_xception.layers"
   ]
  },
  {
   "cell_type": "code",
   "execution_count": null,
   "metadata": {},
   "outputs": [],
   "source": [
    "##############################################################################################################\n",
    "##############################################################################################################"
   ]
  },
  {
   "cell_type": "code",
   "execution_count": 21,
   "metadata": {},
   "outputs": [
    {
     "name": "stdout",
     "output_type": "stream",
     "text": [
      "Found 6680 images belonging to 133 classes.\n",
      "Found 835 images belonging to 133 classes.\n"
     ]
    }
   ],
   "source": [
    "# training image augmentation\n",
    "from keras.preprocessing.image import ImageDataGenerator, array_to_img, img_to_array, load_img\n",
    "from keras import optimizers\n",
    "from keras.callbacks import History \n",
    "from keras.applications import xception\n",
    "\n",
    "batch_size = 16\n",
    "\n",
    "# this is the augmentation configuration I will use for training\n",
    "train_datagen = ImageDataGenerator(\n",
    "    preprocessing_function = xception.preprocess_input,\n",
    "    rotation_range = 20,\n",
    "    width_shift_range = 0.2,\n",
    "    height_shift_range = 0.2,\n",
    "    rescale = 1./255,\n",
    "    shear_range = 0.2,\n",
    "    zoom_range = 0.2,\n",
    "    horizontal_flip = True,\n",
    "    fill_mode = 'nearest'\n",
    "    )\n",
    "\n",
    "# This is the augmentation configuration I will use for testing/validation... just a rescale\n",
    "test_datagen = ImageDataGenerator(\n",
    "    preprocessing_function = xception.preprocess_input,\n",
    "    rescale=1./255\n",
    "    )\n",
    "\n",
    "# This is the generator which will read pictures found in my training subset\n",
    "train_generator = train_datagen.flow_from_directory(\n",
    "    'dogImages/train',\n",
    "    target_size = (299, 299),\n",
    "    batch_size = batch_size,\n",
    "    class_mode = 'categorical')\n",
    "\n",
    "# This is the generator for calidation data\n",
    "validation_generator = test_datagen.flow_from_directory(\n",
    "    'dogImages/valid',\n",
    "    target_size = (299, 299),\n",
    "    batch_size = batch_size,\n",
    "    class_mode = 'categorical')"
   ]
  },
  {
   "cell_type": "code",
   "execution_count": 81,
   "metadata": {},
   "outputs": [
    {
     "data": {
      "text/plain": [
       "array([[[-0.00389081, -0.00389081, -0.00389081],\n",
       "        [-0.00392157, -0.00392157, -0.00392157],\n",
       "        [-0.00392157, -0.00392157, -0.00392157],\n",
       "        ...,\n",
       "        [-0.00379854, -0.00318339, -0.00355248],\n",
       "        [-0.00376778, -0.00315263, -0.00352172],\n",
       "        [-0.0038293 , -0.00321415, -0.00358324]],\n",
       "\n",
       "       [[-0.00389081, -0.00389081, -0.00389081],\n",
       "        [-0.00392157, -0.00392157, -0.00392157],\n",
       "        [-0.00392157, -0.00392157, -0.00392157],\n",
       "        ...,\n",
       "        [-0.00349097, -0.00287582, -0.00324491],\n",
       "        [-0.00346021, -0.00284506, -0.00321415],\n",
       "        [-0.00370627, -0.00309112, -0.00346021]],\n",
       "\n",
       "       [[-0.00392157, -0.00392157, -0.00392157],\n",
       "        [-0.00392157, -0.00392157, -0.00392157],\n",
       "        [-0.00386005, -0.00386005, -0.00386005],\n",
       "        ...,\n",
       "        [-0.00349097, -0.00293733, -0.00330642],\n",
       "        [-0.00346021, -0.00290657, -0.00327566],\n",
       "        [-0.00379854, -0.00324491, -0.00361399]],\n",
       "\n",
       "       ...,\n",
       "\n",
       "       [[-0.00019992, -0.0005075 , -0.00127643],\n",
       "        [-0.00106113, -0.0013687 , -0.00213764],\n",
       "        [-0.0007228 , -0.00109189, -0.00183007],\n",
       "        ...,\n",
       "        [-0.00066128, -0.00109189, -0.00189158],\n",
       "        [-0.0007228 , -0.0011534 , -0.00195309],\n",
       "        [-0.0011534 , -0.00158401, -0.0023837 ]],\n",
       "\n",
       "       [[-0.00075356, -0.00106113, -0.00183007],\n",
       "        [-0.00099962, -0.00130719, -0.00207612],\n",
       "        [-0.00066128, -0.00096886, -0.00173779],\n",
       "        ...,\n",
       "        [-0.00078431, -0.00121492, -0.00201461],\n",
       "        [-0.00112265, -0.00155325, -0.00235294],\n",
       "        [-0.00130719, -0.00173779, -0.00253749]],\n",
       "\n",
       "       [[-0.00170704, -0.00195309, -0.00266052],\n",
       "        [-0.00112265, -0.0013687 , -0.00207612],\n",
       "        [-0.00078431, -0.00109189, -0.00186082],\n",
       "        ...,\n",
       "        [-0.0009381 , -0.0013687 , -0.0021684 ],\n",
       "        [-0.0013687 , -0.00179931, -0.002599  ],\n",
       "        [-0.0009381 , -0.0013687 , -0.0021684 ]]], dtype=float32)"
      ]
     },
     "execution_count": 81,
     "metadata": {},
     "output_type": "execute_result"
    }
   ],
   "source": [
    "next(validation_generator)[0][0]"
   ]
  },
  {
   "cell_type": "code",
   "execution_count": 50,
   "metadata": {},
   "outputs": [
    {
     "name": "stdout",
     "output_type": "stream",
     "text": [
      "loading Xception base...\n",
      "building custom dense addon...\n",
      "_________________________________________________________________\n",
      "Layer (type)                 Output Shape              Param #   \n",
      "=================================================================\n",
      "global_average_pooling2d_8 ( (None, 2048)              0         \n",
      "_________________________________________________________________\n",
      "dense_23 (Dense)             (None, 512)               1049088   \n",
      "_________________________________________________________________\n",
      "dropout_16 (Dropout)         (None, 512)               0         \n",
      "_________________________________________________________________\n",
      "dense_24 (Dense)             (None, 256)               131328    \n",
      "_________________________________________________________________\n",
      "dropout_17 (Dropout)         (None, 256)               0         \n",
      "_________________________________________________________________\n",
      "dense_25 (Dense)             (None, 133)               34181     \n",
      "=================================================================\n",
      "Total params: 1,214,597\n",
      "Trainable params: 1,214,597\n",
      "Non-trainable params: 0\n",
      "_________________________________________________________________\n",
      "assembling composite model...\n",
      "compiling composite model...\n",
      "done.\n"
     ]
    }
   ],
   "source": [
    "ground_up_model = Sequential()\n",
    "\n",
    "print('loading Xception base...')\n",
    "Xception_cnn_model = xception.Xception(weights='imagenet', include_top=False, input_shape=(299, 299, 3))\n",
    "\n",
    "print('building custom dense addon...')\n",
    "model = Sequential()\n",
    "\n",
    "model.add(GlobalAveragePooling2D(input_shape = Xception_cnn_model.output_shape[1:])) # the [1:] is necessary to allow for automatic batch dimension to be added by keras\n",
    "\n",
    "model.add(Dense(512,\n",
    "               activation = 'relu',\n",
    "               kernel_regularizer = regularizers.l2(0.01)))\n",
    "model.add(Dropout(0.2))\n",
    "model.add(Dense(256,\n",
    "               activation = 'relu',\n",
    "               kernel_regularizer = regularizers.l2(0.01)))\n",
    "model.add(Dropout(0.2))\n",
    "model.add(Dense(133, activation='softmax'))\n",
    "\n",
    "model.summary()\n",
    "\n",
    "print('assembling composite model...')\n",
    "ground_up_model.add(Xception_cnn_model)\n",
    "ground_up_model.add(model)\n",
    "\n",
    "for layer in ground_up_model.layers[0].layers:\n",
    "    layer.trainable = False\n",
    "\n",
    "\n",
    "print('compiling composite model...')\n",
    "\n",
    "# ground_up_1\n",
    "# ground_up_model.compile(loss='categorical_crossentropy',\n",
    "#              optimizer=optimizers.SGD(lr=1.0e-4, momentum=0.9),\n",
    "#              metrics=['accuracy'])\n",
    "\n",
    "ground_up_model.compile(loss='categorical_crossentropy',\n",
    "             optimizer='adam',\n",
    "             metrics=['accuracy'])\n",
    "print('done.')"
   ]
  },
  {
   "cell_type": "code",
   "execution_count": null,
   "metadata": {},
   "outputs": [],
   "source": [
    "# only run if resuming an old model training\n",
    "print('loading last iteration...')\n",
    "ground_up_model.load_weights(f'saved_models/weights.best.groundup_1.hdf5')\n",
    "print('done')"
   ]
  },
  {
   "cell_type": "code",
   "execution_count": null,
   "metadata": {},
   "outputs": [],
   "source": [
    "ground_up_model.history.history"
   ]
  },
  {
   "cell_type": "code",
   "execution_count": 51,
   "metadata": {},
   "outputs": [],
   "source": [
    "history = History()\n",
    "checkpointer = ModelCheckpoint(filepath=f'saved_models/weights.best.groundup_5.hdf5', \n",
    "                           verbose=1, save_best_only=True)"
   ]
  },
  {
   "cell_type": "code",
   "execution_count": 52,
   "metadata": {
    "scrolled": true
   },
   "outputs": [
    {
     "name": "stdout",
     "output_type": "stream",
     "text": [
      "Epoch 1/50\n",
      " - 241s - loss: 4.9473 - acc: 0.4134 - val_loss: 2.4836 - val_acc: 0.7375\n",
      "\n",
      "Epoch 00001: val_loss improved from inf to 2.48364, saving model to saved_models/weights.best.groundup_5.hdf5\n",
      "Epoch 2/50\n",
      " - 227s - loss: 2.6810 - acc: 0.6025 - val_loss: 2.1414 - val_acc: 0.7143\n",
      "\n",
      "Epoch 00002: val_loss improved from 2.48364 to 2.14144, saving model to saved_models/weights.best.groundup_5.hdf5\n",
      "Epoch 3/50\n",
      " - 229s - loss: 2.3994 - acc: 0.6346 - val_loss: 1.9457 - val_acc: 0.7411\n",
      "\n",
      "Epoch 00003: val_loss improved from 2.14144 to 1.94570, saving model to saved_models/weights.best.groundup_5.hdf5\n",
      "Epoch 4/50\n",
      " - 227s - loss: 2.2419 - acc: 0.6452 - val_loss: 1.8560 - val_acc: 0.7558\n",
      "\n",
      "Epoch 00004: val_loss improved from 1.94570 to 1.85595, saving model to saved_models/weights.best.groundup_5.hdf5\n",
      "Epoch 5/50\n",
      " - 226s - loss: 2.1597 - acc: 0.6509 - val_loss: 1.7477 - val_acc: 0.7680\n",
      "\n",
      "Epoch 00005: val_loss improved from 1.85595 to 1.74771, saving model to saved_models/weights.best.groundup_5.hdf5\n",
      "Epoch 6/50\n",
      " - 228s - loss: 2.0886 - acc: 0.6638 - val_loss: 1.6084 - val_acc: 0.8034\n",
      "\n",
      "Epoch 00006: val_loss improved from 1.74771 to 1.60835, saving model to saved_models/weights.best.groundup_5.hdf5\n",
      "Epoch 7/50\n",
      " - 228s - loss: 2.0169 - acc: 0.6680 - val_loss: 1.6432 - val_acc: 0.7839\n",
      "\n",
      "Epoch 00007: val_loss did not improve from 1.60835\n",
      "Epoch 8/50\n",
      " - 227s - loss: 1.9723 - acc: 0.6767 - val_loss: 1.6141 - val_acc: 0.7863\n",
      "\n",
      "Epoch 00008: val_loss did not improve from 1.60835\n",
      "Epoch 9/50\n",
      " - 224s - loss: 1.9337 - acc: 0.6811 - val_loss: 1.6111 - val_acc: 0.7717\n",
      "\n",
      "Epoch 00009: val_loss did not improve from 1.60835\n",
      "Epoch 10/50\n",
      " - 222s - loss: 1.9151 - acc: 0.6794 - val_loss: 1.5428 - val_acc: 0.8132\n",
      "\n",
      "Epoch 00010: val_loss improved from 1.60835 to 1.54280, saving model to saved_models/weights.best.groundup_5.hdf5\n",
      "Epoch 11/50\n",
      " - 224s - loss: 1.8739 - acc: 0.6924 - val_loss: 1.4687 - val_acc: 0.8071\n",
      "\n",
      "Epoch 00011: val_loss improved from 1.54280 to 1.46868, saving model to saved_models/weights.best.groundup_5.hdf5\n",
      "Epoch 12/50\n",
      " - 229s - loss: 1.8463 - acc: 0.6950 - val_loss: 1.4836 - val_acc: 0.8144\n",
      "\n",
      "Epoch 00012: val_loss did not improve from 1.46868\n",
      "Epoch 13/50\n",
      " - 228s - loss: 1.8471 - acc: 0.6848 - val_loss: 1.4720 - val_acc: 0.7888\n",
      "\n",
      "Epoch 00013: val_loss did not improve from 1.46868\n",
      "Epoch 14/50\n",
      " - 223s - loss: 1.7943 - acc: 0.7014 - val_loss: 1.4362 - val_acc: 0.8315\n",
      "\n",
      "Epoch 00014: val_loss improved from 1.46868 to 1.43618, saving model to saved_models/weights.best.groundup_5.hdf5\n",
      "Epoch 15/50\n",
      " - 219s - loss: 1.7834 - acc: 0.6959 - val_loss: 1.4222 - val_acc: 0.7863\n",
      "\n",
      "Epoch 00015: val_loss improved from 1.43618 to 1.42218, saving model to saved_models/weights.best.groundup_5.hdf5\n",
      "Epoch 16/50\n",
      " - 231s - loss: 1.7612 - acc: 0.6932 - val_loss: 1.4325 - val_acc: 0.7973\n",
      "\n",
      "Epoch 00016: val_loss did not improve from 1.42218\n",
      "Epoch 17/50\n",
      " - 235s - loss: 1.7489 - acc: 0.7064 - val_loss: 1.3113 - val_acc: 0.8352\n",
      "\n",
      "Epoch 00017: val_loss improved from 1.42218 to 1.31128, saving model to saved_models/weights.best.groundup_5.hdf5\n",
      "Epoch 18/50\n",
      " - 229s - loss: 1.7509 - acc: 0.7025 - val_loss: 1.3732 - val_acc: 0.8254\n",
      "\n",
      "Epoch 00018: val_loss did not improve from 1.31128\n",
      "Epoch 19/50\n",
      " - 225s - loss: 1.7173 - acc: 0.7010 - val_loss: 1.4747 - val_acc: 0.7692\n",
      "\n",
      "Epoch 00019: val_loss did not improve from 1.31128\n",
      "Epoch 20/50\n",
      " - 222s - loss: 1.7307 - acc: 0.6966 - val_loss: 1.4029 - val_acc: 0.7766\n",
      "\n",
      "Epoch 00020: val_loss did not improve from 1.31128\n",
      "Epoch 21/50\n",
      " - 223s - loss: 1.7136 - acc: 0.7031 - val_loss: 1.3702 - val_acc: 0.8071\n",
      "\n",
      "Epoch 00021: val_loss did not improve from 1.31128\n",
      "Epoch 22/50\n",
      " - 222s - loss: 1.6860 - acc: 0.7098 - val_loss: 1.3406 - val_acc: 0.8132\n",
      "\n",
      "Epoch 00022: val_loss did not improve from 1.31128\n",
      "Epoch 23/50\n",
      " - 226s - loss: 1.6848 - acc: 0.7101 - val_loss: 1.3345 - val_acc: 0.8083\n",
      "\n",
      "Epoch 00023: val_loss did not improve from 1.31128\n",
      "Epoch 24/50\n",
      " - 230s - loss: 1.6582 - acc: 0.7127 - val_loss: 1.2592 - val_acc: 0.8254\n",
      "\n",
      "Epoch 00024: val_loss improved from 1.31128 to 1.25925, saving model to saved_models/weights.best.groundup_5.hdf5\n",
      "Epoch 25/50\n",
      " - 228s - loss: 1.6548 - acc: 0.7097 - val_loss: 1.2185 - val_acc: 0.8352\n",
      "\n",
      "Epoch 00025: val_loss improved from 1.25925 to 1.21854, saving model to saved_models/weights.best.groundup_5.hdf5\n",
      "Epoch 26/50\n",
      " - 226s - loss: 1.6432 - acc: 0.7146 - val_loss: 1.4728 - val_acc: 0.7534\n",
      "\n",
      "Epoch 00026: val_loss did not improve from 1.21854\n",
      "Epoch 27/50\n",
      " - 227s - loss: 1.6286 - acc: 0.7164 - val_loss: 1.3299 - val_acc: 0.7851\n",
      "\n",
      "Epoch 00027: val_loss did not improve from 1.21854\n",
      "Epoch 28/50\n",
      " - 230s - loss: 1.6449 - acc: 0.7092 - val_loss: 1.2690 - val_acc: 0.8083\n",
      "\n",
      "Epoch 00028: val_loss did not improve from 1.21854\n",
      "Epoch 29/50\n",
      " - 225s - loss: 1.6238 - acc: 0.7100 - val_loss: 1.2858 - val_acc: 0.8156\n",
      "\n",
      "Epoch 00029: val_loss did not improve from 1.21854\n",
      "Epoch 30/50\n",
      " - 227s - loss: 1.6448 - acc: 0.7115 - val_loss: 1.3124 - val_acc: 0.7924\n",
      "\n",
      "Epoch 00030: val_loss did not improve from 1.21854\n",
      "Epoch 31/50\n",
      " - 227s - loss: 1.6187 - acc: 0.7085 - val_loss: 1.2701 - val_acc: 0.8107\n",
      "\n",
      "Epoch 00031: val_loss did not improve from 1.21854\n",
      "Epoch 32/50\n",
      " - 226s - loss: 1.5845 - acc: 0.7140 - val_loss: 1.2711 - val_acc: 0.8107\n",
      "\n",
      "Epoch 00032: val_loss did not improve from 1.21854\n",
      "Epoch 33/50\n",
      " - 227s - loss: 1.6115 - acc: 0.7040 - val_loss: 1.2776 - val_acc: 0.8132\n",
      "\n",
      "Epoch 00033: val_loss did not improve from 1.21854\n",
      "Epoch 34/50\n",
      " - 230s - loss: 1.6038 - acc: 0.7088 - val_loss: 1.2512 - val_acc: 0.8120\n",
      "\n",
      "Epoch 00034: val_loss did not improve from 1.21854\n",
      "Epoch 35/50\n",
      " - 224s - loss: 1.5941 - acc: 0.7146 - val_loss: 1.2428 - val_acc: 0.8107\n",
      "\n",
      "Epoch 00035: val_loss did not improve from 1.21854\n",
      "Epoch 36/50\n",
      " - 226s - loss: 1.5634 - acc: 0.7097 - val_loss: 1.2534 - val_acc: 0.8053\n",
      "\n",
      "Epoch 00036: val_loss did not improve from 1.21854\n",
      "Epoch 37/50\n",
      " - 227s - loss: 1.5651 - acc: 0.7212 - val_loss: 1.2060 - val_acc: 0.8107\n",
      "\n",
      "Epoch 00037: val_loss improved from 1.21854 to 1.20603, saving model to saved_models/weights.best.groundup_5.hdf5\n",
      "Epoch 38/50\n",
      " - 235s - loss: 1.5805 - acc: 0.7143 - val_loss: 1.2409 - val_acc: 0.8242\n",
      "\n",
      "Epoch 00038: val_loss did not improve from 1.20603\n",
      "Epoch 39/50\n",
      " - 228s - loss: 1.5604 - acc: 0.7185 - val_loss: 1.1966 - val_acc: 0.8291\n",
      "\n",
      "Epoch 00039: val_loss improved from 1.20603 to 1.19657, saving model to saved_models/weights.best.groundup_5.hdf5\n",
      "Epoch 40/50\n",
      " - 235s - loss: 1.5915 - acc: 0.7109 - val_loss: 1.2316 - val_acc: 0.8181\n",
      "\n",
      "Epoch 00040: val_loss did not improve from 1.19657\n",
      "Epoch 41/50\n",
      " - 226s - loss: 1.5537 - acc: 0.7211 - val_loss: 1.2678 - val_acc: 0.7998\n",
      "\n",
      "Epoch 00041: val_loss did not improve from 1.19657\n",
      "Epoch 42/50\n",
      " - 226s - loss: 1.5670 - acc: 0.7178 - val_loss: 1.2080 - val_acc: 0.8120\n",
      "\n",
      "Epoch 00042: val_loss did not improve from 1.19657\n",
      "Epoch 43/50\n",
      " - 234s - loss: 1.5304 - acc: 0.7232 - val_loss: 1.2140 - val_acc: 0.7949\n",
      "\n",
      "Epoch 00043: val_loss did not improve from 1.19657\n",
      "Epoch 44/50\n",
      " - 234s - loss: 1.5424 - acc: 0.7212 - val_loss: 1.2022 - val_acc: 0.8254\n",
      "\n",
      "Epoch 00044: val_loss did not improve from 1.19657\n",
      "Epoch 45/50\n",
      " - 226s - loss: 1.5670 - acc: 0.7146 - val_loss: 1.2003 - val_acc: 0.8120\n",
      "\n",
      "Epoch 00045: val_loss did not improve from 1.19657\n",
      "Epoch 46/50\n",
      " - 227s - loss: 1.5438 - acc: 0.7196 - val_loss: 1.2022 - val_acc: 0.8303\n",
      "\n",
      "Epoch 00046: val_loss did not improve from 1.19657\n",
      "Epoch 47/50\n",
      " - 227s - loss: 1.5562 - acc: 0.7139 - val_loss: 1.1732 - val_acc: 0.8193\n",
      "\n",
      "Epoch 00047: val_loss improved from 1.19657 to 1.17323, saving model to saved_models/weights.best.groundup_5.hdf5\n",
      "Epoch 48/50\n",
      " - 232s - loss: 1.5204 - acc: 0.7260 - val_loss: 1.2068 - val_acc: 0.8193\n",
      "\n",
      "Epoch 00048: val_loss did not improve from 1.17323\n",
      "Epoch 49/50\n",
      " - 228s - loss: 1.5453 - acc: 0.7235 - val_loss: 1.1705 - val_acc: 0.8266\n",
      "\n",
      "Epoch 00049: val_loss improved from 1.17323 to 1.17048, saving model to saved_models/weights.best.groundup_5.hdf5\n",
      "Epoch 50/50\n",
      " - 227s - loss: 1.5184 - acc: 0.7274 - val_loss: 1.2169 - val_acc: 0.8144\n",
      "\n",
      "Epoch 00050: val_loss did not improve from 1.17048\n",
      "Wall time: 3h 9min 49s\n"
     ]
    },
    {
     "data": {
      "text/plain": [
       "<keras.callbacks.History at 0x1cea8713208>"
      ]
     },
     "execution_count": 52,
     "metadata": {},
     "output_type": "execute_result"
    }
   ],
   "source": [
    "%%time\n",
    "ground_up_model.fit_generator(\n",
    "    train_generator,\n",
    "    steps_per_epoch = 6680 // batch_size,\n",
    "    epochs = 50,\n",
    "    validation_data = validation_generator,\n",
    "    validation_steps = 835 // batch_size,\n",
    "    callbacks = [checkpointer, history],\n",
    "    verbose=2)"
   ]
  },
  {
   "cell_type": "code",
   "execution_count": 53,
   "metadata": {},
   "outputs": [
    {
     "name": "stdout",
     "output_type": "stream",
     "text": [
      "This model achieved a max validation accuracy of 0.8351648352376125\n"
     ]
    },
    {
     "data": {
      "image/png": "[encoded data removed]",
      "text/plain": [
       "<Figure size 432x288 with 2 Axes>"
      ]
     },
     "metadata": {
      "needs_background": "light"
     },
     "output_type": "display_data"
    }
   ],
   "source": [
    "import matplotlib.pyplot as plt\n",
    "import seaborn as sns\n",
    "\n",
    "epochs = range(len(history.history['acc']))\n",
    "\n",
    "fig, (ax1, ax2) = plt.subplots(nrows = 1, ncols = 2)\n",
    "\n",
    "sns.lineplot(x = epochs, y=history.history['acc'], ax=ax1, label = 'acc')\n",
    "sns.lineplot(x = epochs, y=history.history['val_acc'], ax=ax1, label = 'val_acc')\n",
    "ax1.set_ylim(0, 1.05);\n",
    "ax1.set_title('Rolling accuracy');\n",
    "\n",
    "sns.lineplot(x = epochs, y=history.history['loss'], ax=ax2, label = 'loss')\n",
    "sns.lineplot(x = epochs, y=history.history['val_loss'], ax=ax2, label = 'val_loss')\n",
    "#ax[1].set_ylim(.5, 1.05);\n",
    "ax2.set_title('Rolling loss');\n",
    "\n",
    "fig.suptitle(f'ground-up training metrics', fontsize = 16);\n",
    "max_val_acc = max(history.history['val_acc'])\n",
    "\n",
    "print(f'This model achieved a max validation accuracy of {max_val_acc}')"
   ]
  },
  {
   "cell_type": "code",
   "execution_count": 54,
   "metadata": {},
   "outputs": [
    {
     "data": {
      "text/plain": [
       "<Figure size 432x288 with 0 Axes>"
      ]
     },
     "metadata": {},
     "output_type": "display_data"
    }
   ],
   "source": [
    "plt.savefig('ground_up_5_training.png')"
   ]
  },
  {
   "cell_type": "markdown",
   "metadata": {},
   "source": [
    "ground_up_1 achieved 81.4% val accuracy after 109 epochs, and it looks like it was still possibly going up!\n",
    "\n",
    "changing to adam for ground_up_2... 84.5% accuracy, very quickly (98% max at ~50 epochs)\n",
    "\n",
    "changing to reduce dropout from (.5, .5) to (.4, .4) for ground_up_3... reached max accuracy of 83.9% in 20 epochs\n",
    "\n",
    "changing to try l1 regularization for ground_up_3... did shitty\n",
    "\n",
    "adding layer for ground_up_4... did shitty\n",
    "\n",
    "changing dropout to (.2, .2) for ground_up_5"
   ]
  },
  {
   "cell_type": "code",
   "execution_count": 82,
   "metadata": {},
   "outputs": [
    {
     "name": "stdout",
     "output_type": "stream",
     "text": [
      "Found 836 images belonging to 133 classes.\n"
     ]
    }
   ],
   "source": [
    "test_generator = test_datagen.flow_from_directory(\n",
    "    'dogImages/test',\n",
    "    target_size = (299, 299),\n",
    "    batch_size = 1,\n",
    "    class_mode = 'categorical',\n",
    "    shuffle = False)\n",
    "\n",
    "filenames = test_generator.filenames\n",
    "nb_samples = len(filenames)\n",
    "\n",
    "predict = ground_up_model.predict_generator(test_generator,steps = nb_samples)"
   ]
  },
  {
   "cell_type": "code",
   "execution_count": 106,
   "metadata": {},
   "outputs": [
    {
     "name": "stdout",
     "output_type": "stream",
     "text": [
      "Test accuracy: 81.9378%\n"
     ]
    }
   ],
   "source": [
    "prediction_labels = np.array([np.argmax(x) for x in predict])\n",
    "test_accuracy = np.sum(test_generator.labels == prediction_labels)/len(test_generator.labels) * 100\n",
    "\n",
    "print('Test accuracy: %.4f%%' % test_accuracy)"
   ]
  },
  {
   "cell_type": "code",
   "execution_count": 200,
   "metadata": {},
   "outputs": [],
   "source": [
    "def final_predict_xception(final_model, img_path, topk = 3):\n",
    "    \n",
    "    # obtain predicted vector\n",
    "    #tensor = path_to_tensor(img_path, (299, 299)).astype('float32')/255\n",
    "    img = load_img(img_path, target_size = (299, 299))\n",
    "    x = img_to_array(img)\n",
    "    x = np.expand_dims(x, axis = 0)\n",
    "    y = xception.preprocess_input(x)/255\n",
    "    predicted_vector = final_model.predict(y)\n",
    "    \n",
    "    # return dog breed that is predicted by the model\n",
    "    results = sorted(enumerate(predicted_vector[0]), reverse=True, key=lambda x:x[1])\n",
    "    classes_ind = [x[0] for x in results]\n",
    "    classes = [dog_names[x] for x in classes_ind][:topk]\n",
    "    probs = [x[1] for x in results][:topk]\n",
    "    \n",
    "    # plot results\n",
    "    fig, (ax1, ax2) = plt.subplots(1, 2, figsize=(10,5))\n",
    "    \n",
    "    img = mpimg.imread(img_path)\n",
    "    ax1.imshow(img)\n",
    "    \n",
    "    ind = np.arange(len(classes))\n",
    "    ax2.bar(ind, probs, align='center', alpha = .75)\n",
    "    ax2.set_xticks(ind)\n",
    "    ax2.set_xticklabels(classes, rotation=90)\n",
    "    \n",
    "    return predicted_vector, y"
   ]
  },
  {
   "cell_type": "code",
   "execution_count": 201,
   "metadata": {},
   "outputs": [
    {
     "name": "stdout",
     "output_type": "stream",
     "text": [
      "Old_english_sheepdog\n"
     ]
    },
    {
     "data": {
      "image/png": "[encoded data removed]",
      "text/plain": [
       "<Figure size 720x360 with 2 Axes>"
      ]
     },
     "metadata": {
      "needs_background": "light"
     },
     "output_type": "display_data"
    }
   ],
   "source": [
    "src = 'C:/Users/Jesse/Documents/PyData/DSND_t2_capstone/dog-project/dogImages/test'\n",
    "folder = random.choice(os.listdir(src))\n",
    "file = random.choice(os.listdir(src+'/'+folder))\n",
    "fullpath = '/'.join([src, folder, file])\n",
    "\n",
    "p_vec, xtens = final_predict_xception(ground_up_model, fullpath, topk = 5)\n",
    "\n",
    "print(fullpath.split('/')[-2].split('.')[-1])"
   ]
  },
  {
   "cell_type": "markdown",
   "metadata": {},
   "source": [
    "### (IMPLEMENTATION) Predict Dog Breed with the Model\n",
    "\n",
    "Write a function that takes an image path as input and returns the dog breed (`Affenpinscher`, `Afghan_hound`, etc) that is predicted by your model.  \n",
    "\n",
    "Similar to the analogous function in Step 5, your function should have three steps:\n",
    "1. Extract the bottleneck features corresponding to the chosen CNN model.\n",
    "2. Supply the bottleneck features as input to the model to return the predicted vector.  Note that the argmax of this prediction vector gives the index of the predicted dog breed.\n",
    "3. Use the `dog_names` array defined in Step 0 of this notebook to return the corresponding breed.\n",
    "\n",
    "The functions to extract the bottleneck features can be found in `extract_bottleneck_features.py`, and they have been imported in an earlier code cell.  To obtain the bottleneck features corresponding to your chosen CNN architecture, you need to use the function\n",
    "\n",
    "    extract_{network}\n",
    "    \n",
    "where `{network}`, in the above filename, should be one of `VGG19`, `Resnet50`, `InceptionV3`, or `Xception`."
   ]
  },
  {
   "cell_type": "code",
   "execution_count": null,
   "metadata": {},
   "outputs": [],
   "source": [
    "custom_model.load_weights(f'saved_models/weights.best.{net}.hdf5')"
   ]
  },
  {
   "cell_type": "code",
   "execution_count": null,
   "metadata": {},
   "outputs": [],
   "source": [
    "# Write a function that takes a path to an image as input\n",
    "### and returns the dog breed that is predicted by the model.\n",
    "\n",
    "print('building model')\n",
    "final_model = Sequential()\n",
    "\n",
    "ResNet50_cnn_model = ResNet50(weights='imagenet', include_top=False)\n",
    "custom_model.load_weights(f'saved_models/weights.best.{net}.hdf5')\n",
    "\n",
    "final_model.add(ResNet50_cnn_model)\n",
    "final_model.add(custom_model)\n",
    "\n",
    "final_model.summary()\n",
    "final_model.save('saved_models/final_model.h5')"
   ]
  },
  {
   "cell_type": "code",
   "execution_count": null,
   "metadata": {},
   "outputs": [],
   "source": [
    "%matplotlib inline\n",
    "from keras.applications.resnet50 import preprocess_input\n",
    "\n",
    "def final_predict(img_path, topk = 3):\n",
    "    \n",
    "    # obtain predicted vector\n",
    "    \n",
    "    predicted_vector = final_model.predict(preprocess_input(path_to_tensor(img_path)))\n",
    "    \n",
    "    # return dog breed that is predicted by the model\n",
    "    # print(dog_names[np.argmax(predicted_vector)])\n",
    "    results = sorted(enumerate(predicted_vector[0]), reverse=True, key=lambda x:x[1])\n",
    "    classes_ind = [x[0] for x in results]\n",
    "    classes = [dog_names[x] for x in classes_ind][:topk]\n",
    "    probs = [x[1] for x in results][:topk]\n",
    "    \n",
    "    # plot results\n",
    "    fig, (ax1, ax2) = plt.subplots(1, 2, figsize=(10,5))\n",
    "    \n",
    "    img = mpimg.imread(img_path)\n",
    "    ax1.imshow(img)\n",
    "    \n",
    "    ind = np.arange(len(classes))\n",
    "    ax2.bar(ind, probs, align='center', alpha = .75)\n",
    "    ax2.set_xticks(ind)\n",
    "    ax2.set_xticklabels(classes, rotation=90)\n",
    "    #fig.suptitle(img_path.split('/')[-2].split('.')[-1], fontsize=16)"
   ]
  },
  {
   "cell_type": "code",
   "execution_count": null,
   "metadata": {},
   "outputs": [],
   "source": []
  },
  {
   "cell_type": "code",
   "execution_count": null,
   "metadata": {},
   "outputs": [],
   "source": [
    "import os, random\n",
    "src = 'C:/Users/Jesse/Documents/PyData/DSND_t2_capstone/dog-project/dogImages/test'\n",
    "folder = random.choice(os.listdir(src))\n",
    "file = random.choice(os.listdir(src+'/'+folder))\n",
    "fullpath = '/'.join([src, folder, file])\n",
    "\n",
    "final_predict(fullpath, topk = 5)\n",
    "\n",
    "print(fullpath.split('/')[-2].split('.')[-1])"
   ]
  },
  {
   "cell_type": "markdown",
   "metadata": {},
   "source": [
    "---\n",
    "<a id='step6'></a>\n",
    "## Step 6: Write your Algorithm\n",
    "\n",
    "Write an algorithm that accepts a file path to an image and first determines whether the image contains a human, dog, or neither.  Then,\n",
    "- if a __dog__ is detected in the image, return the predicted breed.\n",
    "- if a __human__ is detected in the image, return the resembling dog breed.\n",
    "- if __neither__ is detected in the image, provide output that indicates an error.\n",
    "\n",
    "You are welcome to write your own functions for detecting humans and dogs in images, but feel free to use the `face_detector` and `dog_detector` functions developed above.  You are __required__ to use your CNN from Step 5 to predict dog breed.  \n",
    "\n",
    "Some sample output for our algorithm is provided below, but feel free to design your own user experience!\n",
    "\n",
    "![Sample Human Output](images/sample_human_output.png)\n",
    "\n",
    "\n",
    "### (IMPLEMENTATION) Write your Algorithm"
   ]
  },
  {
   "cell_type": "code",
   "execution_count": null,
   "metadata": {},
   "outputs": [],
   "source": [
    "# Write algorithm for image processing pipeline\n",
    "\n",
    "def full_image_process(img_path, topk = 5):\n",
    "    dog_present = False\n",
    "    human_present = False\n",
    "    \n",
    "    # detect dog\n",
    "    if dog_detector(img_path):\n",
    "        print('Dog found!')\n",
    "        dog_present = True\n",
    "        \n",
    "    # detect human    \n",
    "    elif face_detector(img_path):\n",
    "        human_present = True\n",
    "        print('Human found!')\n",
    "        print('You look like a:')\n",
    "    \n",
    "    # if one: match with dog\n",
    "    if dog_present or human_present:\n",
    "        final_predict(img_path, topk = topk)\n",
    "        \n",
    "    # if neither, output error\n",
    "    else:\n",
    "        print('No human or dog detected')"
   ]
  },
  {
   "cell_type": "markdown",
   "metadata": {},
   "source": [
    "---\n",
    "<a id='step7'></a>\n",
    "## Step 7: Test Your Algorithm\n",
    "\n",
    "In this section, you will take your new algorithm for a spin!  What kind of dog does the algorithm think that __you__ look like?  If you have a dog, does it predict your dog's breed accurately?  If you have a cat, does it mistakenly think that your cat is a dog?\n",
    "\n",
    "### (IMPLEMENTATION) Test Your Algorithm on Sample Images!\n",
    "\n",
    "Test your algorithm at least six images on your computer.  Feel free to use any images you like.  Use at least two human and two dog images.  \n",
    "\n",
    "__Question 6:__ Is the output better than you expected :) ?  Or worse :( ?  Provide at least three possible points of improvement for your algorithm.\n",
    "\n",
    "__Answer:__ "
   ]
  },
  {
   "cell_type": "code",
   "execution_count": null,
   "metadata": {},
   "outputs": [],
   "source": [
    "fullpath = 'C:/Users/Jesse/Pictures/shetland-sheepdog.jpg'\n",
    "full_image_process(fullpath)"
   ]
  },
  {
   "cell_type": "code",
   "execution_count": null,
   "metadata": {},
   "outputs": [],
   "source": [
    "fullpath = 'C:/Users/Jesse/Pictures/comboburst_vm-2.png'\n",
    "full_image_process(fullpath)"
   ]
  },
  {
   "cell_type": "code",
   "execution_count": null,
   "metadata": {},
   "outputs": [],
   "source": [
    "fullpath = 'C:/Users/Jesse/Pictures/cat.jpg'\n",
    "full_image_process(fullpath)"
   ]
  },
  {
   "cell_type": "code",
   "execution_count": null,
   "metadata": {},
   "outputs": [],
   "source": [
    "fullpath = 'C:/Users/Jesse/Pictures/Sammoyed.jpg'\n",
    "full_image_process(fullpath)"
   ]
  },
  {
   "cell_type": "code",
   "execution_count": null,
   "metadata": {},
   "outputs": [],
   "source": [
    "fullpath = 'C:/Users/Jesse/Pictures/13350418_10208198628915224_1099927911405740637_o.jpg'\n",
    "full_image_process(fullpath)"
   ]
  },
  {
   "cell_type": "code",
   "execution_count": null,
   "metadata": {},
   "outputs": [],
   "source": [
    "fullpath = 'C:/Users/Jesse/Pictures/husky.jpg'\n",
    "full_image_process(fullpath)"
   ]
  },
  {
   "cell_type": "markdown",
   "metadata": {},
   "source": [
    "# Next steps\n",
    "- add breeds to training, testing, and validation. This model currently uses 133 classes, but there are 300+ breeds I would like to be able to evaluate\n",
    "- keep working on custom model\n",
    "    - try adding workers to speed up; may involve changing the training generator to import keras. find stackoverflow post\n",
    "- create simple android app which utilizes full model"
   ]
  },
  {
   "cell_type": "code",
   "execution_count": null,
   "metadata": {},
   "outputs": [],
   "source": []
  }
 ],
 "metadata": {
  "anaconda-cloud": {},
  "kernelspec": {
   "display_name": "Python (testenv)",
   "language": "python",
   "name": "testenv"
  },
  "language_info": {
   "codemirror_mode": {
    "name": "ipython",
    "version": 3
   },
   "file_extension": ".py",
   "mimetype": "text/x-python",
   "name": "python",
   "nbconvert_exporter": "python",
   "pygments_lexer": "ipython3",
   "version": "3.7.3"
  }
 },
 "nbformat": 4,
 "nbformat_minor": 2
}
